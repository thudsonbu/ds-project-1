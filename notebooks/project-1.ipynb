{
 "cells": [
  {
   "cell_type": "markdown",
   "source": [
    "# Comparing COVID-19 Cases with Election Results"
   ],
   "metadata": {}
  },
  {
   "cell_type": "markdown",
   "source": [
    "# Todo\n",
    "## Needed\n",
    "- hypothesis tests\n",
    "- check comments to make sure they still make sense\n",
    "\n",
    "## Nice To Have\n",
    "- perform usual tests required before regression\n",
    "- describe regression results with accurate language"
   ],
   "metadata": {}
  },
  {
   "cell_type": "markdown",
   "source": [
    "# ETL"
   ],
   "metadata": {}
  },
  {
   "cell_type": "markdown",
   "source": [
    "### Import Utils"
   ],
   "metadata": {}
  },
  {
   "cell_type": "code",
   "execution_count": 1,
   "source": [
    "import math\r\n",
    "import scipy\r\n",
    "import pandas  as pd\r\n",
    "import numpy   as np\r\n",
    "import seaborn as sns\r\n",
    "import matplotlib.pyplot as plt\r\n",
    "from scipy import stats\r\n",
    "import statsmodels.api as sm\r\n",
    "import pylab as py"
   ],
   "outputs": [],
   "metadata": {}
  },
  {
   "cell_type": "markdown",
   "source": [
    "### Import Data"
   ],
   "metadata": {}
  },
  {
   "cell_type": "markdown",
   "source": [
    "Below are the `covid_confirmed_usafacts`, `npr-2016-election-data`, and `covid_county_population_usafacts` datasets used for our analysis. "
   ],
   "metadata": {}
  },
  {
   "cell_type": "code",
   "execution_count": 2,
   "source": [
    "covid_confirmed_facts    = pd.read_csv('../data/covid_confirmed_usafacts.csv')\r\n",
    "election_data            = pd.read_csv('../data/npr-2016-election-data.csv')\r\n",
    "covid_county_population  = pd.read_csv('../data/covid_county_population_usafacts.csv')"
   ],
   "outputs": [],
   "metadata": {}
  },
  {
   "cell_type": "markdown",
   "source": [
    "### Covid Cases Data Quality Check\n",
    "After import we take a peek at the top few rows of our covid cases data in the `covid_confirmed_facts` dataframe. "
   ],
   "metadata": {}
  },
  {
   "cell_type": "code",
   "execution_count": 3,
   "source": [
    "covid_confirmed_facts.head()"
   ],
   "outputs": [
    {
     "output_type": "execute_result",
     "data": {
      "text/plain": [
       "   countyFIPS            County Name State  StateFIPS  2020-01-22  2020-01-23  \\\n",
       "0           0  Statewide Unallocated    AL          1           0           0   \n",
       "1        1001        Autauga County     AL          1           0           0   \n",
       "2        1003        Baldwin County     AL          1           0           0   \n",
       "3        1005        Barbour County     AL          1           0           0   \n",
       "4        1007           Bibb County     AL          1           0           0   \n",
       "\n",
       "   2020-01-24  2020-01-25  2020-01-26  2020-01-27  ...  2021-07-12  \\\n",
       "0           0           0           0           0  ...           0   \n",
       "1           0           0           0           0  ...        7306   \n",
       "2           0           0           0           0  ...       22337   \n",
       "3           0           0           0           0  ...        2367   \n",
       "4           0           0           0           0  ...        2704   \n",
       "\n",
       "   2021-07-13  2021-07-14  2021-07-15  2021-07-16  2021-07-17  2021-07-18  \\\n",
       "0           0           0           0           0           0           0   \n",
       "1        7306        7320        7329        7341        7346        7347   \n",
       "2       22337       22464       22556       22642       22734       22802   \n",
       "3        2367        2373        2377        2386        2389        2394   \n",
       "4        2704        2708        2713        2719        2721        2727   \n",
       "\n",
       "   2021-07-19  2021-07-20  2021-07-21  \n",
       "0           0           0           0  \n",
       "1        7350        7365        7375  \n",
       "2       22876       23032       23184  \n",
       "3        2396        2411        2415  \n",
       "4        2733        2747        2753  \n",
       "\n",
       "[5 rows x 551 columns]"
      ],
      "text/html": [
       "<div>\n",
       "<style scoped>\n",
       "    .dataframe tbody tr th:only-of-type {\n",
       "        vertical-align: middle;\n",
       "    }\n",
       "\n",
       "    .dataframe tbody tr th {\n",
       "        vertical-align: top;\n",
       "    }\n",
       "\n",
       "    .dataframe thead th {\n",
       "        text-align: right;\n",
       "    }\n",
       "</style>\n",
       "<table border=\"1\" class=\"dataframe\">\n",
       "  <thead>\n",
       "    <tr style=\"text-align: right;\">\n",
       "      <th></th>\n",
       "      <th>countyFIPS</th>\n",
       "      <th>County Name</th>\n",
       "      <th>State</th>\n",
       "      <th>StateFIPS</th>\n",
       "      <th>2020-01-22</th>\n",
       "      <th>2020-01-23</th>\n",
       "      <th>2020-01-24</th>\n",
       "      <th>2020-01-25</th>\n",
       "      <th>2020-01-26</th>\n",
       "      <th>2020-01-27</th>\n",
       "      <th>...</th>\n",
       "      <th>2021-07-12</th>\n",
       "      <th>2021-07-13</th>\n",
       "      <th>2021-07-14</th>\n",
       "      <th>2021-07-15</th>\n",
       "      <th>2021-07-16</th>\n",
       "      <th>2021-07-17</th>\n",
       "      <th>2021-07-18</th>\n",
       "      <th>2021-07-19</th>\n",
       "      <th>2021-07-20</th>\n",
       "      <th>2021-07-21</th>\n",
       "    </tr>\n",
       "  </thead>\n",
       "  <tbody>\n",
       "    <tr>\n",
       "      <th>0</th>\n",
       "      <td>0</td>\n",
       "      <td>Statewide Unallocated</td>\n",
       "      <td>AL</td>\n",
       "      <td>1</td>\n",
       "      <td>0</td>\n",
       "      <td>0</td>\n",
       "      <td>0</td>\n",
       "      <td>0</td>\n",
       "      <td>0</td>\n",
       "      <td>0</td>\n",
       "      <td>...</td>\n",
       "      <td>0</td>\n",
       "      <td>0</td>\n",
       "      <td>0</td>\n",
       "      <td>0</td>\n",
       "      <td>0</td>\n",
       "      <td>0</td>\n",
       "      <td>0</td>\n",
       "      <td>0</td>\n",
       "      <td>0</td>\n",
       "      <td>0</td>\n",
       "    </tr>\n",
       "    <tr>\n",
       "      <th>1</th>\n",
       "      <td>1001</td>\n",
       "      <td>Autauga County</td>\n",
       "      <td>AL</td>\n",
       "      <td>1</td>\n",
       "      <td>0</td>\n",
       "      <td>0</td>\n",
       "      <td>0</td>\n",
       "      <td>0</td>\n",
       "      <td>0</td>\n",
       "      <td>0</td>\n",
       "      <td>...</td>\n",
       "      <td>7306</td>\n",
       "      <td>7306</td>\n",
       "      <td>7320</td>\n",
       "      <td>7329</td>\n",
       "      <td>7341</td>\n",
       "      <td>7346</td>\n",
       "      <td>7347</td>\n",
       "      <td>7350</td>\n",
       "      <td>7365</td>\n",
       "      <td>7375</td>\n",
       "    </tr>\n",
       "    <tr>\n",
       "      <th>2</th>\n",
       "      <td>1003</td>\n",
       "      <td>Baldwin County</td>\n",
       "      <td>AL</td>\n",
       "      <td>1</td>\n",
       "      <td>0</td>\n",
       "      <td>0</td>\n",
       "      <td>0</td>\n",
       "      <td>0</td>\n",
       "      <td>0</td>\n",
       "      <td>0</td>\n",
       "      <td>...</td>\n",
       "      <td>22337</td>\n",
       "      <td>22337</td>\n",
       "      <td>22464</td>\n",
       "      <td>22556</td>\n",
       "      <td>22642</td>\n",
       "      <td>22734</td>\n",
       "      <td>22802</td>\n",
       "      <td>22876</td>\n",
       "      <td>23032</td>\n",
       "      <td>23184</td>\n",
       "    </tr>\n",
       "    <tr>\n",
       "      <th>3</th>\n",
       "      <td>1005</td>\n",
       "      <td>Barbour County</td>\n",
       "      <td>AL</td>\n",
       "      <td>1</td>\n",
       "      <td>0</td>\n",
       "      <td>0</td>\n",
       "      <td>0</td>\n",
       "      <td>0</td>\n",
       "      <td>0</td>\n",
       "      <td>0</td>\n",
       "      <td>...</td>\n",
       "      <td>2367</td>\n",
       "      <td>2367</td>\n",
       "      <td>2373</td>\n",
       "      <td>2377</td>\n",
       "      <td>2386</td>\n",
       "      <td>2389</td>\n",
       "      <td>2394</td>\n",
       "      <td>2396</td>\n",
       "      <td>2411</td>\n",
       "      <td>2415</td>\n",
       "    </tr>\n",
       "    <tr>\n",
       "      <th>4</th>\n",
       "      <td>1007</td>\n",
       "      <td>Bibb County</td>\n",
       "      <td>AL</td>\n",
       "      <td>1</td>\n",
       "      <td>0</td>\n",
       "      <td>0</td>\n",
       "      <td>0</td>\n",
       "      <td>0</td>\n",
       "      <td>0</td>\n",
       "      <td>0</td>\n",
       "      <td>...</td>\n",
       "      <td>2704</td>\n",
       "      <td>2704</td>\n",
       "      <td>2708</td>\n",
       "      <td>2713</td>\n",
       "      <td>2719</td>\n",
       "      <td>2721</td>\n",
       "      <td>2727</td>\n",
       "      <td>2733</td>\n",
       "      <td>2747</td>\n",
       "      <td>2753</td>\n",
       "    </tr>\n",
       "  </tbody>\n",
       "</table>\n",
       "<p>5 rows × 551 columns</p>\n",
       "</div>"
      ]
     },
     "metadata": {},
     "execution_count": 3
    }
   ],
   "metadata": {}
  },
  {
   "cell_type": "code",
   "execution_count": 4,
   "source": [
    "covid_confirmed_facts.isnull().sum()"
   ],
   "outputs": [
    {
     "output_type": "execute_result",
     "data": {
      "text/plain": [
       "countyFIPS     0\n",
       "County Name    0\n",
       "State          0\n",
       "StateFIPS      0\n",
       "2020-01-22     0\n",
       "              ..\n",
       "2021-07-17     0\n",
       "2021-07-18     0\n",
       "2021-07-19     0\n",
       "2021-07-20     0\n",
       "2021-07-21     0\n",
       "Length: 551, dtype: int64"
      ]
     },
     "metadata": {},
     "execution_count": 4
    }
   ],
   "metadata": {}
  },
  {
   "cell_type": "markdown",
   "source": [
    "We see that the expected columns and data appear to have been imported correctly in the first output and that there are no missing values in the second. We will not need to fill in any data."
   ],
   "metadata": {}
  },
  {
   "cell_type": "markdown",
   "source": [
    "### Population Data Quality Check\n",
    "Just as we had with the cases data we take a look at our population data in the `covid_county_population` dataframe."
   ],
   "metadata": {}
  },
  {
   "cell_type": "code",
   "execution_count": 5,
   "source": [
    "covid_county_population.head()"
   ],
   "outputs": [
    {
     "output_type": "execute_result",
     "data": {
      "text/plain": [
       "   countyFIPS            County Name State  population\n",
       "0           0  Statewide Unallocated    AL           0\n",
       "1        1001         Autauga County    AL       55869\n",
       "2        1003         Baldwin County    AL      223234\n",
       "3        1005         Barbour County    AL       24686\n",
       "4        1007            Bibb County    AL       22394"
      ],
      "text/html": [
       "<div>\n",
       "<style scoped>\n",
       "    .dataframe tbody tr th:only-of-type {\n",
       "        vertical-align: middle;\n",
       "    }\n",
       "\n",
       "    .dataframe tbody tr th {\n",
       "        vertical-align: top;\n",
       "    }\n",
       "\n",
       "    .dataframe thead th {\n",
       "        text-align: right;\n",
       "    }\n",
       "</style>\n",
       "<table border=\"1\" class=\"dataframe\">\n",
       "  <thead>\n",
       "    <tr style=\"text-align: right;\">\n",
       "      <th></th>\n",
       "      <th>countyFIPS</th>\n",
       "      <th>County Name</th>\n",
       "      <th>State</th>\n",
       "      <th>population</th>\n",
       "    </tr>\n",
       "  </thead>\n",
       "  <tbody>\n",
       "    <tr>\n",
       "      <th>0</th>\n",
       "      <td>0</td>\n",
       "      <td>Statewide Unallocated</td>\n",
       "      <td>AL</td>\n",
       "      <td>0</td>\n",
       "    </tr>\n",
       "    <tr>\n",
       "      <th>1</th>\n",
       "      <td>1001</td>\n",
       "      <td>Autauga County</td>\n",
       "      <td>AL</td>\n",
       "      <td>55869</td>\n",
       "    </tr>\n",
       "    <tr>\n",
       "      <th>2</th>\n",
       "      <td>1003</td>\n",
       "      <td>Baldwin County</td>\n",
       "      <td>AL</td>\n",
       "      <td>223234</td>\n",
       "    </tr>\n",
       "    <tr>\n",
       "      <th>3</th>\n",
       "      <td>1005</td>\n",
       "      <td>Barbour County</td>\n",
       "      <td>AL</td>\n",
       "      <td>24686</td>\n",
       "    </tr>\n",
       "    <tr>\n",
       "      <th>4</th>\n",
       "      <td>1007</td>\n",
       "      <td>Bibb County</td>\n",
       "      <td>AL</td>\n",
       "      <td>22394</td>\n",
       "    </tr>\n",
       "  </tbody>\n",
       "</table>\n",
       "</div>"
      ]
     },
     "metadata": {},
     "execution_count": 5
    }
   ],
   "metadata": {}
  },
  {
   "cell_type": "code",
   "execution_count": 6,
   "source": [
    "covid_county_population.isnull().sum()"
   ],
   "outputs": [
    {
     "output_type": "execute_result",
     "data": {
      "text/plain": [
       "countyFIPS     0\n",
       "County Name    0\n",
       "State          0\n",
       "population     0\n",
       "dtype: int64"
      ]
     },
     "metadata": {},
     "execution_count": 6
    }
   ],
   "metadata": {}
  },
  {
   "cell_type": "markdown",
   "source": [
    "As with the case data, the columns appear to be correct and there are now missing values."
   ],
   "metadata": {}
  },
  {
   "cell_type": "markdown",
   "source": [
    "### Election Data Quality Check"
   ],
   "metadata": {}
  },
  {
   "cell_type": "markdown",
   "source": [
    "Finally we check our election data in the `election_data` dataframe."
   ],
   "metadata": {}
  },
  {
   "cell_type": "code",
   "execution_count": 7,
   "source": [
    "election_data.head()"
   ],
   "outputs": [
    {
     "output_type": "execute_result",
     "data": {
      "text/plain": [
       "  State  Clinton  Trump\n",
       "0    AK       38     53\n",
       "1    AL       35     63\n",
       "2    AR       34     60\n",
       "3    AZ       45     50\n",
       "4    CA       62     33"
      ],
      "text/html": [
       "<div>\n",
       "<style scoped>\n",
       "    .dataframe tbody tr th:only-of-type {\n",
       "        vertical-align: middle;\n",
       "    }\n",
       "\n",
       "    .dataframe tbody tr th {\n",
       "        vertical-align: top;\n",
       "    }\n",
       "\n",
       "    .dataframe thead th {\n",
       "        text-align: right;\n",
       "    }\n",
       "</style>\n",
       "<table border=\"1\" class=\"dataframe\">\n",
       "  <thead>\n",
       "    <tr style=\"text-align: right;\">\n",
       "      <th></th>\n",
       "      <th>State</th>\n",
       "      <th>Clinton</th>\n",
       "      <th>Trump</th>\n",
       "    </tr>\n",
       "  </thead>\n",
       "  <tbody>\n",
       "    <tr>\n",
       "      <th>0</th>\n",
       "      <td>AK</td>\n",
       "      <td>38</td>\n",
       "      <td>53</td>\n",
       "    </tr>\n",
       "    <tr>\n",
       "      <th>1</th>\n",
       "      <td>AL</td>\n",
       "      <td>35</td>\n",
       "      <td>63</td>\n",
       "    </tr>\n",
       "    <tr>\n",
       "      <th>2</th>\n",
       "      <td>AR</td>\n",
       "      <td>34</td>\n",
       "      <td>60</td>\n",
       "    </tr>\n",
       "    <tr>\n",
       "      <th>3</th>\n",
       "      <td>AZ</td>\n",
       "      <td>45</td>\n",
       "      <td>50</td>\n",
       "    </tr>\n",
       "    <tr>\n",
       "      <th>4</th>\n",
       "      <td>CA</td>\n",
       "      <td>62</td>\n",
       "      <td>33</td>\n",
       "    </tr>\n",
       "  </tbody>\n",
       "</table>\n",
       "</div>"
      ]
     },
     "metadata": {},
     "execution_count": 7
    }
   ],
   "metadata": {}
  },
  {
   "cell_type": "code",
   "execution_count": 8,
   "source": [
    "election_data.isnull().sum()"
   ],
   "outputs": [
    {
     "output_type": "execute_result",
     "data": {
      "text/plain": [
       "State      0\n",
       "Clinton    0\n",
       "Trump      0\n",
       "dtype: int64"
      ]
     },
     "metadata": {},
     "execution_count": 8
    }
   ],
   "metadata": {}
  },
  {
   "cell_type": "markdown",
   "source": [
    "After looking at the top few rows of each table and taking the sum of all missing values per column we can see that the data has been imported correctly. We also won't need to perform any kind of data fill since there are no missing values."
   ],
   "metadata": {}
  },
  {
   "cell_type": "markdown",
   "source": [
    "# Data Preperation "
   ],
   "metadata": {}
  },
  {
   "cell_type": "markdown",
   "source": [
    "### Aggregate Cases by State"
   ],
   "metadata": {}
  },
  {
   "cell_type": "markdown",
   "source": [
    "We now drop the `County Name`, `countyFIPS` and `StateFIPS` columns from `covid_confirmed_facts` since they will not be used in our analysis (as it focuses on state only). Once these columns were dropped, we aggregate the covid case data that was by county by state. We name our new aggregated dataframe as `covid_state_cases` since these are now the number of total cummulative cases by state."
   ],
   "metadata": {}
  },
  {
   "cell_type": "code",
   "execution_count": 9,
   "source": [
    "covid_confirmed_facts = covid_confirmed_facts.drop(columns=['County Name', 'countyFIPS', 'StateFIPS'])\r\n",
    "\r\n",
    "covid_state_cases = covid_confirmed_facts.groupby('State').sum()\r\n",
    "\r\n",
    "covid_state_cases.head()"
   ],
   "outputs": [
    {
     "output_type": "execute_result",
     "data": {
      "text/plain": [
       "       2020-01-22  2020-01-23  2020-01-24  2020-01-25  2020-01-26  2020-01-27  \\\n",
       "State                                                                           \n",
       "AK              0           0           0           0           0           0   \n",
       "AL              0           0           0           0           0           0   \n",
       "AR              0           0           0           0           0           0   \n",
       "AZ              0           0           0           0           1           1   \n",
       "CA              0           0           0           0           2           3   \n",
       "\n",
       "       2020-01-28  2020-01-29  2020-01-30  2020-01-31  ...  2021-07-12  \\\n",
       "State                                                  ...               \n",
       "AK              0           0           0           0  ...       68977   \n",
       "AL              0           0           0           0  ...      555215   \n",
       "AR              0           0           0           0  ...      355460   \n",
       "AZ              1           1           1           1  ...      901562   \n",
       "CA              3           4           4           4  ...     3736534   \n",
       "\n",
       "       2021-07-13  2021-07-14  2021-07-15  2021-07-16  2021-07-17  2021-07-18  \\\n",
       "State                                                                           \n",
       "AK          68977       69189       69189       69453       69453       69453   \n",
       "AL         555215      556613      557578      558577      559478      560202   \n",
       "AR         358951      360259      361238      361238      361238      361238   \n",
       "AZ         901907      903852      904866      906117      906117      906117   \n",
       "CA        3736534     3739625     3743242     3747897     3747897     3747897   \n",
       "\n",
       "       2021-07-19  2021-07-20  2021-07-21  \n",
       "State                                      \n",
       "AK          69891       69891       70328  \n",
       "AL         560920      562311      563943  \n",
       "AR         365132      367007      367007  \n",
       "AZ         909283      910437      911480  \n",
       "CA        3761997     3766720     3772006  \n",
       "\n",
       "[5 rows x 547 columns]"
      ],
      "text/html": [
       "<div>\n",
       "<style scoped>\n",
       "    .dataframe tbody tr th:only-of-type {\n",
       "        vertical-align: middle;\n",
       "    }\n",
       "\n",
       "    .dataframe tbody tr th {\n",
       "        vertical-align: top;\n",
       "    }\n",
       "\n",
       "    .dataframe thead th {\n",
       "        text-align: right;\n",
       "    }\n",
       "</style>\n",
       "<table border=\"1\" class=\"dataframe\">\n",
       "  <thead>\n",
       "    <tr style=\"text-align: right;\">\n",
       "      <th></th>\n",
       "      <th>2020-01-22</th>\n",
       "      <th>2020-01-23</th>\n",
       "      <th>2020-01-24</th>\n",
       "      <th>2020-01-25</th>\n",
       "      <th>2020-01-26</th>\n",
       "      <th>2020-01-27</th>\n",
       "      <th>2020-01-28</th>\n",
       "      <th>2020-01-29</th>\n",
       "      <th>2020-01-30</th>\n",
       "      <th>2020-01-31</th>\n",
       "      <th>...</th>\n",
       "      <th>2021-07-12</th>\n",
       "      <th>2021-07-13</th>\n",
       "      <th>2021-07-14</th>\n",
       "      <th>2021-07-15</th>\n",
       "      <th>2021-07-16</th>\n",
       "      <th>2021-07-17</th>\n",
       "      <th>2021-07-18</th>\n",
       "      <th>2021-07-19</th>\n",
       "      <th>2021-07-20</th>\n",
       "      <th>2021-07-21</th>\n",
       "    </tr>\n",
       "    <tr>\n",
       "      <th>State</th>\n",
       "      <th></th>\n",
       "      <th></th>\n",
       "      <th></th>\n",
       "      <th></th>\n",
       "      <th></th>\n",
       "      <th></th>\n",
       "      <th></th>\n",
       "      <th></th>\n",
       "      <th></th>\n",
       "      <th></th>\n",
       "      <th></th>\n",
       "      <th></th>\n",
       "      <th></th>\n",
       "      <th></th>\n",
       "      <th></th>\n",
       "      <th></th>\n",
       "      <th></th>\n",
       "      <th></th>\n",
       "      <th></th>\n",
       "      <th></th>\n",
       "      <th></th>\n",
       "    </tr>\n",
       "  </thead>\n",
       "  <tbody>\n",
       "    <tr>\n",
       "      <th>AK</th>\n",
       "      <td>0</td>\n",
       "      <td>0</td>\n",
       "      <td>0</td>\n",
       "      <td>0</td>\n",
       "      <td>0</td>\n",
       "      <td>0</td>\n",
       "      <td>0</td>\n",
       "      <td>0</td>\n",
       "      <td>0</td>\n",
       "      <td>0</td>\n",
       "      <td>...</td>\n",
       "      <td>68977</td>\n",
       "      <td>68977</td>\n",
       "      <td>69189</td>\n",
       "      <td>69189</td>\n",
       "      <td>69453</td>\n",
       "      <td>69453</td>\n",
       "      <td>69453</td>\n",
       "      <td>69891</td>\n",
       "      <td>69891</td>\n",
       "      <td>70328</td>\n",
       "    </tr>\n",
       "    <tr>\n",
       "      <th>AL</th>\n",
       "      <td>0</td>\n",
       "      <td>0</td>\n",
       "      <td>0</td>\n",
       "      <td>0</td>\n",
       "      <td>0</td>\n",
       "      <td>0</td>\n",
       "      <td>0</td>\n",
       "      <td>0</td>\n",
       "      <td>0</td>\n",
       "      <td>0</td>\n",
       "      <td>...</td>\n",
       "      <td>555215</td>\n",
       "      <td>555215</td>\n",
       "      <td>556613</td>\n",
       "      <td>557578</td>\n",
       "      <td>558577</td>\n",
       "      <td>559478</td>\n",
       "      <td>560202</td>\n",
       "      <td>560920</td>\n",
       "      <td>562311</td>\n",
       "      <td>563943</td>\n",
       "    </tr>\n",
       "    <tr>\n",
       "      <th>AR</th>\n",
       "      <td>0</td>\n",
       "      <td>0</td>\n",
       "      <td>0</td>\n",
       "      <td>0</td>\n",
       "      <td>0</td>\n",
       "      <td>0</td>\n",
       "      <td>0</td>\n",
       "      <td>0</td>\n",
       "      <td>0</td>\n",
       "      <td>0</td>\n",
       "      <td>...</td>\n",
       "      <td>355460</td>\n",
       "      <td>358951</td>\n",
       "      <td>360259</td>\n",
       "      <td>361238</td>\n",
       "      <td>361238</td>\n",
       "      <td>361238</td>\n",
       "      <td>361238</td>\n",
       "      <td>365132</td>\n",
       "      <td>367007</td>\n",
       "      <td>367007</td>\n",
       "    </tr>\n",
       "    <tr>\n",
       "      <th>AZ</th>\n",
       "      <td>0</td>\n",
       "      <td>0</td>\n",
       "      <td>0</td>\n",
       "      <td>0</td>\n",
       "      <td>1</td>\n",
       "      <td>1</td>\n",
       "      <td>1</td>\n",
       "      <td>1</td>\n",
       "      <td>1</td>\n",
       "      <td>1</td>\n",
       "      <td>...</td>\n",
       "      <td>901562</td>\n",
       "      <td>901907</td>\n",
       "      <td>903852</td>\n",
       "      <td>904866</td>\n",
       "      <td>906117</td>\n",
       "      <td>906117</td>\n",
       "      <td>906117</td>\n",
       "      <td>909283</td>\n",
       "      <td>910437</td>\n",
       "      <td>911480</td>\n",
       "    </tr>\n",
       "    <tr>\n",
       "      <th>CA</th>\n",
       "      <td>0</td>\n",
       "      <td>0</td>\n",
       "      <td>0</td>\n",
       "      <td>0</td>\n",
       "      <td>2</td>\n",
       "      <td>3</td>\n",
       "      <td>3</td>\n",
       "      <td>4</td>\n",
       "      <td>4</td>\n",
       "      <td>4</td>\n",
       "      <td>...</td>\n",
       "      <td>3736534</td>\n",
       "      <td>3736534</td>\n",
       "      <td>3739625</td>\n",
       "      <td>3743242</td>\n",
       "      <td>3747897</td>\n",
       "      <td>3747897</td>\n",
       "      <td>3747897</td>\n",
       "      <td>3761997</td>\n",
       "      <td>3766720</td>\n",
       "      <td>3772006</td>\n",
       "    </tr>\n",
       "  </tbody>\n",
       "</table>\n",
       "<p>5 rows × 547 columns</p>\n",
       "</div>"
      ]
     },
     "metadata": {},
     "execution_count": 9
    }
   ],
   "metadata": {}
  },
  {
   "cell_type": "markdown",
   "source": [
    "The output shows the sum of all cases in a given state up to the date. This will work well for our state based analysis."
   ],
   "metadata": {}
  },
  {
   "cell_type": "markdown",
   "source": [
    "### Aggregate Populations by State"
   ],
   "metadata": {}
  },
  {
   "cell_type": "markdown",
   "source": [
    "Similarly, for our `covid_county_population` dataframe we drop the county related columns `countyFIPS` and `County Name`. We then aggregate populations by state."
   ],
   "metadata": {}
  },
  {
   "cell_type": "code",
   "execution_count": 10,
   "source": [
    "covid_county_population = covid_county_population.drop(columns=['countyFIPS', 'County Name'])\r\n",
    "\r\n",
    "covid_state_population = covid_county_population.groupby('State').sum()\r\n",
    "\r\n",
    "covid_state_population.head()"
   ],
   "outputs": [
    {
     "output_type": "execute_result",
     "data": {
      "text/plain": [
       "       population\n",
       "State            \n",
       "AK         731545\n",
       "AL        4903185\n",
       "AR        3017804\n",
       "AZ        7278717\n",
       "CA       39512223"
      ],
      "text/html": [
       "<div>\n",
       "<style scoped>\n",
       "    .dataframe tbody tr th:only-of-type {\n",
       "        vertical-align: middle;\n",
       "    }\n",
       "\n",
       "    .dataframe tbody tr th {\n",
       "        vertical-align: top;\n",
       "    }\n",
       "\n",
       "    .dataframe thead th {\n",
       "        text-align: right;\n",
       "    }\n",
       "</style>\n",
       "<table border=\"1\" class=\"dataframe\">\n",
       "  <thead>\n",
       "    <tr style=\"text-align: right;\">\n",
       "      <th></th>\n",
       "      <th>population</th>\n",
       "    </tr>\n",
       "    <tr>\n",
       "      <th>State</th>\n",
       "      <th></th>\n",
       "    </tr>\n",
       "  </thead>\n",
       "  <tbody>\n",
       "    <tr>\n",
       "      <th>AK</th>\n",
       "      <td>731545</td>\n",
       "    </tr>\n",
       "    <tr>\n",
       "      <th>AL</th>\n",
       "      <td>4903185</td>\n",
       "    </tr>\n",
       "    <tr>\n",
       "      <th>AR</th>\n",
       "      <td>3017804</td>\n",
       "    </tr>\n",
       "    <tr>\n",
       "      <th>AZ</th>\n",
       "      <td>7278717</td>\n",
       "    </tr>\n",
       "    <tr>\n",
       "      <th>CA</th>\n",
       "      <td>39512223</td>\n",
       "    </tr>\n",
       "  </tbody>\n",
       "</table>\n",
       "</div>"
      ]
     },
     "metadata": {},
     "execution_count": 10
    }
   ],
   "metadata": {}
  },
  {
   "cell_type": "markdown",
   "source": [
    "The output shows a series with a key for each state and the population of each, we can now use this in our states analysis for per capita values. "
   ],
   "metadata": {}
  },
  {
   "cell_type": "markdown",
   "source": [
    "### Merge Data Sets"
   ],
   "metadata": {}
  },
  {
   "cell_type": "markdown",
   "source": [
    "Now that all unecessary columns have been removed from our dataframes and all data is aggregated by state, we are able to merge the three dataframes into a single united data frame `pop_case_elec`. Since we currently do not know that `State` keys are in a one to one relationship between each our tables we set the validate parameter to make sure. This prevents data being dropped or duplicated without an error in our merged dataframe."
   ],
   "metadata": {}
  },
  {
   "cell_type": "code",
   "execution_count": 11,
   "source": [
    "pop_case_elec = covid_state_population.merge(\r\n",
    "    covid_state_cases,\r\n",
    "    on='State',\r\n",
    "    validate='one_to_one'\r\n",
    ").merge(\r\n",
    "    election_data,\r\n",
    "    on='State',\r\n",
    "    validate='one_to_one'\r\n",
    ")\r\n",
    "\r\n",
    "pop_case_elec.head()"
   ],
   "outputs": [
    {
     "output_type": "execute_result",
     "data": {
      "text/plain": [
       "  State  population  2020-01-22  2020-01-23  2020-01-24  2020-01-25  \\\n",
       "0    AK      731545           0           0           0           0   \n",
       "1    AL     4903185           0           0           0           0   \n",
       "2    AR     3017804           0           0           0           0   \n",
       "3    AZ     7278717           0           0           0           0   \n",
       "4    CA    39512223           0           0           0           0   \n",
       "\n",
       "   2020-01-26  2020-01-27  2020-01-28  2020-01-29  ...  2021-07-14  \\\n",
       "0           0           0           0           0  ...       69189   \n",
       "1           0           0           0           0  ...      556613   \n",
       "2           0           0           0           0  ...      360259   \n",
       "3           1           1           1           1  ...      903852   \n",
       "4           2           3           3           4  ...     3739625   \n",
       "\n",
       "   2021-07-15  2021-07-16  2021-07-17  2021-07-18  2021-07-19  2021-07-20  \\\n",
       "0       69189       69453       69453       69453       69891       69891   \n",
       "1      557578      558577      559478      560202      560920      562311   \n",
       "2      361238      361238      361238      361238      365132      367007   \n",
       "3      904866      906117      906117      906117      909283      910437   \n",
       "4     3743242     3747897     3747897     3747897     3761997     3766720   \n",
       "\n",
       "   2021-07-21  Clinton  Trump  \n",
       "0       70328       38     53  \n",
       "1      563943       35     63  \n",
       "2      367007       34     60  \n",
       "3      911480       45     50  \n",
       "4     3772006       62     33  \n",
       "\n",
       "[5 rows x 551 columns]"
      ],
      "text/html": [
       "<div>\n",
       "<style scoped>\n",
       "    .dataframe tbody tr th:only-of-type {\n",
       "        vertical-align: middle;\n",
       "    }\n",
       "\n",
       "    .dataframe tbody tr th {\n",
       "        vertical-align: top;\n",
       "    }\n",
       "\n",
       "    .dataframe thead th {\n",
       "        text-align: right;\n",
       "    }\n",
       "</style>\n",
       "<table border=\"1\" class=\"dataframe\">\n",
       "  <thead>\n",
       "    <tr style=\"text-align: right;\">\n",
       "      <th></th>\n",
       "      <th>State</th>\n",
       "      <th>population</th>\n",
       "      <th>2020-01-22</th>\n",
       "      <th>2020-01-23</th>\n",
       "      <th>2020-01-24</th>\n",
       "      <th>2020-01-25</th>\n",
       "      <th>2020-01-26</th>\n",
       "      <th>2020-01-27</th>\n",
       "      <th>2020-01-28</th>\n",
       "      <th>2020-01-29</th>\n",
       "      <th>...</th>\n",
       "      <th>2021-07-14</th>\n",
       "      <th>2021-07-15</th>\n",
       "      <th>2021-07-16</th>\n",
       "      <th>2021-07-17</th>\n",
       "      <th>2021-07-18</th>\n",
       "      <th>2021-07-19</th>\n",
       "      <th>2021-07-20</th>\n",
       "      <th>2021-07-21</th>\n",
       "      <th>Clinton</th>\n",
       "      <th>Trump</th>\n",
       "    </tr>\n",
       "  </thead>\n",
       "  <tbody>\n",
       "    <tr>\n",
       "      <th>0</th>\n",
       "      <td>AK</td>\n",
       "      <td>731545</td>\n",
       "      <td>0</td>\n",
       "      <td>0</td>\n",
       "      <td>0</td>\n",
       "      <td>0</td>\n",
       "      <td>0</td>\n",
       "      <td>0</td>\n",
       "      <td>0</td>\n",
       "      <td>0</td>\n",
       "      <td>...</td>\n",
       "      <td>69189</td>\n",
       "      <td>69189</td>\n",
       "      <td>69453</td>\n",
       "      <td>69453</td>\n",
       "      <td>69453</td>\n",
       "      <td>69891</td>\n",
       "      <td>69891</td>\n",
       "      <td>70328</td>\n",
       "      <td>38</td>\n",
       "      <td>53</td>\n",
       "    </tr>\n",
       "    <tr>\n",
       "      <th>1</th>\n",
       "      <td>AL</td>\n",
       "      <td>4903185</td>\n",
       "      <td>0</td>\n",
       "      <td>0</td>\n",
       "      <td>0</td>\n",
       "      <td>0</td>\n",
       "      <td>0</td>\n",
       "      <td>0</td>\n",
       "      <td>0</td>\n",
       "      <td>0</td>\n",
       "      <td>...</td>\n",
       "      <td>556613</td>\n",
       "      <td>557578</td>\n",
       "      <td>558577</td>\n",
       "      <td>559478</td>\n",
       "      <td>560202</td>\n",
       "      <td>560920</td>\n",
       "      <td>562311</td>\n",
       "      <td>563943</td>\n",
       "      <td>35</td>\n",
       "      <td>63</td>\n",
       "    </tr>\n",
       "    <tr>\n",
       "      <th>2</th>\n",
       "      <td>AR</td>\n",
       "      <td>3017804</td>\n",
       "      <td>0</td>\n",
       "      <td>0</td>\n",
       "      <td>0</td>\n",
       "      <td>0</td>\n",
       "      <td>0</td>\n",
       "      <td>0</td>\n",
       "      <td>0</td>\n",
       "      <td>0</td>\n",
       "      <td>...</td>\n",
       "      <td>360259</td>\n",
       "      <td>361238</td>\n",
       "      <td>361238</td>\n",
       "      <td>361238</td>\n",
       "      <td>361238</td>\n",
       "      <td>365132</td>\n",
       "      <td>367007</td>\n",
       "      <td>367007</td>\n",
       "      <td>34</td>\n",
       "      <td>60</td>\n",
       "    </tr>\n",
       "    <tr>\n",
       "      <th>3</th>\n",
       "      <td>AZ</td>\n",
       "      <td>7278717</td>\n",
       "      <td>0</td>\n",
       "      <td>0</td>\n",
       "      <td>0</td>\n",
       "      <td>0</td>\n",
       "      <td>1</td>\n",
       "      <td>1</td>\n",
       "      <td>1</td>\n",
       "      <td>1</td>\n",
       "      <td>...</td>\n",
       "      <td>903852</td>\n",
       "      <td>904866</td>\n",
       "      <td>906117</td>\n",
       "      <td>906117</td>\n",
       "      <td>906117</td>\n",
       "      <td>909283</td>\n",
       "      <td>910437</td>\n",
       "      <td>911480</td>\n",
       "      <td>45</td>\n",
       "      <td>50</td>\n",
       "    </tr>\n",
       "    <tr>\n",
       "      <th>4</th>\n",
       "      <td>CA</td>\n",
       "      <td>39512223</td>\n",
       "      <td>0</td>\n",
       "      <td>0</td>\n",
       "      <td>0</td>\n",
       "      <td>0</td>\n",
       "      <td>2</td>\n",
       "      <td>3</td>\n",
       "      <td>3</td>\n",
       "      <td>4</td>\n",
       "      <td>...</td>\n",
       "      <td>3739625</td>\n",
       "      <td>3743242</td>\n",
       "      <td>3747897</td>\n",
       "      <td>3747897</td>\n",
       "      <td>3747897</td>\n",
       "      <td>3761997</td>\n",
       "      <td>3766720</td>\n",
       "      <td>3772006</td>\n",
       "      <td>62</td>\n",
       "      <td>33</td>\n",
       "    </tr>\n",
       "  </tbody>\n",
       "</table>\n",
       "<p>5 rows × 551 columns</p>\n",
       "</div>"
      ]
     },
     "metadata": {},
     "execution_count": 11
    }
   ],
   "metadata": {}
  },
  {
   "cell_type": "markdown",
   "source": [
    "The merge succeeded indicating a perfect match between data frames."
   ],
   "metadata": {}
  },
  {
   "cell_type": "markdown",
   "source": [
    "### Create Indicator clinton_win\n",
    "We next create an indicator variable, `clinton_win`, which is a boolean value true only if clinton received a greater percentage of votes and thus won the election. This may prove interesting if there is a stronger correlation in states where clinton or trump won than their actual percentage of votes. Along with python convention we rename columns that are not in snake case to match.\n"
   ],
   "metadata": {}
  },
  {
   "cell_type": "code",
   "execution_count": 12,
   "source": [
    "pop_case_elec['clinton_win'] = pop_case_elec['Clinton'] > pop_case_elec['Trump']\r\n",
    "\r\n",
    "pop_case_elec = pop_case_elec.rename( columns={ 'State':'state', 'Clinton':'clinton', 'Trump':'trump' } )\r\n",
    "\r\n",
    "pop_case_elec.head()"
   ],
   "outputs": [
    {
     "output_type": "execute_result",
     "data": {
      "text/plain": [
       "  state  population  2020-01-22  2020-01-23  2020-01-24  2020-01-25  \\\n",
       "0    AK      731545           0           0           0           0   \n",
       "1    AL     4903185           0           0           0           0   \n",
       "2    AR     3017804           0           0           0           0   \n",
       "3    AZ     7278717           0           0           0           0   \n",
       "4    CA    39512223           0           0           0           0   \n",
       "\n",
       "   2020-01-26  2020-01-27  2020-01-28  2020-01-29  ...  2021-07-15  \\\n",
       "0           0           0           0           0  ...       69189   \n",
       "1           0           0           0           0  ...      557578   \n",
       "2           0           0           0           0  ...      361238   \n",
       "3           1           1           1           1  ...      904866   \n",
       "4           2           3           3           4  ...     3743242   \n",
       "\n",
       "   2021-07-16  2021-07-17  2021-07-18  2021-07-19  2021-07-20  2021-07-21  \\\n",
       "0       69453       69453       69453       69891       69891       70328   \n",
       "1      558577      559478      560202      560920      562311      563943   \n",
       "2      361238      361238      361238      365132      367007      367007   \n",
       "3      906117      906117      906117      909283      910437      911480   \n",
       "4     3747897     3747897     3747897     3761997     3766720     3772006   \n",
       "\n",
       "   clinton  trump  clinton_win  \n",
       "0       38     53        False  \n",
       "1       35     63        False  \n",
       "2       34     60        False  \n",
       "3       45     50        False  \n",
       "4       62     33         True  \n",
       "\n",
       "[5 rows x 552 columns]"
      ],
      "text/html": [
       "<div>\n",
       "<style scoped>\n",
       "    .dataframe tbody tr th:only-of-type {\n",
       "        vertical-align: middle;\n",
       "    }\n",
       "\n",
       "    .dataframe tbody tr th {\n",
       "        vertical-align: top;\n",
       "    }\n",
       "\n",
       "    .dataframe thead th {\n",
       "        text-align: right;\n",
       "    }\n",
       "</style>\n",
       "<table border=\"1\" class=\"dataframe\">\n",
       "  <thead>\n",
       "    <tr style=\"text-align: right;\">\n",
       "      <th></th>\n",
       "      <th>state</th>\n",
       "      <th>population</th>\n",
       "      <th>2020-01-22</th>\n",
       "      <th>2020-01-23</th>\n",
       "      <th>2020-01-24</th>\n",
       "      <th>2020-01-25</th>\n",
       "      <th>2020-01-26</th>\n",
       "      <th>2020-01-27</th>\n",
       "      <th>2020-01-28</th>\n",
       "      <th>2020-01-29</th>\n",
       "      <th>...</th>\n",
       "      <th>2021-07-15</th>\n",
       "      <th>2021-07-16</th>\n",
       "      <th>2021-07-17</th>\n",
       "      <th>2021-07-18</th>\n",
       "      <th>2021-07-19</th>\n",
       "      <th>2021-07-20</th>\n",
       "      <th>2021-07-21</th>\n",
       "      <th>clinton</th>\n",
       "      <th>trump</th>\n",
       "      <th>clinton_win</th>\n",
       "    </tr>\n",
       "  </thead>\n",
       "  <tbody>\n",
       "    <tr>\n",
       "      <th>0</th>\n",
       "      <td>AK</td>\n",
       "      <td>731545</td>\n",
       "      <td>0</td>\n",
       "      <td>0</td>\n",
       "      <td>0</td>\n",
       "      <td>0</td>\n",
       "      <td>0</td>\n",
       "      <td>0</td>\n",
       "      <td>0</td>\n",
       "      <td>0</td>\n",
       "      <td>...</td>\n",
       "      <td>69189</td>\n",
       "      <td>69453</td>\n",
       "      <td>69453</td>\n",
       "      <td>69453</td>\n",
       "      <td>69891</td>\n",
       "      <td>69891</td>\n",
       "      <td>70328</td>\n",
       "      <td>38</td>\n",
       "      <td>53</td>\n",
       "      <td>False</td>\n",
       "    </tr>\n",
       "    <tr>\n",
       "      <th>1</th>\n",
       "      <td>AL</td>\n",
       "      <td>4903185</td>\n",
       "      <td>0</td>\n",
       "      <td>0</td>\n",
       "      <td>0</td>\n",
       "      <td>0</td>\n",
       "      <td>0</td>\n",
       "      <td>0</td>\n",
       "      <td>0</td>\n",
       "      <td>0</td>\n",
       "      <td>...</td>\n",
       "      <td>557578</td>\n",
       "      <td>558577</td>\n",
       "      <td>559478</td>\n",
       "      <td>560202</td>\n",
       "      <td>560920</td>\n",
       "      <td>562311</td>\n",
       "      <td>563943</td>\n",
       "      <td>35</td>\n",
       "      <td>63</td>\n",
       "      <td>False</td>\n",
       "    </tr>\n",
       "    <tr>\n",
       "      <th>2</th>\n",
       "      <td>AR</td>\n",
       "      <td>3017804</td>\n",
       "      <td>0</td>\n",
       "      <td>0</td>\n",
       "      <td>0</td>\n",
       "      <td>0</td>\n",
       "      <td>0</td>\n",
       "      <td>0</td>\n",
       "      <td>0</td>\n",
       "      <td>0</td>\n",
       "      <td>...</td>\n",
       "      <td>361238</td>\n",
       "      <td>361238</td>\n",
       "      <td>361238</td>\n",
       "      <td>361238</td>\n",
       "      <td>365132</td>\n",
       "      <td>367007</td>\n",
       "      <td>367007</td>\n",
       "      <td>34</td>\n",
       "      <td>60</td>\n",
       "      <td>False</td>\n",
       "    </tr>\n",
       "    <tr>\n",
       "      <th>3</th>\n",
       "      <td>AZ</td>\n",
       "      <td>7278717</td>\n",
       "      <td>0</td>\n",
       "      <td>0</td>\n",
       "      <td>0</td>\n",
       "      <td>0</td>\n",
       "      <td>1</td>\n",
       "      <td>1</td>\n",
       "      <td>1</td>\n",
       "      <td>1</td>\n",
       "      <td>...</td>\n",
       "      <td>904866</td>\n",
       "      <td>906117</td>\n",
       "      <td>906117</td>\n",
       "      <td>906117</td>\n",
       "      <td>909283</td>\n",
       "      <td>910437</td>\n",
       "      <td>911480</td>\n",
       "      <td>45</td>\n",
       "      <td>50</td>\n",
       "      <td>False</td>\n",
       "    </tr>\n",
       "    <tr>\n",
       "      <th>4</th>\n",
       "      <td>CA</td>\n",
       "      <td>39512223</td>\n",
       "      <td>0</td>\n",
       "      <td>0</td>\n",
       "      <td>0</td>\n",
       "      <td>0</td>\n",
       "      <td>2</td>\n",
       "      <td>3</td>\n",
       "      <td>3</td>\n",
       "      <td>4</td>\n",
       "      <td>...</td>\n",
       "      <td>3743242</td>\n",
       "      <td>3747897</td>\n",
       "      <td>3747897</td>\n",
       "      <td>3747897</td>\n",
       "      <td>3761997</td>\n",
       "      <td>3766720</td>\n",
       "      <td>3772006</td>\n",
       "      <td>62</td>\n",
       "      <td>33</td>\n",
       "      <td>True</td>\n",
       "    </tr>\n",
       "  </tbody>\n",
       "</table>\n",
       "<p>5 rows × 552 columns</p>\n",
       "</div>"
      ]
     },
     "metadata": {},
     "execution_count": 12
    }
   ],
   "metadata": {}
  },
  {
   "cell_type": "markdown",
   "source": [
    "Our indicator variable can be seen at the end of the dataframe and makes sense given the percentages left of each."
   ],
   "metadata": {}
  },
  {
   "cell_type": "markdown",
   "source": [
    "### Cases Time Series"
   ],
   "metadata": {}
  },
  {
   "cell_type": "markdown",
   "source": [
    "Some of our variables of interest are the current rate of increase in cases, average rate of increase, projected max cases, and projected max cases per capita. While we already have the time series data necessary in order to model, for convenience we seperate out time series into its own `cases_ts` dataframe setting the index to the `state` column and dropping `population` as we won't need it."
   ],
   "metadata": {}
  },
  {
   "cell_type": "code",
   "execution_count": 13,
   "source": [
    "cases_ts = pop_case_elec.loc[:, 'state':'2021-07-21']\r\n",
    "\r\n",
    "cases_ts = cases_ts.set_index('state')\r\n",
    "\r\n",
    "cases_ts = cases_ts.drop(columns=['population'])\r\n",
    "\r\n",
    "cases_ts.head()"
   ],
   "outputs": [
    {
     "output_type": "execute_result",
     "data": {
      "text/plain": [
       "       2020-01-22  2020-01-23  2020-01-24  2020-01-25  2020-01-26  2020-01-27  \\\n",
       "state                                                                           \n",
       "AK              0           0           0           0           0           0   \n",
       "AL              0           0           0           0           0           0   \n",
       "AR              0           0           0           0           0           0   \n",
       "AZ              0           0           0           0           1           1   \n",
       "CA              0           0           0           0           2           3   \n",
       "\n",
       "       2020-01-28  2020-01-29  2020-01-30  2020-01-31  ...  2021-07-12  \\\n",
       "state                                                  ...               \n",
       "AK              0           0           0           0  ...       68977   \n",
       "AL              0           0           0           0  ...      555215   \n",
       "AR              0           0           0           0  ...      355460   \n",
       "AZ              1           1           1           1  ...      901562   \n",
       "CA              3           4           4           4  ...     3736534   \n",
       "\n",
       "       2021-07-13  2021-07-14  2021-07-15  2021-07-16  2021-07-17  2021-07-18  \\\n",
       "state                                                                           \n",
       "AK          68977       69189       69189       69453       69453       69453   \n",
       "AL         555215      556613      557578      558577      559478      560202   \n",
       "AR         358951      360259      361238      361238      361238      361238   \n",
       "AZ         901907      903852      904866      906117      906117      906117   \n",
       "CA        3736534     3739625     3743242     3747897     3747897     3747897   \n",
       "\n",
       "       2021-07-19  2021-07-20  2021-07-21  \n",
       "state                                      \n",
       "AK          69891       69891       70328  \n",
       "AL         560920      562311      563943  \n",
       "AR         365132      367007      367007  \n",
       "AZ         909283      910437      911480  \n",
       "CA        3761997     3766720     3772006  \n",
       "\n",
       "[5 rows x 547 columns]"
      ],
      "text/html": [
       "<div>\n",
       "<style scoped>\n",
       "    .dataframe tbody tr th:only-of-type {\n",
       "        vertical-align: middle;\n",
       "    }\n",
       "\n",
       "    .dataframe tbody tr th {\n",
       "        vertical-align: top;\n",
       "    }\n",
       "\n",
       "    .dataframe thead th {\n",
       "        text-align: right;\n",
       "    }\n",
       "</style>\n",
       "<table border=\"1\" class=\"dataframe\">\n",
       "  <thead>\n",
       "    <tr style=\"text-align: right;\">\n",
       "      <th></th>\n",
       "      <th>2020-01-22</th>\n",
       "      <th>2020-01-23</th>\n",
       "      <th>2020-01-24</th>\n",
       "      <th>2020-01-25</th>\n",
       "      <th>2020-01-26</th>\n",
       "      <th>2020-01-27</th>\n",
       "      <th>2020-01-28</th>\n",
       "      <th>2020-01-29</th>\n",
       "      <th>2020-01-30</th>\n",
       "      <th>2020-01-31</th>\n",
       "      <th>...</th>\n",
       "      <th>2021-07-12</th>\n",
       "      <th>2021-07-13</th>\n",
       "      <th>2021-07-14</th>\n",
       "      <th>2021-07-15</th>\n",
       "      <th>2021-07-16</th>\n",
       "      <th>2021-07-17</th>\n",
       "      <th>2021-07-18</th>\n",
       "      <th>2021-07-19</th>\n",
       "      <th>2021-07-20</th>\n",
       "      <th>2021-07-21</th>\n",
       "    </tr>\n",
       "    <tr>\n",
       "      <th>state</th>\n",
       "      <th></th>\n",
       "      <th></th>\n",
       "      <th></th>\n",
       "      <th></th>\n",
       "      <th></th>\n",
       "      <th></th>\n",
       "      <th></th>\n",
       "      <th></th>\n",
       "      <th></th>\n",
       "      <th></th>\n",
       "      <th></th>\n",
       "      <th></th>\n",
       "      <th></th>\n",
       "      <th></th>\n",
       "      <th></th>\n",
       "      <th></th>\n",
       "      <th></th>\n",
       "      <th></th>\n",
       "      <th></th>\n",
       "      <th></th>\n",
       "      <th></th>\n",
       "    </tr>\n",
       "  </thead>\n",
       "  <tbody>\n",
       "    <tr>\n",
       "      <th>AK</th>\n",
       "      <td>0</td>\n",
       "      <td>0</td>\n",
       "      <td>0</td>\n",
       "      <td>0</td>\n",
       "      <td>0</td>\n",
       "      <td>0</td>\n",
       "      <td>0</td>\n",
       "      <td>0</td>\n",
       "      <td>0</td>\n",
       "      <td>0</td>\n",
       "      <td>...</td>\n",
       "      <td>68977</td>\n",
       "      <td>68977</td>\n",
       "      <td>69189</td>\n",
       "      <td>69189</td>\n",
       "      <td>69453</td>\n",
       "      <td>69453</td>\n",
       "      <td>69453</td>\n",
       "      <td>69891</td>\n",
       "      <td>69891</td>\n",
       "      <td>70328</td>\n",
       "    </tr>\n",
       "    <tr>\n",
       "      <th>AL</th>\n",
       "      <td>0</td>\n",
       "      <td>0</td>\n",
       "      <td>0</td>\n",
       "      <td>0</td>\n",
       "      <td>0</td>\n",
       "      <td>0</td>\n",
       "      <td>0</td>\n",
       "      <td>0</td>\n",
       "      <td>0</td>\n",
       "      <td>0</td>\n",
       "      <td>...</td>\n",
       "      <td>555215</td>\n",
       "      <td>555215</td>\n",
       "      <td>556613</td>\n",
       "      <td>557578</td>\n",
       "      <td>558577</td>\n",
       "      <td>559478</td>\n",
       "      <td>560202</td>\n",
       "      <td>560920</td>\n",
       "      <td>562311</td>\n",
       "      <td>563943</td>\n",
       "    </tr>\n",
       "    <tr>\n",
       "      <th>AR</th>\n",
       "      <td>0</td>\n",
       "      <td>0</td>\n",
       "      <td>0</td>\n",
       "      <td>0</td>\n",
       "      <td>0</td>\n",
       "      <td>0</td>\n",
       "      <td>0</td>\n",
       "      <td>0</td>\n",
       "      <td>0</td>\n",
       "      <td>0</td>\n",
       "      <td>...</td>\n",
       "      <td>355460</td>\n",
       "      <td>358951</td>\n",
       "      <td>360259</td>\n",
       "      <td>361238</td>\n",
       "      <td>361238</td>\n",
       "      <td>361238</td>\n",
       "      <td>361238</td>\n",
       "      <td>365132</td>\n",
       "      <td>367007</td>\n",
       "      <td>367007</td>\n",
       "    </tr>\n",
       "    <tr>\n",
       "      <th>AZ</th>\n",
       "      <td>0</td>\n",
       "      <td>0</td>\n",
       "      <td>0</td>\n",
       "      <td>0</td>\n",
       "      <td>1</td>\n",
       "      <td>1</td>\n",
       "      <td>1</td>\n",
       "      <td>1</td>\n",
       "      <td>1</td>\n",
       "      <td>1</td>\n",
       "      <td>...</td>\n",
       "      <td>901562</td>\n",
       "      <td>901907</td>\n",
       "      <td>903852</td>\n",
       "      <td>904866</td>\n",
       "      <td>906117</td>\n",
       "      <td>906117</td>\n",
       "      <td>906117</td>\n",
       "      <td>909283</td>\n",
       "      <td>910437</td>\n",
       "      <td>911480</td>\n",
       "    </tr>\n",
       "    <tr>\n",
       "      <th>CA</th>\n",
       "      <td>0</td>\n",
       "      <td>0</td>\n",
       "      <td>0</td>\n",
       "      <td>0</td>\n",
       "      <td>2</td>\n",
       "      <td>3</td>\n",
       "      <td>3</td>\n",
       "      <td>4</td>\n",
       "      <td>4</td>\n",
       "      <td>4</td>\n",
       "      <td>...</td>\n",
       "      <td>3736534</td>\n",
       "      <td>3736534</td>\n",
       "      <td>3739625</td>\n",
       "      <td>3743242</td>\n",
       "      <td>3747897</td>\n",
       "      <td>3747897</td>\n",
       "      <td>3747897</td>\n",
       "      <td>3761997</td>\n",
       "      <td>3766720</td>\n",
       "      <td>3772006</td>\n",
       "    </tr>\n",
       "  </tbody>\n",
       "</table>\n",
       "<p>5 rows × 547 columns</p>\n",
       "</div>"
      ]
     },
     "metadata": {},
     "execution_count": 13
    }
   ],
   "metadata": {}
  },
  {
   "cell_type": "markdown",
   "source": [
    "Our `cases_ts` dataframe is now much more usable containing only cases as values."
   ],
   "metadata": {}
  },
  {
   "cell_type": "markdown",
   "source": [
    "## Case Projections"
   ],
   "metadata": {}
  },
  {
   "cell_type": "markdown",
   "source": [
    "### Modeling Utilities"
   ],
   "metadata": {}
  },
  {
   "cell_type": "markdown",
   "source": [
    "In order to the calculate projected cases and projected cases per capita, we will need to build a model using our cases timeseries. To abstract away some of the complexity during analysis we created a function that uses the `curve_fit` method of the `scipy.optimize` module and returns everything we need for plotting and projection. It does so by fitting the input model and returning the calculated betas then using the model with its calculated betas to find the projected dependants."
   ],
   "metadata": {}
  },
  {
   "cell_type": "code",
   "execution_count": 14,
   "source": [
    "from scipy.optimize import curve_fit\r\n",
    "\r\n",
    "def build_model( model, x_data, y_data ):\r\n",
    "    found_betas = []\r\n",
    "    covariance  = 0\r\n",
    "    x_points    = x_data.shape[0]\r\n",
    "    \r\n",
    "    found_betas, covariance = curve_fit( model, x_data, y_data )\r\n",
    "    \r\n",
    "    x_proj = np.linspace( 0, x_points, num=x_points )\r\n",
    "    y_proj = model( x_proj, *found_betas )\r\n",
    "        \r\n",
    "    return found_betas, covariance, x_proj, y_proj"
   ],
   "outputs": [],
   "metadata": {}
  },
  {
   "cell_type": "markdown",
   "source": [
    "Now that we have a modeling utility, we need to decide on a model to use for case projections. For simplicities sake, we begin with a logistic model. The function below implements a logistic model."
   ],
   "metadata": {}
  },
  {
   "cell_type": "code",
   "execution_count": 15,
   "source": [
    "def logistic_model( x, beta_0, beta_1, beta_2 ):\r\n",
    "    return beta_0 / (1 + np.exp(beta_1 * ( beta_2 - x ))) "
   ],
   "outputs": [],
   "metadata": {}
  },
  {
   "cell_type": "markdown",
   "source": [
    "### Projected Max Cases Visualization"
   ],
   "metadata": {}
  },
  {
   "cell_type": "markdown",
   "source": [
    "To test that our model builder is working we create a visualizaton with it. We take the massachusetts case data as `ma_cases`, provide some arbitrary x values as `days`, and pass them to `build_model` with our logistic model."
   ],
   "metadata": {}
  },
  {
   "cell_type": "code",
   "execution_count": 16,
   "source": [
    "ma_cases = cases_ts.loc['MA']\r\n",
    "\r\n",
    "num_days = ma_cases.shape[0]\r\n",
    "days = np.linspace( 0, num_days, num=num_days )\r\n",
    "\r\n",
    "found_betas, covariance, x_proj, y_proj = build_model( logistic_model, days, ma_cases )\r\n",
    "\r\n",
    "sns.set_theme()\r\n",
    "\r\n",
    "_ = sns.lineplot( x=x_proj, y=y_proj, color='Green' )\r\n",
    "_ = sns.lineplot( x=days, y=ma_cases, color='Orange')\r\n",
    "\r\n",
    "_ = plt.xlabel('Days')\r\n",
    "_ = plt.ylabel('Cases')\r\n",
    "\r\n",
    "\r\n",
    "plt.show()\r\n",
    "\r\n",
    "print('PROJECTED MAX CASES:')\r\n",
    "print(np.round(np.max(y_proj)))"
   ],
   "outputs": [
    {
     "output_type": "display_data",
     "data": {
      "text/plain": [
       "<Figure size 432x288 with 1 Axes>"
      ],
      "image/svg+xml": "<?xml version=\"1.0\" encoding=\"utf-8\" standalone=\"no\"?>\r\n<!DOCTYPE svg PUBLIC \"-//W3C//DTD SVG 1.1//EN\"\r\n  \"http://www.w3.org/Graphics/SVG/1.1/DTD/svg11.dtd\">\r\n<!-- Created with matplotlib (https://matplotlib.org/) -->\r\n<svg height=\"266.514844pt\" version=\"1.1\" viewBox=\"0 0 410.376562 266.514844\" width=\"410.376562pt\" xmlns=\"http://www.w3.org/2000/svg\" xmlns:xlink=\"http://www.w3.org/1999/xlink\">\r\n <metadata>\r\n  <rdf:RDF xmlns:cc=\"http://creativecommons.org/ns#\" xmlns:dc=\"http://purl.org/dc/elements/1.1/\" xmlns:rdf=\"http://www.w3.org/1999/02/22-rdf-syntax-ns#\">\r\n   <cc:Work>\r\n    <dc:type rdf:resource=\"http://purl.org/dc/dcmitype/StillImage\"/>\r\n    <dc:date>2021-08-18T17:22:46.323664</dc:date>\r\n    <dc:format>image/svg+xml</dc:format>\r\n    <dc:creator>\r\n     <cc:Agent>\r\n      <dc:title>Matplotlib v3.3.2, https://matplotlib.org/</dc:title>\r\n     </cc:Agent>\r\n    </dc:creator>\r\n   </cc:Work>\r\n  </rdf:RDF>\r\n </metadata>\r\n <defs>\r\n  <style type=\"text/css\">*{stroke-linecap:butt;stroke-linejoin:round;}</style>\r\n </defs>\r\n <g id=\"figure_1\">\r\n  <g id=\"patch_1\">\r\n   <path d=\"M 0 266.514844 \r\nL 410.376562 266.514844 \r\nL 410.376562 0 \r\nL 0 0 \r\nz\r\n\" style=\"fill:#ffffff;\"/>\r\n  </g>\r\n  <g id=\"axes_1\">\r\n   <g id=\"patch_2\">\r\n    <path d=\"M 68.376563 224.64 \r\nL 403.176562 224.64 \r\nL 403.176562 7.2 \r\nL 68.376563 7.2 \r\nz\r\n\" style=\"fill:#eaeaf2;\"/>\r\n   </g>\r\n   <g id=\"matplotlib.axis_1\">\r\n    <g id=\"xtick_1\">\r\n     <g id=\"line2d_1\">\r\n      <path clip-path=\"url(#p116d2d90e8)\" d=\"M 83.594744 224.64 \r\nL 83.594744 7.2 \r\n\" style=\"fill:none;stroke:#ffffff;stroke-linecap:round;\"/>\r\n     </g>\r\n     <g id=\"text_1\">\r\n      <!-- 0 -->\r\n      <g style=\"fill:#262626;\" transform=\"translate(80.536229 242.013594)scale(0.11 -0.11)\">\r\n       <defs>\r\n        <path d=\"M 4.15625 35.296875 \r\nQ 4.15625 48 6.765625 55.734375 \r\nQ 9.375 63.484375 14.515625 67.671875 \r\nQ 19.671875 71.875 27.484375 71.875 \r\nQ 33.25 71.875 37.59375 69.546875 \r\nQ 41.9375 67.234375 44.765625 62.859375 \r\nQ 47.609375 58.5 49.21875 52.21875 \r\nQ 50.828125 45.953125 50.828125 35.296875 \r\nQ 50.828125 22.703125 48.234375 14.96875 \r\nQ 45.65625 7.234375 40.5 3 \r\nQ 35.359375 -1.21875 27.484375 -1.21875 \r\nQ 17.140625 -1.21875 11.234375 6.203125 \r\nQ 4.15625 15.140625 4.15625 35.296875 \r\nz\r\nM 13.1875 35.296875 \r\nQ 13.1875 17.671875 17.3125 11.828125 \r\nQ 21.4375 6 27.484375 6 \r\nQ 33.546875 6 37.671875 11.859375 \r\nQ 41.796875 17.71875 41.796875 35.296875 \r\nQ 41.796875 52.984375 37.671875 58.78125 \r\nQ 33.546875 64.59375 27.390625 64.59375 \r\nQ 21.34375 64.59375 17.71875 59.46875 \r\nQ 13.1875 52.9375 13.1875 35.296875 \r\nz\r\n\" id=\"ArialMT-48\"/>\r\n       </defs>\r\n       <use xlink:href=\"#ArialMT-48\"/>\r\n      </g>\r\n     </g>\r\n    </g>\r\n    <g id=\"xtick_2\">\r\n     <g id=\"line2d_2\">\r\n      <path clip-path=\"url(#p116d2d90e8)\" d=\"M 139.237091 224.64 \r\nL 139.237091 7.2 \r\n\" style=\"fill:none;stroke:#ffffff;stroke-linecap:round;\"/>\r\n     </g>\r\n     <g id=\"text_2\">\r\n      <!-- 100 -->\r\n      <g style=\"fill:#262626;\" transform=\"translate(130.061544 242.013594)scale(0.11 -0.11)\">\r\n       <defs>\r\n        <path d=\"M 37.25 0 \r\nL 28.46875 0 \r\nL 28.46875 56 \r\nQ 25.296875 52.984375 20.140625 49.953125 \r\nQ 14.984375 46.921875 10.890625 45.40625 \r\nL 10.890625 53.90625 \r\nQ 18.265625 57.375 23.78125 62.296875 \r\nQ 29.296875 67.234375 31.59375 71.875 \r\nL 37.25 71.875 \r\nz\r\n\" id=\"ArialMT-49\"/>\r\n       </defs>\r\n       <use xlink:href=\"#ArialMT-49\"/>\r\n       <use x=\"55.615234\" xlink:href=\"#ArialMT-48\"/>\r\n       <use x=\"111.230469\" xlink:href=\"#ArialMT-48\"/>\r\n      </g>\r\n     </g>\r\n    </g>\r\n    <g id=\"xtick_3\">\r\n     <g id=\"line2d_3\">\r\n      <path clip-path=\"url(#p116d2d90e8)\" d=\"M 194.879438 224.64 \r\nL 194.879438 7.2 \r\n\" style=\"fill:none;stroke:#ffffff;stroke-linecap:round;\"/>\r\n     </g>\r\n     <g id=\"text_3\">\r\n      <!-- 200 -->\r\n      <g style=\"fill:#262626;\" transform=\"translate(185.703891 242.013594)scale(0.11 -0.11)\">\r\n       <defs>\r\n        <path d=\"M 50.34375 8.453125 \r\nL 50.34375 0 \r\nL 3.03125 0 \r\nQ 2.9375 3.171875 4.046875 6.109375 \r\nQ 5.859375 10.9375 9.828125 15.625 \r\nQ 13.8125 20.3125 21.34375 26.46875 \r\nQ 33.015625 36.03125 37.109375 41.625 \r\nQ 41.21875 47.21875 41.21875 52.203125 \r\nQ 41.21875 57.421875 37.46875 61 \r\nQ 33.734375 64.59375 27.734375 64.59375 \r\nQ 21.390625 64.59375 17.578125 60.78125 \r\nQ 13.765625 56.984375 13.71875 50.25 \r\nL 4.6875 51.171875 \r\nQ 5.609375 61.28125 11.65625 66.578125 \r\nQ 17.71875 71.875 27.9375 71.875 \r\nQ 38.234375 71.875 44.234375 66.15625 \r\nQ 50.25 60.453125 50.25 52 \r\nQ 50.25 47.703125 48.484375 43.546875 \r\nQ 46.734375 39.40625 42.65625 34.8125 \r\nQ 38.578125 30.21875 29.109375 22.21875 \r\nQ 21.1875 15.578125 18.9375 13.203125 \r\nQ 16.703125 10.84375 15.234375 8.453125 \r\nz\r\n\" id=\"ArialMT-50\"/>\r\n       </defs>\r\n       <use xlink:href=\"#ArialMT-50\"/>\r\n       <use x=\"55.615234\" xlink:href=\"#ArialMT-48\"/>\r\n       <use x=\"111.230469\" xlink:href=\"#ArialMT-48\"/>\r\n      </g>\r\n     </g>\r\n    </g>\r\n    <g id=\"xtick_4\">\r\n     <g id=\"line2d_4\">\r\n      <path clip-path=\"url(#p116d2d90e8)\" d=\"M 250.521784 224.64 \r\nL 250.521784 7.2 \r\n\" style=\"fill:none;stroke:#ffffff;stroke-linecap:round;\"/>\r\n     </g>\r\n     <g id=\"text_4\">\r\n      <!-- 300 -->\r\n      <g style=\"fill:#262626;\" transform=\"translate(241.346237 242.013594)scale(0.11 -0.11)\">\r\n       <defs>\r\n        <path d=\"M 4.203125 18.890625 \r\nL 12.984375 20.0625 \r\nQ 14.5 12.59375 18.140625 9.296875 \r\nQ 21.78125 6 27 6 \r\nQ 33.203125 6 37.46875 10.296875 \r\nQ 41.75 14.59375 41.75 20.953125 \r\nQ 41.75 27 37.796875 30.921875 \r\nQ 33.84375 34.859375 27.734375 34.859375 \r\nQ 25.25 34.859375 21.53125 33.890625 \r\nL 22.515625 41.609375 \r\nQ 23.390625 41.5 23.921875 41.5 \r\nQ 29.546875 41.5 34.03125 44.421875 \r\nQ 38.53125 47.359375 38.53125 53.46875 \r\nQ 38.53125 58.296875 35.25 61.46875 \r\nQ 31.984375 64.65625 26.8125 64.65625 \r\nQ 21.6875 64.65625 18.265625 61.421875 \r\nQ 14.84375 58.203125 13.875 51.765625 \r\nL 5.078125 53.328125 \r\nQ 6.6875 62.15625 12.390625 67.015625 \r\nQ 18.109375 71.875 26.609375 71.875 \r\nQ 32.46875 71.875 37.390625 69.359375 \r\nQ 42.328125 66.84375 44.9375 62.5 \r\nQ 47.5625 58.15625 47.5625 53.265625 \r\nQ 47.5625 48.640625 45.0625 44.828125 \r\nQ 42.578125 41.015625 37.703125 38.765625 \r\nQ 44.046875 37.3125 47.5625 32.6875 \r\nQ 51.078125 28.078125 51.078125 21.140625 \r\nQ 51.078125 11.765625 44.234375 5.25 \r\nQ 37.40625 -1.265625 26.953125 -1.265625 \r\nQ 17.53125 -1.265625 11.296875 4.34375 \r\nQ 5.078125 9.96875 4.203125 18.890625 \r\nz\r\n\" id=\"ArialMT-51\"/>\r\n       </defs>\r\n       <use xlink:href=\"#ArialMT-51\"/>\r\n       <use x=\"55.615234\" xlink:href=\"#ArialMT-48\"/>\r\n       <use x=\"111.230469\" xlink:href=\"#ArialMT-48\"/>\r\n      </g>\r\n     </g>\r\n    </g>\r\n    <g id=\"xtick_5\">\r\n     <g id=\"line2d_5\">\r\n      <path clip-path=\"url(#p116d2d90e8)\" d=\"M 306.164131 224.64 \r\nL 306.164131 7.2 \r\n\" style=\"fill:none;stroke:#ffffff;stroke-linecap:round;\"/>\r\n     </g>\r\n     <g id=\"text_5\">\r\n      <!-- 400 -->\r\n      <g style=\"fill:#262626;\" transform=\"translate(296.988584 242.013594)scale(0.11 -0.11)\">\r\n       <defs>\r\n        <path d=\"M 32.328125 0 \r\nL 32.328125 17.140625 \r\nL 1.265625 17.140625 \r\nL 1.265625 25.203125 \r\nL 33.9375 71.578125 \r\nL 41.109375 71.578125 \r\nL 41.109375 25.203125 \r\nL 50.78125 25.203125 \r\nL 50.78125 17.140625 \r\nL 41.109375 17.140625 \r\nL 41.109375 0 \r\nz\r\nM 32.328125 25.203125 \r\nL 32.328125 57.46875 \r\nL 9.90625 25.203125 \r\nz\r\n\" id=\"ArialMT-52\"/>\r\n       </defs>\r\n       <use xlink:href=\"#ArialMT-52\"/>\r\n       <use x=\"55.615234\" xlink:href=\"#ArialMT-48\"/>\r\n       <use x=\"111.230469\" xlink:href=\"#ArialMT-48\"/>\r\n      </g>\r\n     </g>\r\n    </g>\r\n    <g id=\"xtick_6\">\r\n     <g id=\"line2d_6\">\r\n      <path clip-path=\"url(#p116d2d90e8)\" d=\"M 361.806478 224.64 \r\nL 361.806478 7.2 \r\n\" style=\"fill:none;stroke:#ffffff;stroke-linecap:round;\"/>\r\n     </g>\r\n     <g id=\"text_6\">\r\n      <!-- 500 -->\r\n      <g style=\"fill:#262626;\" transform=\"translate(352.630931 242.013594)scale(0.11 -0.11)\">\r\n       <defs>\r\n        <path d=\"M 4.15625 18.75 \r\nL 13.375 19.53125 \r\nQ 14.40625 12.796875 18.140625 9.390625 \r\nQ 21.875 6 27.15625 6 \r\nQ 33.5 6 37.890625 10.78125 \r\nQ 42.28125 15.578125 42.28125 23.484375 \r\nQ 42.28125 31 38.0625 35.34375 \r\nQ 33.84375 39.703125 27 39.703125 \r\nQ 22.75 39.703125 19.328125 37.765625 \r\nQ 15.921875 35.84375 13.96875 32.765625 \r\nL 5.71875 33.84375 \r\nL 12.640625 70.609375 \r\nL 48.25 70.609375 \r\nL 48.25 62.203125 \r\nL 19.671875 62.203125 \r\nL 15.828125 42.96875 \r\nQ 22.265625 47.46875 29.34375 47.46875 \r\nQ 38.71875 47.46875 45.15625 40.96875 \r\nQ 51.609375 34.46875 51.609375 24.265625 \r\nQ 51.609375 14.546875 45.953125 7.46875 \r\nQ 39.0625 -1.21875 27.15625 -1.21875 \r\nQ 17.390625 -1.21875 11.203125 4.25 \r\nQ 5.03125 9.71875 4.15625 18.75 \r\nz\r\n\" id=\"ArialMT-53\"/>\r\n       </defs>\r\n       <use xlink:href=\"#ArialMT-53\"/>\r\n       <use x=\"55.615234\" xlink:href=\"#ArialMT-48\"/>\r\n       <use x=\"111.230469\" xlink:href=\"#ArialMT-48\"/>\r\n      </g>\r\n     </g>\r\n    </g>\r\n    <g id=\"text_7\">\r\n     <!-- Days -->\r\n     <g style=\"fill:#262626;\" transform=\"translate(222.106875 256.789219)scale(0.12 -0.12)\">\r\n      <defs>\r\n       <path d=\"M 7.71875 0 \r\nL 7.71875 71.578125 \r\nL 32.375 71.578125 \r\nQ 40.71875 71.578125 45.125 70.5625 \r\nQ 51.265625 69.140625 55.609375 65.4375 \r\nQ 61.28125 60.640625 64.078125 53.1875 \r\nQ 66.890625 45.75 66.890625 36.1875 \r\nQ 66.890625 28.03125 64.984375 21.734375 \r\nQ 63.09375 15.4375 60.109375 11.296875 \r\nQ 57.125 7.171875 53.578125 4.796875 \r\nQ 50.046875 2.4375 45.046875 1.21875 \r\nQ 40.046875 0 33.546875 0 \r\nz\r\nM 17.1875 8.453125 \r\nL 32.46875 8.453125 \r\nQ 39.546875 8.453125 43.578125 9.765625 \r\nQ 47.609375 11.078125 50 13.484375 \r\nQ 53.375 16.84375 55.25 22.53125 \r\nQ 57.125 28.21875 57.125 36.328125 \r\nQ 57.125 47.5625 53.4375 53.59375 \r\nQ 49.75 59.625 44.484375 61.671875 \r\nQ 40.671875 63.140625 32.234375 63.140625 \r\nL 17.1875 63.140625 \r\nz\r\n\" id=\"ArialMT-68\"/>\r\n       <path d=\"M 40.4375 6.390625 \r\nQ 35.546875 2.25 31.03125 0.53125 \r\nQ 26.515625 -1.171875 21.34375 -1.171875 \r\nQ 12.796875 -1.171875 8.203125 3 \r\nQ 3.609375 7.171875 3.609375 13.671875 \r\nQ 3.609375 17.484375 5.34375 20.625 \r\nQ 7.078125 23.78125 9.890625 25.6875 \r\nQ 12.703125 27.59375 16.21875 28.5625 \r\nQ 18.796875 29.25 24.03125 29.890625 \r\nQ 34.671875 31.15625 39.703125 32.90625 \r\nQ 39.75 34.71875 39.75 35.203125 \r\nQ 39.75 40.578125 37.25 42.78125 \r\nQ 33.890625 45.75 27.25 45.75 \r\nQ 21.046875 45.75 18.09375 43.578125 \r\nQ 15.140625 41.40625 13.71875 35.890625 \r\nL 5.125 37.0625 \r\nQ 6.296875 42.578125 8.984375 45.96875 \r\nQ 11.671875 49.359375 16.75 51.1875 \r\nQ 21.828125 53.03125 28.515625 53.03125 \r\nQ 35.15625 53.03125 39.296875 51.46875 \r\nQ 43.453125 49.90625 45.40625 47.53125 \r\nQ 47.359375 45.171875 48.140625 41.546875 \r\nQ 48.578125 39.3125 48.578125 33.453125 \r\nL 48.578125 21.734375 \r\nQ 48.578125 9.46875 49.140625 6.21875 \r\nQ 49.703125 2.984375 51.375 0 \r\nL 42.1875 0 \r\nQ 40.828125 2.734375 40.4375 6.390625 \r\nz\r\nM 39.703125 26.03125 \r\nQ 34.90625 24.078125 25.34375 22.703125 \r\nQ 19.921875 21.921875 17.671875 20.9375 \r\nQ 15.4375 19.96875 14.203125 18.09375 \r\nQ 12.984375 16.21875 12.984375 13.921875 \r\nQ 12.984375 10.40625 15.640625 8.0625 \r\nQ 18.3125 5.71875 23.4375 5.71875 \r\nQ 28.515625 5.71875 32.46875 7.9375 \r\nQ 36.421875 10.15625 38.28125 14.015625 \r\nQ 39.703125 17 39.703125 22.796875 \r\nz\r\n\" id=\"ArialMT-97\"/>\r\n       <path d=\"M 6.203125 -19.96875 \r\nL 5.21875 -11.71875 \r\nQ 8.109375 -12.5 10.25 -12.5 \r\nQ 13.1875 -12.5 14.9375 -11.515625 \r\nQ 16.703125 -10.546875 17.828125 -8.796875 \r\nQ 18.65625 -7.46875 20.515625 -2.25 \r\nQ 20.75 -1.515625 21.296875 -0.09375 \r\nL 1.609375 51.859375 \r\nL 11.078125 51.859375 \r\nL 21.875 21.828125 \r\nQ 23.96875 16.109375 25.640625 9.8125 \r\nQ 27.15625 15.875 29.25 21.625 \r\nL 40.328125 51.859375 \r\nL 49.125 51.859375 \r\nL 29.390625 -0.875 \r\nQ 26.21875 -9.421875 24.46875 -12.640625 \r\nQ 22.125 -17 19.09375 -19.015625 \r\nQ 16.0625 -21.046875 11.859375 -21.046875 \r\nQ 9.328125 -21.046875 6.203125 -19.96875 \r\nz\r\n\" id=\"ArialMT-121\"/>\r\n       <path d=\"M 3.078125 15.484375 \r\nL 11.765625 16.84375 \r\nQ 12.5 11.625 15.84375 8.84375 \r\nQ 19.1875 6.0625 25.203125 6.0625 \r\nQ 31.25 6.0625 34.171875 8.515625 \r\nQ 37.109375 10.984375 37.109375 14.3125 \r\nQ 37.109375 17.28125 34.515625 19 \r\nQ 32.71875 20.171875 25.53125 21.96875 \r\nQ 15.875 24.421875 12.140625 26.203125 \r\nQ 8.40625 27.984375 6.46875 31.125 \r\nQ 4.546875 34.28125 4.546875 38.09375 \r\nQ 4.546875 41.546875 6.125 44.5 \r\nQ 7.71875 47.46875 10.453125 49.421875 \r\nQ 12.5 50.921875 16.03125 51.96875 \r\nQ 19.578125 53.03125 23.640625 53.03125 \r\nQ 29.734375 53.03125 34.34375 51.265625 \r\nQ 38.96875 49.515625 41.15625 46.5 \r\nQ 43.359375 43.5 44.1875 38.484375 \r\nL 35.59375 37.3125 \r\nQ 35.015625 41.3125 32.203125 43.546875 \r\nQ 29.390625 45.796875 24.265625 45.796875 \r\nQ 18.21875 45.796875 15.625 43.796875 \r\nQ 13.03125 41.796875 13.03125 39.109375 \r\nQ 13.03125 37.40625 14.109375 36.03125 \r\nQ 15.1875 34.625 17.484375 33.6875 \r\nQ 18.796875 33.203125 25.25 31.453125 \r\nQ 34.578125 28.953125 38.25 27.359375 \r\nQ 41.9375 25.78125 44.03125 22.75 \r\nQ 46.140625 19.734375 46.140625 15.234375 \r\nQ 46.140625 10.84375 43.578125 6.953125 \r\nQ 41.015625 3.078125 36.171875 0.953125 \r\nQ 31.34375 -1.171875 25.25 -1.171875 \r\nQ 15.140625 -1.171875 9.84375 3.03125 \r\nQ 4.546875 7.234375 3.078125 15.484375 \r\nz\r\n\" id=\"ArialMT-115\"/>\r\n      </defs>\r\n      <use xlink:href=\"#ArialMT-68\"/>\r\n      <use x=\"72.216797\" xlink:href=\"#ArialMT-97\"/>\r\n      <use x=\"127.832031\" xlink:href=\"#ArialMT-121\"/>\r\n      <use x=\"177.832031\" xlink:href=\"#ArialMT-115\"/>\r\n     </g>\r\n    </g>\r\n   </g>\r\n   <g id=\"matplotlib.axis_2\">\r\n    <g id=\"ytick_1\">\r\n     <g id=\"line2d_7\">\r\n      <path clip-path=\"url(#p116d2d90e8)\" d=\"M 68.376563 214.756364 \r\nL 403.176562 214.756364 \r\n\" style=\"fill:none;stroke:#ffffff;stroke-linecap:round;\"/>\r\n     </g>\r\n     <g id=\"text_8\">\r\n      <!-- 0 -->\r\n      <g style=\"fill:#262626;\" transform=\"translate(52.759531 218.693161)scale(0.11 -0.11)\">\r\n       <use xlink:href=\"#ArialMT-48\"/>\r\n      </g>\r\n     </g>\r\n    </g>\r\n    <g id=\"ytick_2\">\r\n     <g id=\"line2d_8\">\r\n      <path clip-path=\"url(#p116d2d90e8)\" d=\"M 68.376563 186.813646 \r\nL 403.176562 186.813646 \r\n\" style=\"fill:none;stroke:#ffffff;stroke-linecap:round;\"/>\r\n     </g>\r\n     <g id=\"text_9\">\r\n      <!-- 100000 -->\r\n      <g style=\"fill:#262626;\" transform=\"translate(22.174375 190.750443)scale(0.11 -0.11)\">\r\n       <use xlink:href=\"#ArialMT-49\"/>\r\n       <use x=\"55.615234\" xlink:href=\"#ArialMT-48\"/>\r\n       <use x=\"111.230469\" xlink:href=\"#ArialMT-48\"/>\r\n       <use x=\"166.845703\" xlink:href=\"#ArialMT-48\"/>\r\n       <use x=\"222.460938\" xlink:href=\"#ArialMT-48\"/>\r\n       <use x=\"278.076172\" xlink:href=\"#ArialMT-48\"/>\r\n      </g>\r\n     </g>\r\n    </g>\r\n    <g id=\"ytick_3\">\r\n     <g id=\"line2d_9\">\r\n      <path clip-path=\"url(#p116d2d90e8)\" d=\"M 68.376563 158.870929 \r\nL 403.176562 158.870929 \r\n\" style=\"fill:none;stroke:#ffffff;stroke-linecap:round;\"/>\r\n     </g>\r\n     <g id=\"text_10\">\r\n      <!-- 200000 -->\r\n      <g style=\"fill:#262626;\" transform=\"translate(22.174375 162.807726)scale(0.11 -0.11)\">\r\n       <use xlink:href=\"#ArialMT-50\"/>\r\n       <use x=\"55.615234\" xlink:href=\"#ArialMT-48\"/>\r\n       <use x=\"111.230469\" xlink:href=\"#ArialMT-48\"/>\r\n       <use x=\"166.845703\" xlink:href=\"#ArialMT-48\"/>\r\n       <use x=\"222.460938\" xlink:href=\"#ArialMT-48\"/>\r\n       <use x=\"278.076172\" xlink:href=\"#ArialMT-48\"/>\r\n      </g>\r\n     </g>\r\n    </g>\r\n    <g id=\"ytick_4\">\r\n     <g id=\"line2d_10\">\r\n      <path clip-path=\"url(#p116d2d90e8)\" d=\"M 68.376563 130.928212 \r\nL 403.176562 130.928212 \r\n\" style=\"fill:none;stroke:#ffffff;stroke-linecap:round;\"/>\r\n     </g>\r\n     <g id=\"text_11\">\r\n      <!-- 300000 -->\r\n      <g style=\"fill:#262626;\" transform=\"translate(22.174375 134.865009)scale(0.11 -0.11)\">\r\n       <use xlink:href=\"#ArialMT-51\"/>\r\n       <use x=\"55.615234\" xlink:href=\"#ArialMT-48\"/>\r\n       <use x=\"111.230469\" xlink:href=\"#ArialMT-48\"/>\r\n       <use x=\"166.845703\" xlink:href=\"#ArialMT-48\"/>\r\n       <use x=\"222.460938\" xlink:href=\"#ArialMT-48\"/>\r\n       <use x=\"278.076172\" xlink:href=\"#ArialMT-48\"/>\r\n      </g>\r\n     </g>\r\n    </g>\r\n    <g id=\"ytick_5\">\r\n     <g id=\"line2d_11\">\r\n      <path clip-path=\"url(#p116d2d90e8)\" d=\"M 68.376563 102.985495 \r\nL 403.176562 102.985495 \r\n\" style=\"fill:none;stroke:#ffffff;stroke-linecap:round;\"/>\r\n     </g>\r\n     <g id=\"text_12\">\r\n      <!-- 400000 -->\r\n      <g style=\"fill:#262626;\" transform=\"translate(22.174375 106.922292)scale(0.11 -0.11)\">\r\n       <use xlink:href=\"#ArialMT-52\"/>\r\n       <use x=\"55.615234\" xlink:href=\"#ArialMT-48\"/>\r\n       <use x=\"111.230469\" xlink:href=\"#ArialMT-48\"/>\r\n       <use x=\"166.845703\" xlink:href=\"#ArialMT-48\"/>\r\n       <use x=\"222.460938\" xlink:href=\"#ArialMT-48\"/>\r\n       <use x=\"278.076172\" xlink:href=\"#ArialMT-48\"/>\r\n      </g>\r\n     </g>\r\n    </g>\r\n    <g id=\"ytick_6\">\r\n     <g id=\"line2d_12\">\r\n      <path clip-path=\"url(#p116d2d90e8)\" d=\"M 68.376563 75.042778 \r\nL 403.176562 75.042778 \r\n\" style=\"fill:none;stroke:#ffffff;stroke-linecap:round;\"/>\r\n     </g>\r\n     <g id=\"text_13\">\r\n      <!-- 500000 -->\r\n      <g style=\"fill:#262626;\" transform=\"translate(22.174375 78.979574)scale(0.11 -0.11)\">\r\n       <use xlink:href=\"#ArialMT-53\"/>\r\n       <use x=\"55.615234\" xlink:href=\"#ArialMT-48\"/>\r\n       <use x=\"111.230469\" xlink:href=\"#ArialMT-48\"/>\r\n       <use x=\"166.845703\" xlink:href=\"#ArialMT-48\"/>\r\n       <use x=\"222.460938\" xlink:href=\"#ArialMT-48\"/>\r\n       <use x=\"278.076172\" xlink:href=\"#ArialMT-48\"/>\r\n      </g>\r\n     </g>\r\n    </g>\r\n    <g id=\"ytick_7\">\r\n     <g id=\"line2d_13\">\r\n      <path clip-path=\"url(#p116d2d90e8)\" d=\"M 68.376563 47.10006 \r\nL 403.176562 47.10006 \r\n\" style=\"fill:none;stroke:#ffffff;stroke-linecap:round;\"/>\r\n     </g>\r\n     <g id=\"text_14\">\r\n      <!-- 600000 -->\r\n      <g style=\"fill:#262626;\" transform=\"translate(22.174375 51.036857)scale(0.11 -0.11)\">\r\n       <defs>\r\n        <path d=\"M 49.75 54.046875 \r\nL 41.015625 53.375 \r\nQ 39.84375 58.546875 37.703125 60.890625 \r\nQ 34.125 64.65625 28.90625 64.65625 \r\nQ 24.703125 64.65625 21.53125 62.3125 \r\nQ 17.390625 59.28125 14.984375 53.46875 \r\nQ 12.59375 47.65625 12.5 36.921875 \r\nQ 15.671875 41.75 20.265625 44.09375 \r\nQ 24.859375 46.4375 29.890625 46.4375 \r\nQ 38.671875 46.4375 44.84375 39.96875 \r\nQ 51.03125 33.5 51.03125 23.25 \r\nQ 51.03125 16.5 48.125 10.71875 \r\nQ 45.21875 4.9375 40.140625 1.859375 \r\nQ 35.0625 -1.21875 28.609375 -1.21875 \r\nQ 17.625 -1.21875 10.6875 6.859375 \r\nQ 3.765625 14.9375 3.765625 33.5 \r\nQ 3.765625 54.25 11.421875 63.671875 \r\nQ 18.109375 71.875 29.4375 71.875 \r\nQ 37.890625 71.875 43.28125 67.140625 \r\nQ 48.6875 62.40625 49.75 54.046875 \r\nz\r\nM 13.875 23.1875 \r\nQ 13.875 18.65625 15.796875 14.5 \r\nQ 17.71875 10.359375 21.1875 8.171875 \r\nQ 24.65625 6 28.46875 6 \r\nQ 34.03125 6 38.03125 10.484375 \r\nQ 42.046875 14.984375 42.046875 22.703125 \r\nQ 42.046875 30.125 38.078125 34.390625 \r\nQ 34.125 38.671875 28.125 38.671875 \r\nQ 22.171875 38.671875 18.015625 34.390625 \r\nQ 13.875 30.125 13.875 23.1875 \r\nz\r\n\" id=\"ArialMT-54\"/>\r\n       </defs>\r\n       <use xlink:href=\"#ArialMT-54\"/>\r\n       <use x=\"55.615234\" xlink:href=\"#ArialMT-48\"/>\r\n       <use x=\"111.230469\" xlink:href=\"#ArialMT-48\"/>\r\n       <use x=\"166.845703\" xlink:href=\"#ArialMT-48\"/>\r\n       <use x=\"222.460938\" xlink:href=\"#ArialMT-48\"/>\r\n       <use x=\"278.076172\" xlink:href=\"#ArialMT-48\"/>\r\n      </g>\r\n     </g>\r\n    </g>\r\n    <g id=\"ytick_8\">\r\n     <g id=\"line2d_14\">\r\n      <path clip-path=\"url(#p116d2d90e8)\" d=\"M 68.376563 19.157343 \r\nL 403.176562 19.157343 \r\n\" style=\"fill:none;stroke:#ffffff;stroke-linecap:round;\"/>\r\n     </g>\r\n     <g id=\"text_15\">\r\n      <!-- 700000 -->\r\n      <g style=\"fill:#262626;\" transform=\"translate(22.174375 23.09414)scale(0.11 -0.11)\">\r\n       <defs>\r\n        <path d=\"M 4.734375 62.203125 \r\nL 4.734375 70.65625 \r\nL 51.078125 70.65625 \r\nL 51.078125 63.8125 \r\nQ 44.234375 56.546875 37.515625 44.484375 \r\nQ 30.8125 32.421875 27.15625 19.671875 \r\nQ 24.515625 10.6875 23.78125 0 \r\nL 14.75 0 \r\nQ 14.890625 8.453125 18.0625 20.40625 \r\nQ 21.234375 32.375 27.171875 43.484375 \r\nQ 33.109375 54.59375 39.796875 62.203125 \r\nz\r\n\" id=\"ArialMT-55\"/>\r\n       </defs>\r\n       <use xlink:href=\"#ArialMT-55\"/>\r\n       <use x=\"55.615234\" xlink:href=\"#ArialMT-48\"/>\r\n       <use x=\"111.230469\" xlink:href=\"#ArialMT-48\"/>\r\n       <use x=\"166.845703\" xlink:href=\"#ArialMT-48\"/>\r\n       <use x=\"222.460938\" xlink:href=\"#ArialMT-48\"/>\r\n       <use x=\"278.076172\" xlink:href=\"#ArialMT-48\"/>\r\n      </g>\r\n     </g>\r\n    </g>\r\n    <g id=\"text_16\">\r\n     <!-- Cases -->\r\n     <g style=\"fill:#262626;\" transform=\"translate(15.789375 132.92625)rotate(-90)scale(0.12 -0.12)\">\r\n      <defs>\r\n       <path d=\"M 58.796875 25.09375 \r\nL 68.265625 22.703125 \r\nQ 65.28125 11.03125 57.546875 4.90625 \r\nQ 49.8125 -1.21875 38.625 -1.21875 \r\nQ 27.046875 -1.21875 19.796875 3.484375 \r\nQ 12.546875 8.203125 8.765625 17.140625 \r\nQ 4.984375 26.078125 4.984375 36.328125 \r\nQ 4.984375 47.515625 9.25 55.828125 \r\nQ 13.53125 64.15625 21.40625 68.46875 \r\nQ 29.296875 72.796875 38.765625 72.796875 \r\nQ 49.515625 72.796875 56.828125 67.328125 \r\nQ 64.15625 61.859375 67.046875 51.953125 \r\nL 57.71875 49.75 \r\nQ 55.21875 57.5625 50.484375 61.125 \r\nQ 45.75 64.703125 38.578125 64.703125 \r\nQ 30.328125 64.703125 24.78125 60.734375 \r\nQ 19.234375 56.78125 16.984375 50.109375 \r\nQ 14.75 43.453125 14.75 36.375 \r\nQ 14.75 27.25 17.40625 20.4375 \r\nQ 20.0625 13.625 25.671875 10.25 \r\nQ 31.296875 6.890625 37.84375 6.890625 \r\nQ 45.796875 6.890625 51.3125 11.46875 \r\nQ 56.84375 16.0625 58.796875 25.09375 \r\nz\r\n\" id=\"ArialMT-67\"/>\r\n       <path d=\"M 42.09375 16.703125 \r\nL 51.171875 15.578125 \r\nQ 49.03125 7.625 43.21875 3.21875 \r\nQ 37.40625 -1.171875 28.375 -1.171875 \r\nQ 17 -1.171875 10.328125 5.828125 \r\nQ 3.65625 12.84375 3.65625 25.484375 \r\nQ 3.65625 38.578125 10.390625 45.796875 \r\nQ 17.140625 53.03125 27.875 53.03125 \r\nQ 38.28125 53.03125 44.875 45.953125 \r\nQ 51.46875 38.875 51.46875 26.03125 \r\nQ 51.46875 25.25 51.421875 23.6875 \r\nL 12.75 23.6875 \r\nQ 13.234375 15.140625 17.578125 10.59375 \r\nQ 21.921875 6.0625 28.421875 6.0625 \r\nQ 33.25 6.0625 36.671875 8.59375 \r\nQ 40.09375 11.140625 42.09375 16.703125 \r\nz\r\nM 13.234375 30.90625 \r\nL 42.1875 30.90625 \r\nQ 41.609375 37.453125 38.875 40.71875 \r\nQ 34.671875 45.796875 27.984375 45.796875 \r\nQ 21.921875 45.796875 17.796875 41.75 \r\nQ 13.671875 37.703125 13.234375 30.90625 \r\nz\r\n\" id=\"ArialMT-101\"/>\r\n      </defs>\r\n      <use xlink:href=\"#ArialMT-67\"/>\r\n      <use x=\"72.216797\" xlink:href=\"#ArialMT-97\"/>\r\n      <use x=\"127.832031\" xlink:href=\"#ArialMT-115\"/>\r\n      <use x=\"177.832031\" xlink:href=\"#ArialMT-101\"/>\r\n      <use x=\"233.447266\" xlink:href=\"#ArialMT-115\"/>\r\n     </g>\r\n    </g>\r\n   </g>\r\n   <g id=\"line2d_15\">\r\n    <path clip-path=\"url(#p116d2d90e8)\" d=\"M 83.594744 213.006584 \r\nL 97.530808 212.292948 \r\nL 109.237102 211.47644 \r\nL 119.271068 210.568571 \r\nL 128.747591 209.487354 \r\nL 137.10923 208.3109 \r\nL 144.913426 206.985946 \r\nL 152.160179 205.523893 \r\nL 158.84949 203.94425 \r\nL 164.981358 202.274588 \r\nL 171.113226 200.365704 \r\nL 176.687651 198.399034 \r\nL 182.262077 196.189089 \r\nL 187.27906 193.973242 \r\nL 192.296043 191.525026 \r\nL 197.313026 188.827908 \r\nL 202.330009 185.866068 \r\nL 207.346992 182.624916 \r\nL 212.363975 179.091706 \r\nL 217.380958 175.256204 \r\nL 222.397941 171.111419 \r\nL 227.414924 166.654336 \r\nL 232.431907 161.886649 \r\nL 237.44889 156.81541 \r\nL 243.023316 150.840641 \r\nL 248.597741 144.534077 \r\nL 254.729609 137.257502 \r\nL 261.976363 128.282556 \r\nL 270.895444 116.854305 \r\nL 292.635703 88.835613 \r\nL 299.882457 79.953245 \r\nL 306.014325 72.776621 \r\nL 311.58875 66.574631 \r\nL 317.163176 60.714242 \r\nL 322.180159 55.75173 \r\nL 327.197142 51.095979 \r\nL 332.214125 46.752031 \r\nL 337.231108 42.719797 \r\nL 342.248091 38.994736 \r\nL 347.265074 35.568596 \r\nL 352.282057 32.430153 \r\nL 357.29904 29.565919 \r\nL 362.316023 26.960793 \r\nL 367.333006 24.598639 \r\nL 372.349989 22.462784 \r\nL 377.924415 20.334601 \r\nL 383.49884 18.442354 \r\nL 387.958381 17.083636 \r\nL 387.958381 17.083636 \r\n\" style=\"fill:none;stroke:#008000;stroke-linecap:round;stroke-width:1.5;\"/>\r\n   </g>\r\n   <g id=\"line2d_16\">\r\n    <path clip-path=\"url(#p116d2d90e8)\" d=\"M 83.594744 214.756364 \r\nL 115.36897 214.664712 \r\nL 118.156183 214.433066 \r\nL 120.943396 213.400862 \r\nL 122.615723 212.594156 \r\nL 126.517821 210.064781 \r\nL 128.747591 207.638236 \r\nL 130.419919 206.396462 \r\nL 132.092247 204.593039 \r\nL 134.322017 202.756643 \r\nL 134.87946 201.896287 \r\nL 135.436902 200.51424 \r\nL 135.994345 199.849483 \r\nL 137.10923 198.979347 \r\nL 139.339 196.786123 \r\nL 140.453885 195.731006 \r\nL 141.56877 195.120737 \r\nL 143.241098 193.706276 \r\nL 144.355983 193.018886 \r\nL 145.470868 192.588847 \r\nL 146.028311 192.263315 \r\nL 147.143196 191.44627 \r\nL 148.258081 190.722833 \r\nL 151.045294 189.359507 \r\nL 153.275064 188.575994 \r\nL 154.947392 188.067716 \r\nL 156.062277 187.650531 \r\nL 156.619719 186.590943 \r\nL 158.84949 186.099431 \r\nL 159.964375 185.853535 \r\nL 161.636702 185.652347 \r\nL 163.30903 185.306696 \r\nL 178.359979 183.709211 \r\nL 189.50883 182.036001 \r\nL 191.181158 181.65598 \r\nL 192.296043 181.447806 \r\nL 195.083256 180.934499 \r\nL 196.755583 180.748121 \r\nL 197.870469 180.748121 \r\nL 198.427911 180.331215 \r\nL 200.657681 179.991432 \r\nL 205.674664 179.105927 \r\nL 207.346992 178.840751 \r\nL 208.461877 178.741554 \r\nL 211.24909 178.741554 \r\nL 211.806533 178.344209 \r\nL 212.921418 178.191921 \r\nL 215.70863 177.730866 \r\nL 217.380958 177.405334 \r\nL 218.495843 177.149378 \r\nL 221.283056 176.754827 \r\nL 225.742596 175.494052 \r\nL 227.414924 175.059822 \r\nL 230.759579 174.072047 \r\nL 231.317022 173.895449 \r\nL 231.874465 173.189895 \r\nL 234.104235 172.459473 \r\nL 237.44889 170.950566 \r\nL 240.236103 169.342742 \r\nL 241.350988 168.565934 \r\nL 242.465873 168.043406 \r\nL 243.023316 167.785494 \r\nL 244.138201 166.829295 \r\nL 245.810529 165.146025 \r\nL 246.367971 164.821051 \r\nL 247.482856 163.551893 \r\nL 254.172167 155.336455 \r\nL 254.729609 154.714729 \r\nL 255.287052 153.813856 \r\nL 255.844495 153.813856 \r\nL 256.401937 152.566493 \r\nL 257.516822 151.061499 \r\nL 258.074265 150.725348 \r\nL 258.631707 149.930377 \r\nL 259.18915 148.635512 \r\nL 260.304035 145.374876 \r\nL 261.41892 142.551265 \r\nL 261.976363 141.863036 \r\nL 262.533805 140.932543 \r\nL 264.763575 135.234464 \r\nL 265.321018 133.927583 \r\nL 266.435903 131.89 \r\nL 268.108231 127.400444 \r\nL 269.223116 125.209735 \r\nL 269.780559 123.10956 \r\nL 270.338001 122.529749 \r\nL 273.125214 122.529749 \r\nL 273.682656 123.986682 \r\nL 274.240099 122.964258 \r\nL 275.354984 119.325558 \r\nL 275.912427 119.325558 \r\nL 276.469869 116.938691 \r\nL 277.027312 116.072466 \r\nL 277.584754 114.854723 \r\nL 278.142197 108.676588 \r\nL 279.257082 104.888953 \r\nL 280.371967 100.768799 \r\nL 280.92941 99.26101 \r\nL 281.486852 99.26101 \r\nL 282.044295 96.705649 \r\nL 284.831508 89.486089 \r\nL 286.503835 86.75385 \r\nL 288.176163 82.817839 \r\nL 289.291048 80.798418 \r\nL 289.848491 80.179487 \r\nL 290.405933 79.335058 \r\nL 290.963376 78.155317 \r\nL 291.520818 77.37823 \r\nL 292.078261 76.272537 \r\nL 293.193146 74.926815 \r\nL 293.750588 74.3783 \r\nL 294.308031 74.3783 \r\nL 294.865474 73.040402 \r\nL 296.537801 70.423846 \r\nL 297.652686 69.698733 \r\nL 298.767571 68.54386 \r\nL 299.882457 67.376693 \r\nL 300.997342 66.454583 \r\nL 302.112227 65.814975 \r\nL 303.784555 64.332893 \r\nL 306.014325 62.832928 \r\nL 307.12921 61.809666 \r\nL 308.801538 60.638307 \r\nL 309.35898 60.595834 \r\nL 311.58875 58.891328 \r\nL 312.146193 58.891328 \r\nL 312.703635 58.284133 \r\nL 313.818521 57.608199 \r\nL 314.933406 56.706487 \r\nL 315.490848 56.706487 \r\nL 316.048291 55.869603 \r\nL 317.163176 55.275261 \r\nL 318.835504 53.744559 \r\nL 319.950389 52.749798 \r\nL 321.065274 52.029994 \r\nL 322.180159 50.873445 \r\nL 323.852487 49.068345 \r\nL 324.967372 48.17837 \r\nL 327.197142 45.619655 \r\nL 327.754584 45.619655 \r\nL 328.312027 44.80764 \r\nL 328.86947 44.371454 \r\nL 330.541797 42.571384 \r\nL 331.09924 42.571384 \r\nL 331.656682 41.474353 \r\nL 332.771567 40.696428 \r\nL 335.001338 38.582561 \r\nL 340.018321 35.498803 \r\nL 340.575763 35.26632 \r\nL 342.248091 34.192202 \r\nL 343.362976 33.660731 \r\nL 344.477861 33.32486 \r\nL 347.265074 32.145118 \r\nL 350.609729 31.442638 \r\nL 351.167172 31.121297 \r\nL 352.8395 30.942743 \r\nL 353.396942 30.671419 \r\nL 355.626712 30.310399 \r\nL 363.430908 29.601772 \r\nL 370.120219 29.341625 \r\nL 372.907432 29.23712 \r\nL 380.711627 28.973899 \r\nL 381.26907 28.83698 \r\nL 383.49884 28.779977 \r\nL 387.400938 28.273375 \r\nL 387.958381 28.145398 \r\nL 387.958381 28.145398 \r\n\" style=\"fill:none;stroke:#ffa500;stroke-linecap:round;stroke-width:1.5;\"/>\r\n   </g>\r\n   <g id=\"patch_3\">\r\n    <path d=\"M 68.376563 224.64 \r\nL 68.376563 7.2 \r\n\" style=\"fill:none;stroke:#ffffff;stroke-linecap:square;stroke-linejoin:miter;stroke-width:1.25;\"/>\r\n   </g>\r\n   <g id=\"patch_4\">\r\n    <path d=\"M 403.176562 224.64 \r\nL 403.176562 7.2 \r\n\" style=\"fill:none;stroke:#ffffff;stroke-linecap:square;stroke-linejoin:miter;stroke-width:1.25;\"/>\r\n   </g>\r\n   <g id=\"patch_5\">\r\n    <path d=\"M 68.376563 224.64 \r\nL 403.176562 224.64 \r\n\" style=\"fill:none;stroke:#ffffff;stroke-linecap:square;stroke-linejoin:miter;stroke-width:1.25;\"/>\r\n   </g>\r\n   <g id=\"patch_6\">\r\n    <path d=\"M 68.376563 7.2 \r\nL 403.176562 7.2 \r\n\" style=\"fill:none;stroke:#ffffff;stroke-linecap:square;stroke-linejoin:miter;stroke-width:1.25;\"/>\r\n   </g>\r\n  </g>\r\n </g>\r\n <defs>\r\n  <clipPath id=\"p116d2d90e8\">\r\n   <rect height=\"217.44\" width=\"334.8\" x=\"68.376563\" y=\"7.2\"/>\r\n  </clipPath>\r\n </defs>\r\n</svg>\r\n",
      "image/png": "[encoded data removed]"
     },
     "metadata": {}
    },
    {
     "output_type": "stream",
     "name": "stdout",
     "text": [
      "PROJECTED MAX CASES:\n",
      "707421.0\n"
     ]
    }
   ],
   "metadata": {}
  },
  {
   "cell_type": "markdown",
   "source": [
    "Based off this result, we can see our logistic model (in orange) appears to be working and matches the timeseries data pretty well. It will do for our projected cases variable."
   ],
   "metadata": {}
  },
  {
   "cell_type": "markdown",
   "source": [
    "### Add Calculated Variables"
   ],
   "metadata": {}
  },
  {
   "cell_type": "markdown",
   "source": [
    "The first calculated variable we will add is the `projected_max` variable. In order to add the projected maxes to our dataframe we will use a custom aggregation function. This function will take in a list of y_data and return the projected max."
   ],
   "metadata": {}
  },
  {
   "cell_type": "code",
   "execution_count": 17,
   "source": [
    "def project_max( y_data ):\r\n",
    "    x_len = y_data.shape[0]\r\n",
    "    \r\n",
    "    x_data = np.linspace( 0, x_len, num=x_len )\r\n",
    "    \r\n",
    "    found_betas, covariance, x_proj, y_proj = build_model( logistic_model, x_data, y_data )\r\n",
    "    \r\n",
    "    return np.round(np.max(y_proj))"
   ],
   "outputs": [],
   "metadata": {}
  },
  {
   "cell_type": "markdown",
   "source": [
    "Next we pass our function into an aggregation which results in a series of projected maxes for each state that we then merge into our main dataframe."
   ],
   "metadata": {}
  },
  {
   "cell_type": "code",
   "execution_count": 18,
   "source": [
    "projected = cases_ts.aggregate( func=project_max, axis=1 )\r\n",
    "\r\n",
    "pop_case_elec = pop_case_elec.merge( projected.to_frame(name='projected_max'), on='state')"
   ],
   "outputs": [
    {
     "output_type": "stream",
     "name": "stderr",
     "text": [
      "<ipython-input-15-6f2958086ae9>:2: RuntimeWarning: overflow encountered in exp\n",
      "  return beta_0 / (1 + np.exp(beta_1 * ( beta_2 - x )))\n"
     ]
    }
   ],
   "metadata": {
    "scrolled": true
   }
  },
  {
   "cell_type": "markdown",
   "source": [
    "Using our new `projected_max` column we can calculate the projected max per capita by dividing it by the population."
   ],
   "metadata": {}
  },
  {
   "cell_type": "code",
   "execution_count": 19,
   "source": [
    "pop_case_elec['projected_max_per_cap'] = pop_case_elec['projected_max'] / pop_case_elec['population'] "
   ],
   "outputs": [],
   "metadata": {}
  },
  {
   "cell_type": "markdown",
   "source": [
    "Another variable that will need to be extrapolated from the data is the time of max increase. This will require another aggregation function. This function will return the the second beta calculated by out `build_model` function which is the time of max increase."
   ],
   "metadata": {}
  },
  {
   "cell_type": "code",
   "execution_count": 20,
   "source": [
    "def get_max_increase( y_data ):\r\n",
    "    x_len = y_data.shape[0]\r\n",
    "    \r\n",
    "    x_data = np.linspace( 0, x_len, num=x_len )\r\n",
    "    \r\n",
    "    found_betas, covariance, x_proj, y_proj = build_model( logistic_model, x_data, y_data )\r\n",
    "    \r\n",
    "    return found_betas[2]"
   ],
   "outputs": [],
   "metadata": {}
  },
  {
   "cell_type": "markdown",
   "source": [
    "Just as we did for the `projected_max` we use the aggregation function to create a series of the time of max increase for each state. We then join it with our main `pop_case_elec` dataframe naming it `time_max_increase`."
   ],
   "metadata": {}
  },
  {
   "cell_type": "code",
   "execution_count": 21,
   "source": [
    "max_increase = cases_ts.aggregate( func=get_max_increase, axis=1 )\r\n",
    "\r\n",
    "pop_case_elec = pop_case_elec.merge( max_increase.to_frame(name='time_max_increase'), on='state')"
   ],
   "outputs": [
    {
     "output_type": "stream",
     "name": "stderr",
     "text": [
      "<ipython-input-15-6f2958086ae9>:2: RuntimeWarning: overflow encountered in exp\n",
      "  return beta_0 / (1 + np.exp(beta_1 * ( beta_2 - x )))\n"
     ]
    }
   ],
   "metadata": {}
  },
  {
   "cell_type": "markdown",
   "source": [
    "Continueing on, we add the average rate of increase which can be found by dividing the current total cases on 2021-07-21 by the total number of days in the dataset as done below. We add it to the `pop_case_elec` dataframe as `avg_rate_increase`."
   ],
   "metadata": {}
  },
  {
   "cell_type": "code",
   "execution_count": 22,
   "source": [
    "total_days = pop_case_elec.shape[1]\r\n",
    "\r\n",
    "pop_case_elec['avg_rate_increase'] = pop_case_elec['2021-07-21'] / total_days"
   ],
   "outputs": [],
   "metadata": {}
  },
  {
   "cell_type": "markdown",
   "source": [
    "The calculated variable pair that we need are the total cases and total cases per capita. We know that the number of cases for the most recent day is the sum of all cases so we merely add the same column renamed as `total_cases`. Just as we did with the projected max per capita we can device this by the population to get the total cases per capita which we name `total_cases_per_cap`."
   ],
   "metadata": {}
  },
  {
   "cell_type": "code",
   "execution_count": 23,
   "source": [
    "pop_case_elec['total_cases']   = pop_case_elec['2021-07-21']\r\n",
    "pop_case_elec['total_cases_per_cap'] = pop_case_elec['total_cases'] / pop_case_elec['population']"
   ],
   "outputs": [],
   "metadata": {}
  },
  {
   "cell_type": "markdown",
   "source": [
    "Finally, we check to make sure that each of our new columns has been added correctly."
   ],
   "metadata": {}
  },
  {
   "cell_type": "code",
   "execution_count": 24,
   "source": [
    "pop_case_elec.head()"
   ],
   "outputs": [
    {
     "output_type": "execute_result",
     "data": {
      "text/plain": [
       "  state  population  2020-01-22  2020-01-23  2020-01-24  2020-01-25  \\\n",
       "0    AK      731545           0           0           0           0   \n",
       "1    AL     4903185           0           0           0           0   \n",
       "2    AR     3017804           0           0           0           0   \n",
       "3    AZ     7278717           0           0           0           0   \n",
       "4    CA    39512223           0           0           0           0   \n",
       "\n",
       "   2020-01-26  2020-01-27  2020-01-28  2020-01-29  ...  2021-07-21  clinton  \\\n",
       "0           0           0           0           0  ...       70328       38   \n",
       "1           0           0           0           0  ...      563943       35   \n",
       "2           0           0           0           0  ...      367007       34   \n",
       "3           1           1           1           1  ...      911480       45   \n",
       "4           2           3           3           4  ...     3772006       62   \n",
       "\n",
       "   trump  clinton_win  projected_max  projected_max_per_cap  \\\n",
       "0     53        False        66762.0               0.091262   \n",
       "1     63        False       563927.0               0.115012   \n",
       "2     60        False       355632.0               0.117845   \n",
       "3     50        False       929619.0               0.127717   \n",
       "4     33         True      3842270.0               0.097243   \n",
       "\n",
       "   time_max_increase  avg_rate_increase  total_cases  total_cases_per_cap  \n",
       "0         324.094779         126.717117        70328             0.096136  \n",
       "1         313.146175        1016.113514       563943             0.115016  \n",
       "2         315.169105         661.273874       367007             0.121614  \n",
       "3         325.236745        1642.306306       911480             0.125225  \n",
       "4         325.636517        6796.407207      3772006             0.095464  \n",
       "\n",
       "[5 rows x 558 columns]"
      ],
      "text/html": [
       "<div>\n",
       "<style scoped>\n",
       "    .dataframe tbody tr th:only-of-type {\n",
       "        vertical-align: middle;\n",
       "    }\n",
       "\n",
       "    .dataframe tbody tr th {\n",
       "        vertical-align: top;\n",
       "    }\n",
       "\n",
       "    .dataframe thead th {\n",
       "        text-align: right;\n",
       "    }\n",
       "</style>\n",
       "<table border=\"1\" class=\"dataframe\">\n",
       "  <thead>\n",
       "    <tr style=\"text-align: right;\">\n",
       "      <th></th>\n",
       "      <th>state</th>\n",
       "      <th>population</th>\n",
       "      <th>2020-01-22</th>\n",
       "      <th>2020-01-23</th>\n",
       "      <th>2020-01-24</th>\n",
       "      <th>2020-01-25</th>\n",
       "      <th>2020-01-26</th>\n",
       "      <th>2020-01-27</th>\n",
       "      <th>2020-01-28</th>\n",
       "      <th>2020-01-29</th>\n",
       "      <th>...</th>\n",
       "      <th>2021-07-21</th>\n",
       "      <th>clinton</th>\n",
       "      <th>trump</th>\n",
       "      <th>clinton_win</th>\n",
       "      <th>projected_max</th>\n",
       "      <th>projected_max_per_cap</th>\n",
       "      <th>time_max_increase</th>\n",
       "      <th>avg_rate_increase</th>\n",
       "      <th>total_cases</th>\n",
       "      <th>total_cases_per_cap</th>\n",
       "    </tr>\n",
       "  </thead>\n",
       "  <tbody>\n",
       "    <tr>\n",
       "      <th>0</th>\n",
       "      <td>AK</td>\n",
       "      <td>731545</td>\n",
       "      <td>0</td>\n",
       "      <td>0</td>\n",
       "      <td>0</td>\n",
       "      <td>0</td>\n",
       "      <td>0</td>\n",
       "      <td>0</td>\n",
       "      <td>0</td>\n",
       "      <td>0</td>\n",
       "      <td>...</td>\n",
       "      <td>70328</td>\n",
       "      <td>38</td>\n",
       "      <td>53</td>\n",
       "      <td>False</td>\n",
       "      <td>66762.0</td>\n",
       "      <td>0.091262</td>\n",
       "      <td>324.094779</td>\n",
       "      <td>126.717117</td>\n",
       "      <td>70328</td>\n",
       "      <td>0.096136</td>\n",
       "    </tr>\n",
       "    <tr>\n",
       "      <th>1</th>\n",
       "      <td>AL</td>\n",
       "      <td>4903185</td>\n",
       "      <td>0</td>\n",
       "      <td>0</td>\n",
       "      <td>0</td>\n",
       "      <td>0</td>\n",
       "      <td>0</td>\n",
       "      <td>0</td>\n",
       "      <td>0</td>\n",
       "      <td>0</td>\n",
       "      <td>...</td>\n",
       "      <td>563943</td>\n",
       "      <td>35</td>\n",
       "      <td>63</td>\n",
       "      <td>False</td>\n",
       "      <td>563927.0</td>\n",
       "      <td>0.115012</td>\n",
       "      <td>313.146175</td>\n",
       "      <td>1016.113514</td>\n",
       "      <td>563943</td>\n",
       "      <td>0.115016</td>\n",
       "    </tr>\n",
       "    <tr>\n",
       "      <th>2</th>\n",
       "      <td>AR</td>\n",
       "      <td>3017804</td>\n",
       "      <td>0</td>\n",
       "      <td>0</td>\n",
       "      <td>0</td>\n",
       "      <td>0</td>\n",
       "      <td>0</td>\n",
       "      <td>0</td>\n",
       "      <td>0</td>\n",
       "      <td>0</td>\n",
       "      <td>...</td>\n",
       "      <td>367007</td>\n",
       "      <td>34</td>\n",
       "      <td>60</td>\n",
       "      <td>False</td>\n",
       "      <td>355632.0</td>\n",
       "      <td>0.117845</td>\n",
       "      <td>315.169105</td>\n",
       "      <td>661.273874</td>\n",
       "      <td>367007</td>\n",
       "      <td>0.121614</td>\n",
       "    </tr>\n",
       "    <tr>\n",
       "      <th>3</th>\n",
       "      <td>AZ</td>\n",
       "      <td>7278717</td>\n",
       "      <td>0</td>\n",
       "      <td>0</td>\n",
       "      <td>0</td>\n",
       "      <td>0</td>\n",
       "      <td>1</td>\n",
       "      <td>1</td>\n",
       "      <td>1</td>\n",
       "      <td>1</td>\n",
       "      <td>...</td>\n",
       "      <td>911480</td>\n",
       "      <td>45</td>\n",
       "      <td>50</td>\n",
       "      <td>False</td>\n",
       "      <td>929619.0</td>\n",
       "      <td>0.127717</td>\n",
       "      <td>325.236745</td>\n",
       "      <td>1642.306306</td>\n",
       "      <td>911480</td>\n",
       "      <td>0.125225</td>\n",
       "    </tr>\n",
       "    <tr>\n",
       "      <th>4</th>\n",
       "      <td>CA</td>\n",
       "      <td>39512223</td>\n",
       "      <td>0</td>\n",
       "      <td>0</td>\n",
       "      <td>0</td>\n",
       "      <td>0</td>\n",
       "      <td>2</td>\n",
       "      <td>3</td>\n",
       "      <td>3</td>\n",
       "      <td>4</td>\n",
       "      <td>...</td>\n",
       "      <td>3772006</td>\n",
       "      <td>62</td>\n",
       "      <td>33</td>\n",
       "      <td>True</td>\n",
       "      <td>3842270.0</td>\n",
       "      <td>0.097243</td>\n",
       "      <td>325.636517</td>\n",
       "      <td>6796.407207</td>\n",
       "      <td>3772006</td>\n",
       "      <td>0.095464</td>\n",
       "    </tr>\n",
       "  </tbody>\n",
       "</table>\n",
       "<p>5 rows × 558 columns</p>\n",
       "</div>"
      ]
     },
     "metadata": {},
     "execution_count": 24
    }
   ],
   "metadata": {}
  },
  {
   "cell_type": "markdown",
   "source": [
    "We can confirm that each of our new variables has been added succesfully. Now we can move on to model and statistical analysis planning."
   ],
   "metadata": {}
  },
  {
   "cell_type": "markdown",
   "source": [
    "# Model Planning"
   ],
   "metadata": {}
  },
  {
   "cell_type": "markdown",
   "source": [
    "### Summary Dataframe\n",
    "\n",
    "For our statistical analysis we begin by searching for relations and functions in the data. To do this, we create a summary dataframe that includes each of our variables of interest along with the indicator `clinton_win`. This is done by slicing them from our main `pop_case_elec` data frame, and assigning it to `sum_pop_case_elec`. We added a column for the percentage of the vote which will go to trump. This column will help when we conduct our hypothesis tests for correlations we want to investigate further. "
   ],
   "metadata": {}
  },
  {
   "cell_type": "code",
   "execution_count": 25,
   "source": [
    "sum_pop_case_elec = pop_case_elec.loc[:, (\r\n",
    "    'clinton',\r\n",
    "    'population',\r\n",
    "    'projected_max',\r\n",
    "    'projected_max_per_cap',\r\n",
    "    'time_max_increase',\r\n",
    "    'avg_rate_increase',\r\n",
    "    'total_cases',\r\n",
    "    'total_cases_per_cap'\r\n",
    ")]\r\n",
    "\r\n",
    "\r\n",
    "sum_pop_case_elec.head()"
   ],
   "outputs": [
    {
     "output_type": "execute_result",
     "data": {
      "text/plain": [
       "   clinton  population  projected_max  projected_max_per_cap  \\\n",
       "0       38      731545        66762.0               0.091262   \n",
       "1       35     4903185       563927.0               0.115012   \n",
       "2       34     3017804       355632.0               0.117845   \n",
       "3       45     7278717       929619.0               0.127717   \n",
       "4       62    39512223      3842270.0               0.097243   \n",
       "\n",
       "   time_max_increase  avg_rate_increase  total_cases  total_cases_per_cap  \n",
       "0         324.094779         126.717117        70328             0.096136  \n",
       "1         313.146175        1016.113514       563943             0.115016  \n",
       "2         315.169105         661.273874       367007             0.121614  \n",
       "3         325.236745        1642.306306       911480             0.125225  \n",
       "4         325.636517        6796.407207      3772006             0.095464  "
      ],
      "text/html": [
       "<div>\n",
       "<style scoped>\n",
       "    .dataframe tbody tr th:only-of-type {\n",
       "        vertical-align: middle;\n",
       "    }\n",
       "\n",
       "    .dataframe tbody tr th {\n",
       "        vertical-align: top;\n",
       "    }\n",
       "\n",
       "    .dataframe thead th {\n",
       "        text-align: right;\n",
       "    }\n",
       "</style>\n",
       "<table border=\"1\" class=\"dataframe\">\n",
       "  <thead>\n",
       "    <tr style=\"text-align: right;\">\n",
       "      <th></th>\n",
       "      <th>clinton</th>\n",
       "      <th>population</th>\n",
       "      <th>projected_max</th>\n",
       "      <th>projected_max_per_cap</th>\n",
       "      <th>time_max_increase</th>\n",
       "      <th>avg_rate_increase</th>\n",
       "      <th>total_cases</th>\n",
       "      <th>total_cases_per_cap</th>\n",
       "    </tr>\n",
       "  </thead>\n",
       "  <tbody>\n",
       "    <tr>\n",
       "      <th>0</th>\n",
       "      <td>38</td>\n",
       "      <td>731545</td>\n",
       "      <td>66762.0</td>\n",
       "      <td>0.091262</td>\n",
       "      <td>324.094779</td>\n",
       "      <td>126.717117</td>\n",
       "      <td>70328</td>\n",
       "      <td>0.096136</td>\n",
       "    </tr>\n",
       "    <tr>\n",
       "      <th>1</th>\n",
       "      <td>35</td>\n",
       "      <td>4903185</td>\n",
       "      <td>563927.0</td>\n",
       "      <td>0.115012</td>\n",
       "      <td>313.146175</td>\n",
       "      <td>1016.113514</td>\n",
       "      <td>563943</td>\n",
       "      <td>0.115016</td>\n",
       "    </tr>\n",
       "    <tr>\n",
       "      <th>2</th>\n",
       "      <td>34</td>\n",
       "      <td>3017804</td>\n",
       "      <td>355632.0</td>\n",
       "      <td>0.117845</td>\n",
       "      <td>315.169105</td>\n",
       "      <td>661.273874</td>\n",
       "      <td>367007</td>\n",
       "      <td>0.121614</td>\n",
       "    </tr>\n",
       "    <tr>\n",
       "      <th>3</th>\n",
       "      <td>45</td>\n",
       "      <td>7278717</td>\n",
       "      <td>929619.0</td>\n",
       "      <td>0.127717</td>\n",
       "      <td>325.236745</td>\n",
       "      <td>1642.306306</td>\n",
       "      <td>911480</td>\n",
       "      <td>0.125225</td>\n",
       "    </tr>\n",
       "    <tr>\n",
       "      <th>4</th>\n",
       "      <td>62</td>\n",
       "      <td>39512223</td>\n",
       "      <td>3842270.0</td>\n",
       "      <td>0.097243</td>\n",
       "      <td>325.636517</td>\n",
       "      <td>6796.407207</td>\n",
       "      <td>3772006</td>\n",
       "      <td>0.095464</td>\n",
       "    </tr>\n",
       "  </tbody>\n",
       "</table>\n",
       "</div>"
      ]
     },
     "metadata": {},
     "execution_count": 25
    }
   ],
   "metadata": {}
  },
  {
   "cell_type": "markdown",
   "source": [
    "### Correlations\n",
    "Next, in order to search for relations we use a correlation heatmap created with seaborn. The map is colored via correlation coefficients. The spectral color scheme is used to essentially assign a color to subsets of coefficients. We look for anything around *less then -.4 (red)* and *greater then .4  (green)*."
   ],
   "metadata": {}
  },
  {
   "cell_type": "code",
   "execution_count": 26,
   "source": [
    "_ = sns.heatmap( sum_pop_case_elec.corr(), cmap='Spectral', annot=True )\r\n",
    "\r\n",
    "_ = plt.title('Summary Variable Correlations')\r\n",
    "\r\n",
    "plt.show()"
   ],
   "outputs": [
    {
     "output_type": "display_data",
     "data": {
      "text/plain": [
       "<Figure size 432x288 with 2 Axes>"
      ],
      "image/svg+xml": "<?xml version=\"1.0\" encoding=\"utf-8\" standalone=\"no\"?>\r\n<!DOCTYPE svg PUBLIC \"-//W3C//DTD SVG 1.1//EN\"\r\n  \"http://www.w3.org/Graphics/SVG/1.1/DTD/svg11.dtd\">\r\n<!-- Created with matplotlib (https://matplotlib.org/) -->\r\n<svg height=\"374.085pt\" version=\"1.1\" viewBox=\"0 0 468.576063 374.085\" width=\"468.576063pt\" xmlns=\"http://www.w3.org/2000/svg\" xmlns:xlink=\"http://www.w3.org/1999/xlink\">\r\n <metadata>\r\n  <rdf:RDF xmlns:cc=\"http://creativecommons.org/ns#\" xmlns:dc=\"http://purl.org/dc/elements/1.1/\" xmlns:rdf=\"http://www.w3.org/1999/02/22-rdf-syntax-ns#\">\r\n   <cc:Work>\r\n    <dc:type rdf:resource=\"http://purl.org/dc/dcmitype/StillImage\"/>\r\n    <dc:date>2021-08-18T17:22:47.498804</dc:date>\r\n    <dc:format>image/svg+xml</dc:format>\r\n    <dc:creator>\r\n     <cc:Agent>\r\n      <dc:title>Matplotlib v3.3.2, https://matplotlib.org/</dc:title>\r\n     </cc:Agent>\r\n    </dc:creator>\r\n   </cc:Work>\r\n  </rdf:RDF>\r\n </metadata>\r\n <defs>\r\n  <style type=\"text/css\">*{stroke-linecap:butt;stroke-linejoin:round;}</style>\r\n </defs>\r\n <g id=\"figure_1\">\r\n  <g id=\"patch_1\">\r\n   <path d=\"M 0 374.085 \r\nL 468.576062 374.085 \r\nL 468.576062 0 \r\nL 0 0 \r\nz\r\n\" style=\"fill:#ffffff;\"/>\r\n  </g>\r\n  <g id=\"axes_1\">\r\n   <g id=\"patch_2\">\r\n    <path d=\"M 134.709375 239.375625 \r\nL 402.549375 239.375625 \r\nL 402.549375 21.935625 \r\nL 134.709375 21.935625 \r\nz\r\n\" style=\"fill:#eaeaf2;\"/>\r\n   </g>\r\n   <g id=\"matplotlib.axis_1\">\r\n    <g id=\"xtick_1\">\r\n     <g id=\"text_1\">\r\n      <!-- clinton -->\r\n      <g style=\"fill:#262626;\" transform=\"translate(154.293047 280.670781)rotate(-90)scale(0.11 -0.11)\">\r\n       <defs>\r\n        <path d=\"M 40.4375 19 \r\nL 49.078125 17.875 \r\nQ 47.65625 8.9375 41.8125 3.875 \r\nQ 35.984375 -1.171875 27.484375 -1.171875 \r\nQ 16.84375 -1.171875 10.375 5.78125 \r\nQ 3.90625 12.75 3.90625 25.734375 \r\nQ 3.90625 34.125 6.6875 40.421875 \r\nQ 9.46875 46.734375 15.15625 49.875 \r\nQ 20.84375 53.03125 27.546875 53.03125 \r\nQ 35.984375 53.03125 41.359375 48.75 \r\nQ 46.734375 44.484375 48.25 36.625 \r\nL 39.703125 35.296875 \r\nQ 38.484375 40.53125 35.375 43.15625 \r\nQ 32.28125 45.796875 27.875 45.796875 \r\nQ 21.234375 45.796875 17.078125 41.03125 \r\nQ 12.9375 36.28125 12.9375 25.984375 \r\nQ 12.9375 15.53125 16.9375 10.796875 \r\nQ 20.953125 6.0625 27.390625 6.0625 \r\nQ 32.5625 6.0625 36.03125 9.234375 \r\nQ 39.5 12.40625 40.4375 19 \r\nz\r\n\" id=\"ArialMT-99\"/>\r\n        <path d=\"M 6.390625 0 \r\nL 6.390625 71.578125 \r\nL 15.1875 71.578125 \r\nL 15.1875 0 \r\nz\r\n\" id=\"ArialMT-108\"/>\r\n        <path d=\"M 6.640625 61.46875 \r\nL 6.640625 71.578125 \r\nL 15.4375 71.578125 \r\nL 15.4375 61.46875 \r\nz\r\nM 6.640625 0 \r\nL 6.640625 51.859375 \r\nL 15.4375 51.859375 \r\nL 15.4375 0 \r\nz\r\n\" id=\"ArialMT-105\"/>\r\n        <path d=\"M 6.59375 0 \r\nL 6.59375 51.859375 \r\nL 14.5 51.859375 \r\nL 14.5 44.484375 \r\nQ 20.21875 53.03125 31 53.03125 \r\nQ 35.6875 53.03125 39.625 51.34375 \r\nQ 43.5625 49.65625 45.515625 46.921875 \r\nQ 47.46875 44.1875 48.25 40.4375 \r\nQ 48.734375 37.984375 48.734375 31.890625 \r\nL 48.734375 0 \r\nL 39.9375 0 \r\nL 39.9375 31.546875 \r\nQ 39.9375 36.921875 38.90625 39.578125 \r\nQ 37.890625 42.234375 35.28125 43.8125 \r\nQ 32.671875 45.40625 29.15625 45.40625 \r\nQ 23.53125 45.40625 19.453125 41.84375 \r\nQ 15.375 38.28125 15.375 28.328125 \r\nL 15.375 0 \r\nz\r\n\" id=\"ArialMT-110\"/>\r\n        <path d=\"M 25.78125 7.859375 \r\nL 27.046875 0.09375 \r\nQ 23.34375 -0.6875 20.40625 -0.6875 \r\nQ 15.625 -0.6875 12.984375 0.828125 \r\nQ 10.359375 2.34375 9.28125 4.8125 \r\nQ 8.203125 7.28125 8.203125 15.1875 \r\nL 8.203125 45.015625 \r\nL 1.765625 45.015625 \r\nL 1.765625 51.859375 \r\nL 8.203125 51.859375 \r\nL 8.203125 64.703125 \r\nL 16.9375 69.96875 \r\nL 16.9375 51.859375 \r\nL 25.78125 51.859375 \r\nL 25.78125 45.015625 \r\nL 16.9375 45.015625 \r\nL 16.9375 14.703125 \r\nQ 16.9375 10.9375 17.40625 9.859375 \r\nQ 17.875 8.796875 18.921875 8.15625 \r\nQ 19.96875 7.515625 21.921875 7.515625 \r\nQ 23.390625 7.515625 25.78125 7.859375 \r\nz\r\n\" id=\"ArialMT-116\"/>\r\n        <path d=\"M 3.328125 25.921875 \r\nQ 3.328125 40.328125 11.328125 47.265625 \r\nQ 18.015625 53.03125 27.640625 53.03125 \r\nQ 38.328125 53.03125 45.109375 46.015625 \r\nQ 51.90625 39.015625 51.90625 26.65625 \r\nQ 51.90625 16.65625 48.90625 10.90625 \r\nQ 45.90625 5.171875 40.15625 2 \r\nQ 34.421875 -1.171875 27.640625 -1.171875 \r\nQ 16.75 -1.171875 10.03125 5.8125 \r\nQ 3.328125 12.796875 3.328125 25.921875 \r\nz\r\nM 12.359375 25.921875 \r\nQ 12.359375 15.96875 16.703125 11.015625 \r\nQ 21.046875 6.0625 27.640625 6.0625 \r\nQ 34.1875 6.0625 38.53125 11.03125 \r\nQ 42.875 16.015625 42.875 26.21875 \r\nQ 42.875 35.84375 38.5 40.796875 \r\nQ 34.125 45.75 27.640625 45.75 \r\nQ 21.046875 45.75 16.703125 40.8125 \r\nQ 12.359375 35.890625 12.359375 25.921875 \r\nz\r\n\" id=\"ArialMT-111\"/>\r\n       </defs>\r\n       <use xlink:href=\"#ArialMT-99\"/>\r\n       <use x=\"50\" xlink:href=\"#ArialMT-108\"/>\r\n       <use x=\"72.216797\" xlink:href=\"#ArialMT-105\"/>\r\n       <use x=\"94.433594\" xlink:href=\"#ArialMT-110\"/>\r\n       <use x=\"150.048828\" xlink:href=\"#ArialMT-116\"/>\r\n       <use x=\"177.832031\" xlink:href=\"#ArialMT-111\"/>\r\n       <use x=\"233.447266\" xlink:href=\"#ArialMT-110\"/>\r\n      </g>\r\n     </g>\r\n    </g>\r\n    <g id=\"xtick_2\">\r\n     <g id=\"text_2\">\r\n      <!-- population -->\r\n      <g style=\"fill:#262626;\" transform=\"translate(187.773047 299.638906)rotate(-90)scale(0.11 -0.11)\">\r\n       <defs>\r\n        <path d=\"M 6.59375 -19.875 \r\nL 6.59375 51.859375 \r\nL 14.59375 51.859375 \r\nL 14.59375 45.125 \r\nQ 17.4375 49.078125 21 51.046875 \r\nQ 24.5625 53.03125 29.640625 53.03125 \r\nQ 36.28125 53.03125 41.359375 49.609375 \r\nQ 46.4375 46.1875 49.015625 39.953125 \r\nQ 51.609375 33.734375 51.609375 26.3125 \r\nQ 51.609375 18.359375 48.75 11.984375 \r\nQ 45.90625 5.609375 40.453125 2.21875 \r\nQ 35.015625 -1.171875 29 -1.171875 \r\nQ 24.609375 -1.171875 21.109375 0.6875 \r\nQ 17.625 2.546875 15.375 5.375 \r\nL 15.375 -19.875 \r\nz\r\nM 14.546875 25.640625 \r\nQ 14.546875 15.625 18.59375 10.84375 \r\nQ 22.65625 6.0625 28.421875 6.0625 \r\nQ 34.28125 6.0625 38.453125 11.015625 \r\nQ 42.625 15.96875 42.625 26.375 \r\nQ 42.625 36.28125 38.546875 41.203125 \r\nQ 34.46875 46.140625 28.8125 46.140625 \r\nQ 23.1875 46.140625 18.859375 40.890625 \r\nQ 14.546875 35.640625 14.546875 25.640625 \r\nz\r\n\" id=\"ArialMT-112\"/>\r\n        <path d=\"M 40.578125 0 \r\nL 40.578125 7.625 \r\nQ 34.515625 -1.171875 24.125 -1.171875 \r\nQ 19.53125 -1.171875 15.546875 0.578125 \r\nQ 11.578125 2.34375 9.640625 5 \r\nQ 7.71875 7.671875 6.9375 11.53125 \r\nQ 6.390625 14.109375 6.390625 19.734375 \r\nL 6.390625 51.859375 \r\nL 15.1875 51.859375 \r\nL 15.1875 23.09375 \r\nQ 15.1875 16.21875 15.71875 13.8125 \r\nQ 16.546875 10.359375 19.234375 8.375 \r\nQ 21.921875 6.390625 25.875 6.390625 \r\nQ 29.828125 6.390625 33.296875 8.421875 \r\nQ 36.765625 10.453125 38.203125 13.9375 \r\nQ 39.65625 17.4375 39.65625 24.078125 \r\nL 39.65625 51.859375 \r\nL 48.4375 51.859375 \r\nL 48.4375 0 \r\nz\r\n\" id=\"ArialMT-117\"/>\r\n        <path d=\"M 40.4375 6.390625 \r\nQ 35.546875 2.25 31.03125 0.53125 \r\nQ 26.515625 -1.171875 21.34375 -1.171875 \r\nQ 12.796875 -1.171875 8.203125 3 \r\nQ 3.609375 7.171875 3.609375 13.671875 \r\nQ 3.609375 17.484375 5.34375 20.625 \r\nQ 7.078125 23.78125 9.890625 25.6875 \r\nQ 12.703125 27.59375 16.21875 28.5625 \r\nQ 18.796875 29.25 24.03125 29.890625 \r\nQ 34.671875 31.15625 39.703125 32.90625 \r\nQ 39.75 34.71875 39.75 35.203125 \r\nQ 39.75 40.578125 37.25 42.78125 \r\nQ 33.890625 45.75 27.25 45.75 \r\nQ 21.046875 45.75 18.09375 43.578125 \r\nQ 15.140625 41.40625 13.71875 35.890625 \r\nL 5.125 37.0625 \r\nQ 6.296875 42.578125 8.984375 45.96875 \r\nQ 11.671875 49.359375 16.75 51.1875 \r\nQ 21.828125 53.03125 28.515625 53.03125 \r\nQ 35.15625 53.03125 39.296875 51.46875 \r\nQ 43.453125 49.90625 45.40625 47.53125 \r\nQ 47.359375 45.171875 48.140625 41.546875 \r\nQ 48.578125 39.3125 48.578125 33.453125 \r\nL 48.578125 21.734375 \r\nQ 48.578125 9.46875 49.140625 6.21875 \r\nQ 49.703125 2.984375 51.375 0 \r\nL 42.1875 0 \r\nQ 40.828125 2.734375 40.4375 6.390625 \r\nz\r\nM 39.703125 26.03125 \r\nQ 34.90625 24.078125 25.34375 22.703125 \r\nQ 19.921875 21.921875 17.671875 20.9375 \r\nQ 15.4375 19.96875 14.203125 18.09375 \r\nQ 12.984375 16.21875 12.984375 13.921875 \r\nQ 12.984375 10.40625 15.640625 8.0625 \r\nQ 18.3125 5.71875 23.4375 5.71875 \r\nQ 28.515625 5.71875 32.46875 7.9375 \r\nQ 36.421875 10.15625 38.28125 14.015625 \r\nQ 39.703125 17 39.703125 22.796875 \r\nz\r\n\" id=\"ArialMT-97\"/>\r\n       </defs>\r\n       <use xlink:href=\"#ArialMT-112\"/>\r\n       <use x=\"55.615234\" xlink:href=\"#ArialMT-111\"/>\r\n       <use x=\"111.230469\" xlink:href=\"#ArialMT-112\"/>\r\n       <use x=\"166.845703\" xlink:href=\"#ArialMT-117\"/>\r\n       <use x=\"222.460938\" xlink:href=\"#ArialMT-108\"/>\r\n       <use x=\"244.677734\" xlink:href=\"#ArialMT-97\"/>\r\n       <use x=\"300.292969\" xlink:href=\"#ArialMT-116\"/>\r\n       <use x=\"328.076172\" xlink:href=\"#ArialMT-105\"/>\r\n       <use x=\"350.292969\" xlink:href=\"#ArialMT-111\"/>\r\n       <use x=\"405.908203\" xlink:href=\"#ArialMT-110\"/>\r\n      </g>\r\n     </g>\r\n    </g>\r\n    <g id=\"xtick_3\">\r\n     <g id=\"text_3\">\r\n      <!-- projected_max -->\r\n      <g style=\"fill:#262626;\" transform=\"translate(221.188594 321.020156)rotate(-90)scale(0.11 -0.11)\">\r\n       <defs>\r\n        <path d=\"M 6.5 0 \r\nL 6.5 51.859375 \r\nL 14.40625 51.859375 \r\nL 14.40625 44 \r\nQ 17.4375 49.515625 20 51.265625 \r\nQ 22.5625 53.03125 25.640625 53.03125 \r\nQ 30.078125 53.03125 34.671875 50.203125 \r\nL 31.640625 42.046875 \r\nQ 28.421875 43.953125 25.203125 43.953125 \r\nQ 22.3125 43.953125 20.015625 42.21875 \r\nQ 17.71875 40.484375 16.75 37.40625 \r\nQ 15.28125 32.71875 15.28125 27.15625 \r\nL 15.28125 0 \r\nz\r\n\" id=\"ArialMT-114\"/>\r\n        <path d=\"M 6.546875 61.375 \r\nL 6.546875 71.578125 \r\nL 15.328125 71.578125 \r\nL 15.328125 61.375 \r\nz\r\nM -4.59375 -20.125 \r\nL -2.9375 -12.640625 \r\nQ -0.296875 -13.328125 1.21875 -13.328125 \r\nQ 3.90625 -13.328125 5.21875 -11.546875 \r\nQ 6.546875 -9.765625 6.546875 -2.640625 \r\nL 6.546875 51.859375 \r\nL 15.328125 51.859375 \r\nL 15.328125 -2.828125 \r\nQ 15.328125 -12.40625 12.84375 -16.15625 \r\nQ 9.671875 -21.046875 2.296875 -21.046875 \r\nQ -1.265625 -21.046875 -4.59375 -20.125 \r\nz\r\n\" id=\"ArialMT-106\"/>\r\n        <path d=\"M 42.09375 16.703125 \r\nL 51.171875 15.578125 \r\nQ 49.03125 7.625 43.21875 3.21875 \r\nQ 37.40625 -1.171875 28.375 -1.171875 \r\nQ 17 -1.171875 10.328125 5.828125 \r\nQ 3.65625 12.84375 3.65625 25.484375 \r\nQ 3.65625 38.578125 10.390625 45.796875 \r\nQ 17.140625 53.03125 27.875 53.03125 \r\nQ 38.28125 53.03125 44.875 45.953125 \r\nQ 51.46875 38.875 51.46875 26.03125 \r\nQ 51.46875 25.25 51.421875 23.6875 \r\nL 12.75 23.6875 \r\nQ 13.234375 15.140625 17.578125 10.59375 \r\nQ 21.921875 6.0625 28.421875 6.0625 \r\nQ 33.25 6.0625 36.671875 8.59375 \r\nQ 40.09375 11.140625 42.09375 16.703125 \r\nz\r\nM 13.234375 30.90625 \r\nL 42.1875 30.90625 \r\nQ 41.609375 37.453125 38.875 40.71875 \r\nQ 34.671875 45.796875 27.984375 45.796875 \r\nQ 21.921875 45.796875 17.796875 41.75 \r\nQ 13.671875 37.703125 13.234375 30.90625 \r\nz\r\n\" id=\"ArialMT-101\"/>\r\n        <path d=\"M 40.234375 0 \r\nL 40.234375 6.546875 \r\nQ 35.296875 -1.171875 25.734375 -1.171875 \r\nQ 19.53125 -1.171875 14.328125 2.25 \r\nQ 9.125 5.671875 6.265625 11.796875 \r\nQ 3.421875 17.921875 3.421875 25.875 \r\nQ 3.421875 33.640625 6 39.96875 \r\nQ 8.59375 46.296875 13.765625 49.65625 \r\nQ 18.953125 53.03125 25.34375 53.03125 \r\nQ 30.03125 53.03125 33.6875 51.046875 \r\nQ 37.359375 49.078125 39.65625 45.90625 \r\nL 39.65625 71.578125 \r\nL 48.390625 71.578125 \r\nL 48.390625 0 \r\nz\r\nM 12.453125 25.875 \r\nQ 12.453125 15.921875 16.640625 10.984375 \r\nQ 20.84375 6.0625 26.5625 6.0625 \r\nQ 32.328125 6.0625 36.34375 10.765625 \r\nQ 40.375 15.484375 40.375 25.140625 \r\nQ 40.375 35.796875 36.265625 40.765625 \r\nQ 32.171875 45.75 26.171875 45.75 \r\nQ 20.3125 45.75 16.375 40.96875 \r\nQ 12.453125 36.1875 12.453125 25.875 \r\nz\r\n\" id=\"ArialMT-100\"/>\r\n        <path d=\"M -1.515625 -19.875 \r\nL -1.515625 -13.53125 \r\nL 56.734375 -13.53125 \r\nL 56.734375 -19.875 \r\nz\r\n\" id=\"ArialMT-95\"/>\r\n        <path d=\"M 6.59375 0 \r\nL 6.59375 51.859375 \r\nL 14.453125 51.859375 \r\nL 14.453125 44.578125 \r\nQ 16.890625 48.390625 20.9375 50.703125 \r\nQ 25 53.03125 30.171875 53.03125 \r\nQ 35.9375 53.03125 39.625 50.640625 \r\nQ 43.3125 48.25 44.828125 43.953125 \r\nQ 50.984375 53.03125 60.84375 53.03125 \r\nQ 68.5625 53.03125 72.703125 48.75 \r\nQ 76.859375 44.484375 76.859375 35.59375 \r\nL 76.859375 0 \r\nL 68.109375 0 \r\nL 68.109375 32.671875 \r\nQ 68.109375 37.9375 67.25 40.25 \r\nQ 66.40625 42.578125 64.15625 43.984375 \r\nQ 61.921875 45.40625 58.890625 45.40625 \r\nQ 53.421875 45.40625 49.796875 41.765625 \r\nQ 46.1875 38.140625 46.1875 30.125 \r\nL 46.1875 0 \r\nL 37.40625 0 \r\nL 37.40625 33.6875 \r\nQ 37.40625 39.546875 35.25 42.46875 \r\nQ 33.109375 45.40625 28.21875 45.40625 \r\nQ 24.515625 45.40625 21.359375 43.453125 \r\nQ 18.21875 41.5 16.796875 37.734375 \r\nQ 15.375 33.984375 15.375 26.90625 \r\nL 15.375 0 \r\nz\r\n\" id=\"ArialMT-109\"/>\r\n        <path d=\"M 0.734375 0 \r\nL 19.671875 26.953125 \r\nL 2.15625 51.859375 \r\nL 13.140625 51.859375 \r\nL 21.09375 39.703125 \r\nQ 23.34375 36.234375 24.703125 33.890625 \r\nQ 26.859375 37.109375 28.65625 39.59375 \r\nL 37.40625 51.859375 \r\nL 47.90625 51.859375 \r\nL 29.984375 27.4375 \r\nL 49.265625 0 \r\nL 38.484375 0 \r\nL 27.828125 16.109375 \r\nL 25 20.453125 \r\nL 11.375 0 \r\nz\r\n\" id=\"ArialMT-120\"/>\r\n       </defs>\r\n       <use xlink:href=\"#ArialMT-112\"/>\r\n       <use x=\"55.615234\" xlink:href=\"#ArialMT-114\"/>\r\n       <use x=\"88.916016\" xlink:href=\"#ArialMT-111\"/>\r\n       <use x=\"144.53125\" xlink:href=\"#ArialMT-106\"/>\r\n       <use x=\"166.748047\" xlink:href=\"#ArialMT-101\"/>\r\n       <use x=\"222.363281\" xlink:href=\"#ArialMT-99\"/>\r\n       <use x=\"272.363281\" xlink:href=\"#ArialMT-116\"/>\r\n       <use x=\"300.146484\" xlink:href=\"#ArialMT-101\"/>\r\n       <use x=\"355.761719\" xlink:href=\"#ArialMT-100\"/>\r\n       <use x=\"411.376953\" xlink:href=\"#ArialMT-95\"/>\r\n       <use x=\"466.992188\" xlink:href=\"#ArialMT-109\"/>\r\n       <use x=\"550.292969\" xlink:href=\"#ArialMT-97\"/>\r\n       <use x=\"605.908203\" xlink:href=\"#ArialMT-120\"/>\r\n      </g>\r\n     </g>\r\n    </g>\r\n    <g id=\"xtick_4\">\r\n     <g id=\"text_4\">\r\n      <!-- projected_max_per_cap -->\r\n      <g style=\"fill:#262626;\" transform=\"translate(254.668594 366.885)rotate(-90)scale(0.11 -0.11)\">\r\n       <use xlink:href=\"#ArialMT-112\"/>\r\n       <use x=\"55.615234\" xlink:href=\"#ArialMT-114\"/>\r\n       <use x=\"88.916016\" xlink:href=\"#ArialMT-111\"/>\r\n       <use x=\"144.53125\" xlink:href=\"#ArialMT-106\"/>\r\n       <use x=\"166.748047\" xlink:href=\"#ArialMT-101\"/>\r\n       <use x=\"222.363281\" xlink:href=\"#ArialMT-99\"/>\r\n       <use x=\"272.363281\" xlink:href=\"#ArialMT-116\"/>\r\n       <use x=\"300.146484\" xlink:href=\"#ArialMT-101\"/>\r\n       <use x=\"355.761719\" xlink:href=\"#ArialMT-100\"/>\r\n       <use x=\"411.376953\" xlink:href=\"#ArialMT-95\"/>\r\n       <use x=\"466.992188\" xlink:href=\"#ArialMT-109\"/>\r\n       <use x=\"550.292969\" xlink:href=\"#ArialMT-97\"/>\r\n       <use x=\"605.908203\" xlink:href=\"#ArialMT-120\"/>\r\n       <use x=\"655.908203\" xlink:href=\"#ArialMT-95\"/>\r\n       <use x=\"711.523438\" xlink:href=\"#ArialMT-112\"/>\r\n       <use x=\"767.138672\" xlink:href=\"#ArialMT-101\"/>\r\n       <use x=\"822.753906\" xlink:href=\"#ArialMT-114\"/>\r\n       <use x=\"856.054688\" xlink:href=\"#ArialMT-95\"/>\r\n       <use x=\"911.669922\" xlink:href=\"#ArialMT-99\"/>\r\n       <use x=\"961.669922\" xlink:href=\"#ArialMT-97\"/>\r\n       <use x=\"1017.285156\" xlink:href=\"#ArialMT-112\"/>\r\n      </g>\r\n     </g>\r\n    </g>\r\n    <g id=\"xtick_5\">\r\n     <g id=\"text_5\">\r\n      <!-- time_max_increase -->\r\n      <g style=\"fill:#262626;\" transform=\"translate(288.213047 344.243906)rotate(-90)scale(0.11 -0.11)\">\r\n       <defs>\r\n        <path d=\"M 3.078125 15.484375 \r\nL 11.765625 16.84375 \r\nQ 12.5 11.625 15.84375 8.84375 \r\nQ 19.1875 6.0625 25.203125 6.0625 \r\nQ 31.25 6.0625 34.171875 8.515625 \r\nQ 37.109375 10.984375 37.109375 14.3125 \r\nQ 37.109375 17.28125 34.515625 19 \r\nQ 32.71875 20.171875 25.53125 21.96875 \r\nQ 15.875 24.421875 12.140625 26.203125 \r\nQ 8.40625 27.984375 6.46875 31.125 \r\nQ 4.546875 34.28125 4.546875 38.09375 \r\nQ 4.546875 41.546875 6.125 44.5 \r\nQ 7.71875 47.46875 10.453125 49.421875 \r\nQ 12.5 50.921875 16.03125 51.96875 \r\nQ 19.578125 53.03125 23.640625 53.03125 \r\nQ 29.734375 53.03125 34.34375 51.265625 \r\nQ 38.96875 49.515625 41.15625 46.5 \r\nQ 43.359375 43.5 44.1875 38.484375 \r\nL 35.59375 37.3125 \r\nQ 35.015625 41.3125 32.203125 43.546875 \r\nQ 29.390625 45.796875 24.265625 45.796875 \r\nQ 18.21875 45.796875 15.625 43.796875 \r\nQ 13.03125 41.796875 13.03125 39.109375 \r\nQ 13.03125 37.40625 14.109375 36.03125 \r\nQ 15.1875 34.625 17.484375 33.6875 \r\nQ 18.796875 33.203125 25.25 31.453125 \r\nQ 34.578125 28.953125 38.25 27.359375 \r\nQ 41.9375 25.78125 44.03125 22.75 \r\nQ 46.140625 19.734375 46.140625 15.234375 \r\nQ 46.140625 10.84375 43.578125 6.953125 \r\nQ 41.015625 3.078125 36.171875 0.953125 \r\nQ 31.34375 -1.171875 25.25 -1.171875 \r\nQ 15.140625 -1.171875 9.84375 3.03125 \r\nQ 4.546875 7.234375 3.078125 15.484375 \r\nz\r\n\" id=\"ArialMT-115\"/>\r\n       </defs>\r\n       <use xlink:href=\"#ArialMT-116\"/>\r\n       <use x=\"27.783203\" xlink:href=\"#ArialMT-105\"/>\r\n       <use x=\"50\" xlink:href=\"#ArialMT-109\"/>\r\n       <use x=\"133.300781\" xlink:href=\"#ArialMT-101\"/>\r\n       <use x=\"188.916016\" xlink:href=\"#ArialMT-95\"/>\r\n       <use x=\"244.53125\" xlink:href=\"#ArialMT-109\"/>\r\n       <use x=\"327.832031\" xlink:href=\"#ArialMT-97\"/>\r\n       <use x=\"383.447266\" xlink:href=\"#ArialMT-120\"/>\r\n       <use x=\"433.447266\" xlink:href=\"#ArialMT-95\"/>\r\n       <use x=\"489.0625\" xlink:href=\"#ArialMT-105\"/>\r\n       <use x=\"511.279297\" xlink:href=\"#ArialMT-110\"/>\r\n       <use x=\"566.894531\" xlink:href=\"#ArialMT-99\"/>\r\n       <use x=\"616.894531\" xlink:href=\"#ArialMT-114\"/>\r\n       <use x=\"650.195312\" xlink:href=\"#ArialMT-101\"/>\r\n       <use x=\"705.810547\" xlink:href=\"#ArialMT-97\"/>\r\n       <use x=\"761.425781\" xlink:href=\"#ArialMT-115\"/>\r\n       <use x=\"811.425781\" xlink:href=\"#ArialMT-101\"/>\r\n      </g>\r\n     </g>\r\n    </g>\r\n    <g id=\"xtick_6\">\r\n     <g id=\"text_6\">\r\n      <!-- avg_rate_increase -->\r\n      <g style=\"fill:#262626;\" transform=\"translate(321.628594 339.37125)rotate(-90)scale(0.11 -0.11)\">\r\n       <defs>\r\n        <path d=\"M 21 0 \r\nL 1.265625 51.859375 \r\nL 10.546875 51.859375 \r\nL 21.6875 20.796875 \r\nQ 23.484375 15.765625 25 10.359375 \r\nQ 26.171875 14.453125 28.265625 20.21875 \r\nL 39.796875 51.859375 \r\nL 48.828125 51.859375 \r\nL 29.203125 0 \r\nz\r\n\" id=\"ArialMT-118\"/>\r\n        <path d=\"M 4.984375 -4.296875 \r\nL 13.53125 -5.5625 \r\nQ 14.0625 -9.515625 16.5 -11.328125 \r\nQ 19.78125 -13.765625 25.4375 -13.765625 \r\nQ 31.546875 -13.765625 34.859375 -11.328125 \r\nQ 38.1875 -8.890625 39.359375 -4.5 \r\nQ 40.046875 -1.8125 39.984375 6.78125 \r\nQ 34.234375 0 25.640625 0 \r\nQ 14.9375 0 9.078125 7.71875 \r\nQ 3.21875 15.4375 3.21875 26.21875 \r\nQ 3.21875 33.640625 5.90625 39.90625 \r\nQ 8.59375 46.1875 13.6875 49.609375 \r\nQ 18.796875 53.03125 25.6875 53.03125 \r\nQ 34.859375 53.03125 40.828125 45.609375 \r\nL 40.828125 51.859375 \r\nL 48.921875 51.859375 \r\nL 48.921875 7.03125 \r\nQ 48.921875 -5.078125 46.453125 -10.125 \r\nQ 44 -15.1875 38.640625 -18.109375 \r\nQ 33.296875 -21.046875 25.484375 -21.046875 \r\nQ 16.21875 -21.046875 10.5 -16.875 \r\nQ 4.78125 -12.703125 4.984375 -4.296875 \r\nz\r\nM 12.25 26.859375 \r\nQ 12.25 16.65625 16.296875 11.96875 \r\nQ 20.359375 7.28125 26.46875 7.28125 \r\nQ 32.515625 7.28125 36.609375 11.9375 \r\nQ 40.71875 16.609375 40.71875 26.5625 \r\nQ 40.71875 36.078125 36.5 40.90625 \r\nQ 32.28125 45.75 26.3125 45.75 \r\nQ 20.453125 45.75 16.34375 40.984375 \r\nQ 12.25 36.234375 12.25 26.859375 \r\nz\r\n\" id=\"ArialMT-103\"/>\r\n       </defs>\r\n       <use xlink:href=\"#ArialMT-97\"/>\r\n       <use x=\"55.615234\" xlink:href=\"#ArialMT-118\"/>\r\n       <use x=\"105.615234\" xlink:href=\"#ArialMT-103\"/>\r\n       <use x=\"161.230469\" xlink:href=\"#ArialMT-95\"/>\r\n       <use x=\"216.845703\" xlink:href=\"#ArialMT-114\"/>\r\n       <use x=\"250.146484\" xlink:href=\"#ArialMT-97\"/>\r\n       <use x=\"305.761719\" xlink:href=\"#ArialMT-116\"/>\r\n       <use x=\"333.544922\" xlink:href=\"#ArialMT-101\"/>\r\n       <use x=\"389.160156\" xlink:href=\"#ArialMT-95\"/>\r\n       <use x=\"444.775391\" xlink:href=\"#ArialMT-105\"/>\r\n       <use x=\"466.992188\" xlink:href=\"#ArialMT-110\"/>\r\n       <use x=\"522.607422\" xlink:href=\"#ArialMT-99\"/>\r\n       <use x=\"572.607422\" xlink:href=\"#ArialMT-114\"/>\r\n       <use x=\"605.908203\" xlink:href=\"#ArialMT-101\"/>\r\n       <use x=\"661.523438\" xlink:href=\"#ArialMT-97\"/>\r\n       <use x=\"717.138672\" xlink:href=\"#ArialMT-115\"/>\r\n       <use x=\"767.138672\" xlink:href=\"#ArialMT-101\"/>\r\n      </g>\r\n     </g>\r\n    </g>\r\n    <g id=\"xtick_7\">\r\n     <g id=\"text_7\">\r\n      <!-- total_cases -->\r\n      <g style=\"fill:#262626;\" transform=\"translate(355.173047 304.516719)rotate(-90)scale(0.11 -0.11)\">\r\n       <use xlink:href=\"#ArialMT-116\"/>\r\n       <use x=\"27.783203\" xlink:href=\"#ArialMT-111\"/>\r\n       <use x=\"83.398438\" xlink:href=\"#ArialMT-116\"/>\r\n       <use x=\"111.181641\" xlink:href=\"#ArialMT-97\"/>\r\n       <use x=\"166.796875\" xlink:href=\"#ArialMT-108\"/>\r\n       <use x=\"189.013672\" xlink:href=\"#ArialMT-95\"/>\r\n       <use x=\"244.628906\" xlink:href=\"#ArialMT-99\"/>\r\n       <use x=\"294.628906\" xlink:href=\"#ArialMT-97\"/>\r\n       <use x=\"350.244141\" xlink:href=\"#ArialMT-115\"/>\r\n       <use x=\"400.244141\" xlink:href=\"#ArialMT-101\"/>\r\n       <use x=\"455.859375\" xlink:href=\"#ArialMT-115\"/>\r\n      </g>\r\n     </g>\r\n    </g>\r\n    <g id=\"xtick_8\">\r\n     <g id=\"text_8\">\r\n      <!-- total_cases_per_cap -->\r\n      <g style=\"fill:#262626;\" transform=\"translate(388.653047 350.381562)rotate(-90)scale(0.11 -0.11)\">\r\n       <use xlink:href=\"#ArialMT-116\"/>\r\n       <use x=\"27.783203\" xlink:href=\"#ArialMT-111\"/>\r\n       <use x=\"83.398438\" xlink:href=\"#ArialMT-116\"/>\r\n       <use x=\"111.181641\" xlink:href=\"#ArialMT-97\"/>\r\n       <use x=\"166.796875\" xlink:href=\"#ArialMT-108\"/>\r\n       <use x=\"189.013672\" xlink:href=\"#ArialMT-95\"/>\r\n       <use x=\"244.628906\" xlink:href=\"#ArialMT-99\"/>\r\n       <use x=\"294.628906\" xlink:href=\"#ArialMT-97\"/>\r\n       <use x=\"350.244141\" xlink:href=\"#ArialMT-115\"/>\r\n       <use x=\"400.244141\" xlink:href=\"#ArialMT-101\"/>\r\n       <use x=\"455.859375\" xlink:href=\"#ArialMT-115\"/>\r\n       <use x=\"505.859375\" xlink:href=\"#ArialMT-95\"/>\r\n       <use x=\"561.474609\" xlink:href=\"#ArialMT-112\"/>\r\n       <use x=\"617.089844\" xlink:href=\"#ArialMT-101\"/>\r\n       <use x=\"672.705078\" xlink:href=\"#ArialMT-114\"/>\r\n       <use x=\"706.005859\" xlink:href=\"#ArialMT-95\"/>\r\n       <use x=\"761.621094\" xlink:href=\"#ArialMT-99\"/>\r\n       <use x=\"811.621094\" xlink:href=\"#ArialMT-97\"/>\r\n       <use x=\"867.236328\" xlink:href=\"#ArialMT-112\"/>\r\n      </g>\r\n     </g>\r\n    </g>\r\n   </g>\r\n   <g id=\"matplotlib.axis_2\">\r\n    <g id=\"ytick_1\">\r\n     <g id=\"text_9\">\r\n      <!-- clinton -->\r\n      <g style=\"fill:#262626;\" transform=\"translate(93.414219 39.462422)scale(0.11 -0.11)\">\r\n       <use xlink:href=\"#ArialMT-99\"/>\r\n       <use x=\"50\" xlink:href=\"#ArialMT-108\"/>\r\n       <use x=\"72.216797\" xlink:href=\"#ArialMT-105\"/>\r\n       <use x=\"94.433594\" xlink:href=\"#ArialMT-110\"/>\r\n       <use x=\"150.048828\" xlink:href=\"#ArialMT-116\"/>\r\n       <use x=\"177.832031\" xlink:href=\"#ArialMT-111\"/>\r\n       <use x=\"233.447266\" xlink:href=\"#ArialMT-110\"/>\r\n      </g>\r\n     </g>\r\n    </g>\r\n    <g id=\"ytick_2\">\r\n     <g id=\"text_10\">\r\n      <!-- population -->\r\n      <g style=\"fill:#262626;\" transform=\"translate(74.446094 66.642422)scale(0.11 -0.11)\">\r\n       <use xlink:href=\"#ArialMT-112\"/>\r\n       <use x=\"55.615234\" xlink:href=\"#ArialMT-111\"/>\r\n       <use x=\"111.230469\" xlink:href=\"#ArialMT-112\"/>\r\n       <use x=\"166.845703\" xlink:href=\"#ArialMT-117\"/>\r\n       <use x=\"222.460938\" xlink:href=\"#ArialMT-108\"/>\r\n       <use x=\"244.677734\" xlink:href=\"#ArialMT-97\"/>\r\n       <use x=\"300.292969\" xlink:href=\"#ArialMT-116\"/>\r\n       <use x=\"328.076172\" xlink:href=\"#ArialMT-105\"/>\r\n       <use x=\"350.292969\" xlink:href=\"#ArialMT-111\"/>\r\n       <use x=\"405.908203\" xlink:href=\"#ArialMT-110\"/>\r\n      </g>\r\n     </g>\r\n    </g>\r\n    <g id=\"ytick_3\">\r\n     <g id=\"text_11\">\r\n      <!-- projected_max -->\r\n      <g style=\"fill:#262626;\" transform=\"translate(53.064844 93.822422)scale(0.11 -0.11)\">\r\n       <use xlink:href=\"#ArialMT-112\"/>\r\n       <use x=\"55.615234\" xlink:href=\"#ArialMT-114\"/>\r\n       <use x=\"88.916016\" xlink:href=\"#ArialMT-111\"/>\r\n       <use x=\"144.53125\" xlink:href=\"#ArialMT-106\"/>\r\n       <use x=\"166.748047\" xlink:href=\"#ArialMT-101\"/>\r\n       <use x=\"222.363281\" xlink:href=\"#ArialMT-99\"/>\r\n       <use x=\"272.363281\" xlink:href=\"#ArialMT-116\"/>\r\n       <use x=\"300.146484\" xlink:href=\"#ArialMT-101\"/>\r\n       <use x=\"355.761719\" xlink:href=\"#ArialMT-100\"/>\r\n       <use x=\"411.376953\" xlink:href=\"#ArialMT-95\"/>\r\n       <use x=\"466.992188\" xlink:href=\"#ArialMT-109\"/>\r\n       <use x=\"550.292969\" xlink:href=\"#ArialMT-97\"/>\r\n       <use x=\"605.908203\" xlink:href=\"#ArialMT-120\"/>\r\n      </g>\r\n     </g>\r\n    </g>\r\n    <g id=\"ytick_4\">\r\n     <g id=\"text_12\">\r\n      <!-- projected_max_per_cap -->\r\n      <g style=\"fill:#262626;\" transform=\"translate(7.2 121.002422)scale(0.11 -0.11)\">\r\n       <use xlink:href=\"#ArialMT-112\"/>\r\n       <use x=\"55.615234\" xlink:href=\"#ArialMT-114\"/>\r\n       <use x=\"88.916016\" xlink:href=\"#ArialMT-111\"/>\r\n       <use x=\"144.53125\" xlink:href=\"#ArialMT-106\"/>\r\n       <use x=\"166.748047\" xlink:href=\"#ArialMT-101\"/>\r\n       <use x=\"222.363281\" xlink:href=\"#ArialMT-99\"/>\r\n       <use x=\"272.363281\" xlink:href=\"#ArialMT-116\"/>\r\n       <use x=\"300.146484\" xlink:href=\"#ArialMT-101\"/>\r\n       <use x=\"355.761719\" xlink:href=\"#ArialMT-100\"/>\r\n       <use x=\"411.376953\" xlink:href=\"#ArialMT-95\"/>\r\n       <use x=\"466.992188\" xlink:href=\"#ArialMT-109\"/>\r\n       <use x=\"550.292969\" xlink:href=\"#ArialMT-97\"/>\r\n       <use x=\"605.908203\" xlink:href=\"#ArialMT-120\"/>\r\n       <use x=\"655.908203\" xlink:href=\"#ArialMT-95\"/>\r\n       <use x=\"711.523438\" xlink:href=\"#ArialMT-112\"/>\r\n       <use x=\"767.138672\" xlink:href=\"#ArialMT-101\"/>\r\n       <use x=\"822.753906\" xlink:href=\"#ArialMT-114\"/>\r\n       <use x=\"856.054688\" xlink:href=\"#ArialMT-95\"/>\r\n       <use x=\"911.669922\" xlink:href=\"#ArialMT-99\"/>\r\n       <use x=\"961.669922\" xlink:href=\"#ArialMT-97\"/>\r\n       <use x=\"1017.285156\" xlink:href=\"#ArialMT-112\"/>\r\n      </g>\r\n     </g>\r\n    </g>\r\n    <g id=\"ytick_5\">\r\n     <g id=\"text_13\">\r\n      <!-- time_max_increase -->\r\n      <g style=\"fill:#262626;\" transform=\"translate(29.841094 148.182422)scale(0.11 -0.11)\">\r\n       <use xlink:href=\"#ArialMT-116\"/>\r\n       <use x=\"27.783203\" xlink:href=\"#ArialMT-105\"/>\r\n       <use x=\"50\" xlink:href=\"#ArialMT-109\"/>\r\n       <use x=\"133.300781\" xlink:href=\"#ArialMT-101\"/>\r\n       <use x=\"188.916016\" xlink:href=\"#ArialMT-95\"/>\r\n       <use x=\"244.53125\" xlink:href=\"#ArialMT-109\"/>\r\n       <use x=\"327.832031\" xlink:href=\"#ArialMT-97\"/>\r\n       <use x=\"383.447266\" xlink:href=\"#ArialMT-120\"/>\r\n       <use x=\"433.447266\" xlink:href=\"#ArialMT-95\"/>\r\n       <use x=\"489.0625\" xlink:href=\"#ArialMT-105\"/>\r\n       <use x=\"511.279297\" xlink:href=\"#ArialMT-110\"/>\r\n       <use x=\"566.894531\" xlink:href=\"#ArialMT-99\"/>\r\n       <use x=\"616.894531\" xlink:href=\"#ArialMT-114\"/>\r\n       <use x=\"650.195312\" xlink:href=\"#ArialMT-101\"/>\r\n       <use x=\"705.810547\" xlink:href=\"#ArialMT-97\"/>\r\n       <use x=\"761.425781\" xlink:href=\"#ArialMT-115\"/>\r\n       <use x=\"811.425781\" xlink:href=\"#ArialMT-101\"/>\r\n      </g>\r\n     </g>\r\n    </g>\r\n    <g id=\"ytick_6\">\r\n     <g id=\"text_14\">\r\n      <!-- avg_rate_increase -->\r\n      <g style=\"fill:#262626;\" transform=\"translate(34.71375 175.362422)scale(0.11 -0.11)\">\r\n       <use xlink:href=\"#ArialMT-97\"/>\r\n       <use x=\"55.615234\" xlink:href=\"#ArialMT-118\"/>\r\n       <use x=\"105.615234\" xlink:href=\"#ArialMT-103\"/>\r\n       <use x=\"161.230469\" xlink:href=\"#ArialMT-95\"/>\r\n       <use x=\"216.845703\" xlink:href=\"#ArialMT-114\"/>\r\n       <use x=\"250.146484\" xlink:href=\"#ArialMT-97\"/>\r\n       <use x=\"305.761719\" xlink:href=\"#ArialMT-116\"/>\r\n       <use x=\"333.544922\" xlink:href=\"#ArialMT-101\"/>\r\n       <use x=\"389.160156\" xlink:href=\"#ArialMT-95\"/>\r\n       <use x=\"444.775391\" xlink:href=\"#ArialMT-105\"/>\r\n       <use x=\"466.992188\" xlink:href=\"#ArialMT-110\"/>\r\n       <use x=\"522.607422\" xlink:href=\"#ArialMT-99\"/>\r\n       <use x=\"572.607422\" xlink:href=\"#ArialMT-114\"/>\r\n       <use x=\"605.908203\" xlink:href=\"#ArialMT-101\"/>\r\n       <use x=\"661.523438\" xlink:href=\"#ArialMT-97\"/>\r\n       <use x=\"717.138672\" xlink:href=\"#ArialMT-115\"/>\r\n       <use x=\"767.138672\" xlink:href=\"#ArialMT-101\"/>\r\n      </g>\r\n     </g>\r\n    </g>\r\n    <g id=\"ytick_7\">\r\n     <g id=\"text_15\">\r\n      <!-- total_cases -->\r\n      <g style=\"fill:#262626;\" transform=\"translate(69.568281 202.542422)scale(0.11 -0.11)\">\r\n       <use xlink:href=\"#ArialMT-116\"/>\r\n       <use x=\"27.783203\" xlink:href=\"#ArialMT-111\"/>\r\n       <use x=\"83.398438\" xlink:href=\"#ArialMT-116\"/>\r\n       <use x=\"111.181641\" xlink:href=\"#ArialMT-97\"/>\r\n       <use x=\"166.796875\" xlink:href=\"#ArialMT-108\"/>\r\n       <use x=\"189.013672\" xlink:href=\"#ArialMT-95\"/>\r\n       <use x=\"244.628906\" xlink:href=\"#ArialMT-99\"/>\r\n       <use x=\"294.628906\" xlink:href=\"#ArialMT-97\"/>\r\n       <use x=\"350.244141\" xlink:href=\"#ArialMT-115\"/>\r\n       <use x=\"400.244141\" xlink:href=\"#ArialMT-101\"/>\r\n       <use x=\"455.859375\" xlink:href=\"#ArialMT-115\"/>\r\n      </g>\r\n     </g>\r\n    </g>\r\n    <g id=\"ytick_8\">\r\n     <g id=\"text_16\">\r\n      <!-- total_cases_per_cap -->\r\n      <g style=\"fill:#262626;\" transform=\"translate(23.703438 229.722422)scale(0.11 -0.11)\">\r\n       <use xlink:href=\"#ArialMT-116\"/>\r\n       <use x=\"27.783203\" xlink:href=\"#ArialMT-111\"/>\r\n       <use x=\"83.398438\" xlink:href=\"#ArialMT-116\"/>\r\n       <use x=\"111.181641\" xlink:href=\"#ArialMT-97\"/>\r\n       <use x=\"166.796875\" xlink:href=\"#ArialMT-108\"/>\r\n       <use x=\"189.013672\" xlink:href=\"#ArialMT-95\"/>\r\n       <use x=\"244.628906\" xlink:href=\"#ArialMT-99\"/>\r\n       <use x=\"294.628906\" xlink:href=\"#ArialMT-97\"/>\r\n       <use x=\"350.244141\" xlink:href=\"#ArialMT-115\"/>\r\n       <use x=\"400.244141\" xlink:href=\"#ArialMT-101\"/>\r\n       <use x=\"455.859375\" xlink:href=\"#ArialMT-115\"/>\r\n       <use x=\"505.859375\" xlink:href=\"#ArialMT-95\"/>\r\n       <use x=\"561.474609\" xlink:href=\"#ArialMT-112\"/>\r\n       <use x=\"617.089844\" xlink:href=\"#ArialMT-101\"/>\r\n       <use x=\"672.705078\" xlink:href=\"#ArialMT-114\"/>\r\n       <use x=\"706.005859\" xlink:href=\"#ArialMT-95\"/>\r\n       <use x=\"761.621094\" xlink:href=\"#ArialMT-99\"/>\r\n       <use x=\"811.621094\" xlink:href=\"#ArialMT-97\"/>\r\n       <use x=\"867.236328\" xlink:href=\"#ArialMT-112\"/>\r\n      </g>\r\n     </g>\r\n    </g>\r\n   </g>\r\n   <g id=\"QuadMesh_1\">\r\n    <path clip-path=\"url(#pfc239ba7e8)\" d=\"M 134.709375 21.935625 \r\nL 168.189375 21.935625 \r\nL 168.189375 49.115625 \r\nL 134.709375 49.115625 \r\nL 134.709375 21.935625 \r\n\" style=\"fill:#5e4fa2;\"/>\r\n    <path clip-path=\"url(#pfc239ba7e8)\" d=\"M 168.189375 21.935625 \r\nL 201.669375 21.935625 \r\nL 201.669375 49.115625 \r\nL 168.189375 49.115625 \r\nL 168.189375 21.935625 \r\n\" style=\"fill:#ffffbe;\"/>\r\n    <path clip-path=\"url(#pfc239ba7e8)\" d=\"M 201.669375 21.935625 \r\nL 235.149375 21.935625 \r\nL 235.149375 49.115625 \r\nL 201.669375 49.115625 \r\nL 201.669375 21.935625 \r\n\" style=\"fill:#fffab6;\"/>\r\n    <path clip-path=\"url(#pfc239ba7e8)\" d=\"M 235.149375 21.935625 \r\nL 268.629375 21.935625 \r\nL 268.629375 49.115625 \r\nL 235.149375 49.115625 \r\nL 235.149375 21.935625 \r\n\" style=\"fill:#be254a;\"/>\r\n    <path clip-path=\"url(#pfc239ba7e8)\" d=\"M 268.629375 21.935625 \r\nL 302.109375 21.935625 \r\nL 302.109375 49.115625 \r\nL 268.629375 49.115625 \r\nL 268.629375 21.935625 \r\n\" style=\"fill:#b5e1a2;\"/>\r\n    <path clip-path=\"url(#pfc239ba7e8)\" d=\"M 302.109375 21.935625 \r\nL 335.589375 21.935625 \r\nL 335.589375 49.115625 \r\nL 302.109375 49.115625 \r\nL 302.109375 21.935625 \r\n\" style=\"fill:#fff7b2;\"/>\r\n    <path clip-path=\"url(#pfc239ba7e8)\" d=\"M 335.589375 21.935625 \r\nL 369.069375 21.935625 \r\nL 369.069375 49.115625 \r\nL 335.589375 49.115625 \r\nL 335.589375 21.935625 \r\n\" style=\"fill:#fff7b2;\"/>\r\n    <path clip-path=\"url(#pfc239ba7e8)\" d=\"M 369.069375 21.935625 \r\nL 402.549375 21.935625 \r\nL 402.549375 49.115625 \r\nL 369.069375 49.115625 \r\nL 369.069375 21.935625 \r\n\" style=\"fill:#a00343;\"/>\r\n    <path clip-path=\"url(#pfc239ba7e8)\" d=\"M 134.709375 49.115625 \r\nL 168.189375 49.115625 \r\nL 168.189375 76.295625 \r\nL 134.709375 76.295625 \r\nL 134.709375 49.115625 \r\n\" style=\"fill:#ffffbe;\"/>\r\n    <path clip-path=\"url(#pfc239ba7e8)\" d=\"M 168.189375 49.115625 \r\nL 201.669375 49.115625 \r\nL 201.669375 76.295625 \r\nL 168.189375 76.295625 \r\nL 168.189375 49.115625 \r\n\" style=\"fill:#5e4fa2;\"/>\r\n    <path clip-path=\"url(#pfc239ba7e8)\" d=\"M 201.669375 49.115625 \r\nL 235.149375 49.115625 \r\nL 235.149375 76.295625 \r\nL 201.669375 76.295625 \r\nL 201.669375 49.115625 \r\n\" style=\"fill:#5c51a3;\"/>\r\n    <path clip-path=\"url(#pfc239ba7e8)\" d=\"M 235.149375 49.115625 \r\nL 268.629375 49.115625 \r\nL 268.629375 76.295625 \r\nL 235.149375 76.295625 \r\nL 235.149375 49.115625 \r\n\" style=\"fill:#feda86;\"/>\r\n    <path clip-path=\"url(#pfc239ba7e8)\" d=\"M 268.629375 49.115625 \r\nL 302.109375 49.115625 \r\nL 302.109375 76.295625 \r\nL 268.629375 76.295625 \r\nL 268.629375 49.115625 \r\n\" style=\"fill:#fee695;\"/>\r\n    <path clip-path=\"url(#pfc239ba7e8)\" d=\"M 302.109375 49.115625 \r\nL 335.589375 49.115625 \r\nL 335.589375 76.295625 \r\nL 302.109375 76.295625 \r\nL 302.109375 49.115625 \r\n\" style=\"fill:#5c51a3;\"/>\r\n    <path clip-path=\"url(#pfc239ba7e8)\" d=\"M 335.589375 49.115625 \r\nL 369.069375 49.115625 \r\nL 369.069375 76.295625 \r\nL 335.589375 76.295625 \r\nL 335.589375 49.115625 \r\n\" style=\"fill:#5c51a3;\"/>\r\n    <path clip-path=\"url(#pfc239ba7e8)\" d=\"M 369.069375 49.115625 \r\nL 402.549375 49.115625 \r\nL 402.549375 76.295625 \r\nL 369.069375 76.295625 \r\nL 369.069375 49.115625 \r\n\" style=\"fill:#feca79;\"/>\r\n    <path clip-path=\"url(#pfc239ba7e8)\" d=\"M 134.709375 76.295625 \r\nL 168.189375 76.295625 \r\nL 168.189375 103.475625 \r\nL 134.709375 103.475625 \r\nL 134.709375 76.295625 \r\n\" style=\"fill:#fffab6;\"/>\r\n    <path clip-path=\"url(#pfc239ba7e8)\" d=\"M 168.189375 76.295625 \r\nL 201.669375 76.295625 \r\nL 201.669375 103.475625 \r\nL 168.189375 103.475625 \r\nL 168.189375 76.295625 \r\n\" style=\"fill:#5c51a3;\"/>\r\n    <path clip-path=\"url(#pfc239ba7e8)\" d=\"M 201.669375 76.295625 \r\nL 235.149375 76.295625 \r\nL 235.149375 103.475625 \r\nL 201.669375 103.475625 \r\nL 201.669375 76.295625 \r\n\" style=\"fill:#5e4fa2;\"/>\r\n    <path clip-path=\"url(#pfc239ba7e8)\" d=\"M 235.149375 76.295625 \r\nL 268.629375 76.295625 \r\nL 268.629375 103.475625 \r\nL 235.149375 103.475625 \r\nL 235.149375 76.295625 \r\n\" style=\"fill:#fff0a6;\"/>\r\n    <path clip-path=\"url(#pfc239ba7e8)\" d=\"M 268.629375 76.295625 \r\nL 302.109375 76.295625 \r\nL 302.109375 103.475625 \r\nL 268.629375 103.475625 \r\nL 268.629375 76.295625 \r\n\" style=\"fill:#fee491;\"/>\r\n    <path clip-path=\"url(#pfc239ba7e8)\" d=\"M 302.109375 76.295625 \r\nL 335.589375 76.295625 \r\nL 335.589375 103.475625 \r\nL 302.109375 103.475625 \r\nL 302.109375 76.295625 \r\n\" style=\"fill:#5e4fa2;\"/>\r\n    <path clip-path=\"url(#pfc239ba7e8)\" d=\"M 335.589375 76.295625 \r\nL 369.069375 76.295625 \r\nL 369.069375 103.475625 \r\nL 335.589375 103.475625 \r\nL 335.589375 76.295625 \r\n\" style=\"fill:#5e4fa2;\"/>\r\n    <path clip-path=\"url(#pfc239ba7e8)\" d=\"M 369.069375 76.295625 \r\nL 402.549375 76.295625 \r\nL 402.549375 103.475625 \r\nL 369.069375 103.475625 \r\nL 369.069375 76.295625 \r\n\" style=\"fill:#fee593;\"/>\r\n    <path clip-path=\"url(#pfc239ba7e8)\" d=\"M 134.709375 103.475625 \r\nL 168.189375 103.475625 \r\nL 168.189375 130.655625 \r\nL 134.709375 130.655625 \r\nL 134.709375 103.475625 \r\n\" style=\"fill:#be254a;\"/>\r\n    <path clip-path=\"url(#pfc239ba7e8)\" d=\"M 168.189375 103.475625 \r\nL 201.669375 103.475625 \r\nL 201.669375 130.655625 \r\nL 168.189375 130.655625 \r\nL 168.189375 103.475625 \r\n\" style=\"fill:#feda86;\"/>\r\n    <path clip-path=\"url(#pfc239ba7e8)\" d=\"M 201.669375 103.475625 \r\nL 235.149375 103.475625 \r\nL 235.149375 130.655625 \r\nL 201.669375 130.655625 \r\nL 201.669375 103.475625 \r\n\" style=\"fill:#fff0a6;\"/>\r\n    <path clip-path=\"url(#pfc239ba7e8)\" d=\"M 235.149375 103.475625 \r\nL 268.629375 103.475625 \r\nL 268.629375 130.655625 \r\nL 235.149375 130.655625 \r\nL 235.149375 103.475625 \r\n\" style=\"fill:#5e4fa2;\"/>\r\n    <path clip-path=\"url(#pfc239ba7e8)\" d=\"M 268.629375 103.475625 \r\nL 302.109375 103.475625 \r\nL 302.109375 130.655625 \r\nL 268.629375 130.655625 \r\nL 268.629375 103.475625 \r\n\" style=\"fill:#bc2249;\"/>\r\n    <path clip-path=\"url(#pfc239ba7e8)\" d=\"M 302.109375 103.475625 \r\nL 335.589375 103.475625 \r\nL 335.589375 130.655625 \r\nL 302.109375 130.655625 \r\nL 302.109375 103.475625 \r\n\" style=\"fill:#feefa3;\"/>\r\n    <path clip-path=\"url(#pfc239ba7e8)\" d=\"M 335.589375 103.475625 \r\nL 369.069375 103.475625 \r\nL 369.069375 130.655625 \r\nL 335.589375 130.655625 \r\nL 335.589375 103.475625 \r\n\" style=\"fill:#feefa3;\"/>\r\n    <path clip-path=\"url(#pfc239ba7e8)\" d=\"M 369.069375 103.475625 \r\nL 402.549375 103.475625 \r\nL 402.549375 130.655625 \r\nL 369.069375 130.655625 \r\nL 369.069375 103.475625 \r\n\" style=\"fill:#5c51a3;\"/>\r\n    <path clip-path=\"url(#pfc239ba7e8)\" d=\"M 134.709375 130.655625 \r\nL 168.189375 130.655625 \r\nL 168.189375 157.835625 \r\nL 134.709375 157.835625 \r\nL 134.709375 130.655625 \r\n\" style=\"fill:#b5e1a2;\"/>\r\n    <path clip-path=\"url(#pfc239ba7e8)\" d=\"M 168.189375 130.655625 \r\nL 201.669375 130.655625 \r\nL 201.669375 157.835625 \r\nL 168.189375 157.835625 \r\nL 168.189375 130.655625 \r\n\" style=\"fill:#fee695;\"/>\r\n    <path clip-path=\"url(#pfc239ba7e8)\" d=\"M 201.669375 130.655625 \r\nL 235.149375 130.655625 \r\nL 235.149375 157.835625 \r\nL 201.669375 157.835625 \r\nL 201.669375 130.655625 \r\n\" style=\"fill:#fee491;\"/>\r\n    <path clip-path=\"url(#pfc239ba7e8)\" d=\"M 235.149375 130.655625 \r\nL 268.629375 130.655625 \r\nL 268.629375 157.835625 \r\nL 235.149375 157.835625 \r\nL 235.149375 130.655625 \r\n\" style=\"fill:#bc2249;\"/>\r\n    <path clip-path=\"url(#pfc239ba7e8)\" d=\"M 268.629375 130.655625 \r\nL 302.109375 130.655625 \r\nL 302.109375 157.835625 \r\nL 268.629375 157.835625 \r\nL 268.629375 130.655625 \r\n\" style=\"fill:#5e4fa2;\"/>\r\n    <path clip-path=\"url(#pfc239ba7e8)\" d=\"M 302.109375 130.655625 \r\nL 335.589375 130.655625 \r\nL 335.589375 157.835625 \r\nL 302.109375 157.835625 \r\nL 302.109375 130.655625 \r\n\" style=\"fill:#fee08b;\"/>\r\n    <path clip-path=\"url(#pfc239ba7e8)\" d=\"M 335.589375 130.655625 \r\nL 369.069375 130.655625 \r\nL 369.069375 157.835625 \r\nL 335.589375 157.835625 \r\nL 335.589375 130.655625 \r\n\" style=\"fill:#fee08b;\"/>\r\n    <path clip-path=\"url(#pfc239ba7e8)\" d=\"M 369.069375 130.655625 \r\nL 402.549375 130.655625 \r\nL 402.549375 157.835625 \r\nL 369.069375 157.835625 \r\nL 369.069375 130.655625 \r\n\" style=\"fill:#9e0142;\"/>\r\n    <path clip-path=\"url(#pfc239ba7e8)\" d=\"M 134.709375 157.835625 \r\nL 168.189375 157.835625 \r\nL 168.189375 185.015625 \r\nL 134.709375 185.015625 \r\nL 134.709375 157.835625 \r\n\" style=\"fill:#fff7b2;\"/>\r\n    <path clip-path=\"url(#pfc239ba7e8)\" d=\"M 168.189375 157.835625 \r\nL 201.669375 157.835625 \r\nL 201.669375 185.015625 \r\nL 168.189375 185.015625 \r\nL 168.189375 157.835625 \r\n\" style=\"fill:#5c51a3;\"/>\r\n    <path clip-path=\"url(#pfc239ba7e8)\" d=\"M 201.669375 157.835625 \r\nL 235.149375 157.835625 \r\nL 235.149375 185.015625 \r\nL 201.669375 185.015625 \r\nL 201.669375 157.835625 \r\n\" style=\"fill:#5e4fa2;\"/>\r\n    <path clip-path=\"url(#pfc239ba7e8)\" d=\"M 235.149375 157.835625 \r\nL 268.629375 157.835625 \r\nL 268.629375 185.015625 \r\nL 235.149375 185.015625 \r\nL 235.149375 157.835625 \r\n\" style=\"fill:#feefa3;\"/>\r\n    <path clip-path=\"url(#pfc239ba7e8)\" d=\"M 268.629375 157.835625 \r\nL 302.109375 157.835625 \r\nL 302.109375 185.015625 \r\nL 268.629375 185.015625 \r\nL 268.629375 157.835625 \r\n\" style=\"fill:#fee08b;\"/>\r\n    <path clip-path=\"url(#pfc239ba7e8)\" d=\"M 302.109375 157.835625 \r\nL 335.589375 157.835625 \r\nL 335.589375 185.015625 \r\nL 302.109375 185.015625 \r\nL 302.109375 157.835625 \r\n\" style=\"fill:#5e4fa2;\"/>\r\n    <path clip-path=\"url(#pfc239ba7e8)\" d=\"M 335.589375 157.835625 \r\nL 369.069375 157.835625 \r\nL 369.069375 185.015625 \r\nL 335.589375 185.015625 \r\nL 335.589375 157.835625 \r\n\" style=\"fill:#5e4fa2;\"/>\r\n    <path clip-path=\"url(#pfc239ba7e8)\" d=\"M 369.069375 157.835625 \r\nL 402.549375 157.835625 \r\nL 402.549375 185.015625 \r\nL 369.069375 185.015625 \r\nL 369.069375 157.835625 \r\n\" style=\"fill:#fee593;\"/>\r\n    <path clip-path=\"url(#pfc239ba7e8)\" d=\"M 134.709375 185.015625 \r\nL 168.189375 185.015625 \r\nL 168.189375 212.195625 \r\nL 134.709375 212.195625 \r\nL 134.709375 185.015625 \r\n\" style=\"fill:#fff7b2;\"/>\r\n    <path clip-path=\"url(#pfc239ba7e8)\" d=\"M 168.189375 185.015625 \r\nL 201.669375 185.015625 \r\nL 201.669375 212.195625 \r\nL 168.189375 212.195625 \r\nL 168.189375 185.015625 \r\n\" style=\"fill:#5c51a3;\"/>\r\n    <path clip-path=\"url(#pfc239ba7e8)\" d=\"M 201.669375 185.015625 \r\nL 235.149375 185.015625 \r\nL 235.149375 212.195625 \r\nL 201.669375 212.195625 \r\nL 201.669375 185.015625 \r\n\" style=\"fill:#5e4fa2;\"/>\r\n    <path clip-path=\"url(#pfc239ba7e8)\" d=\"M 235.149375 185.015625 \r\nL 268.629375 185.015625 \r\nL 268.629375 212.195625 \r\nL 235.149375 212.195625 \r\nL 235.149375 185.015625 \r\n\" style=\"fill:#feefa3;\"/>\r\n    <path clip-path=\"url(#pfc239ba7e8)\" d=\"M 268.629375 185.015625 \r\nL 302.109375 185.015625 \r\nL 302.109375 212.195625 \r\nL 268.629375 212.195625 \r\nL 268.629375 185.015625 \r\n\" style=\"fill:#fee08b;\"/>\r\n    <path clip-path=\"url(#pfc239ba7e8)\" d=\"M 302.109375 185.015625 \r\nL 335.589375 185.015625 \r\nL 335.589375 212.195625 \r\nL 302.109375 212.195625 \r\nL 302.109375 185.015625 \r\n\" style=\"fill:#5e4fa2;\"/>\r\n    <path clip-path=\"url(#pfc239ba7e8)\" d=\"M 335.589375 185.015625 \r\nL 369.069375 185.015625 \r\nL 369.069375 212.195625 \r\nL 335.589375 212.195625 \r\nL 335.589375 185.015625 \r\n\" style=\"fill:#5e4fa2;\"/>\r\n    <path clip-path=\"url(#pfc239ba7e8)\" d=\"M 369.069375 185.015625 \r\nL 402.549375 185.015625 \r\nL 402.549375 212.195625 \r\nL 369.069375 212.195625 \r\nL 369.069375 185.015625 \r\n\" style=\"fill:#fee593;\"/>\r\n    <path clip-path=\"url(#pfc239ba7e8)\" d=\"M 134.709375 212.195625 \r\nL 168.189375 212.195625 \r\nL 168.189375 239.375625 \r\nL 134.709375 239.375625 \r\nL 134.709375 212.195625 \r\n\" style=\"fill:#a00343;\"/>\r\n    <path clip-path=\"url(#pfc239ba7e8)\" d=\"M 168.189375 212.195625 \r\nL 201.669375 212.195625 \r\nL 201.669375 239.375625 \r\nL 168.189375 239.375625 \r\nL 168.189375 212.195625 \r\n\" style=\"fill:#feca79;\"/>\r\n    <path clip-path=\"url(#pfc239ba7e8)\" d=\"M 201.669375 212.195625 \r\nL 235.149375 212.195625 \r\nL 235.149375 239.375625 \r\nL 201.669375 239.375625 \r\nL 201.669375 212.195625 \r\n\" style=\"fill:#fee593;\"/>\r\n    <path clip-path=\"url(#pfc239ba7e8)\" d=\"M 235.149375 212.195625 \r\nL 268.629375 212.195625 \r\nL 268.629375 239.375625 \r\nL 235.149375 239.375625 \r\nL 235.149375 212.195625 \r\n\" style=\"fill:#5c51a3;\"/>\r\n    <path clip-path=\"url(#pfc239ba7e8)\" d=\"M 268.629375 212.195625 \r\nL 302.109375 212.195625 \r\nL 302.109375 239.375625 \r\nL 268.629375 239.375625 \r\nL 268.629375 212.195625 \r\n\" style=\"fill:#9e0142;\"/>\r\n    <path clip-path=\"url(#pfc239ba7e8)\" d=\"M 302.109375 212.195625 \r\nL 335.589375 212.195625 \r\nL 335.589375 239.375625 \r\nL 302.109375 239.375625 \r\nL 302.109375 212.195625 \r\n\" style=\"fill:#fee593;\"/>\r\n    <path clip-path=\"url(#pfc239ba7e8)\" d=\"M 335.589375 212.195625 \r\nL 369.069375 212.195625 \r\nL 369.069375 239.375625 \r\nL 335.589375 239.375625 \r\nL 335.589375 212.195625 \r\n\" style=\"fill:#fee593;\"/>\r\n    <path clip-path=\"url(#pfc239ba7e8)\" d=\"M 369.069375 212.195625 \r\nL 402.549375 212.195625 \r\nL 402.549375 239.375625 \r\nL 369.069375 239.375625 \r\nL 369.069375 212.195625 \r\n\" style=\"fill:#5e4fa2;\"/>\r\n   </g>\r\n   <g id=\"text_17\">\r\n    <!-- 1 -->\r\n    <g style=\"fill:#ffffff;\" transform=\"translate(148.112813 38.627812)scale(0.12 -0.12)\">\r\n     <defs>\r\n      <path d=\"M 37.25 0 \r\nL 28.46875 0 \r\nL 28.46875 56 \r\nQ 25.296875 52.984375 20.140625 49.953125 \r\nQ 14.984375 46.921875 10.890625 45.40625 \r\nL 10.890625 53.90625 \r\nQ 18.265625 57.375 23.78125 62.296875 \r\nQ 29.296875 67.234375 31.59375 71.875 \r\nL 37.25 71.875 \r\nz\r\n\" id=\"ArialMT-49\"/>\r\n     </defs>\r\n     <use xlink:href=\"#ArialMT-49\"/>\r\n    </g>\r\n   </g>\r\n   <g id=\"text_18\">\r\n    <!-- 0.24 -->\r\n    <g style=\"fill:#262626;\" transform=\"translate(173.252813 38.627812)scale(0.12 -0.12)\">\r\n     <defs>\r\n      <path d=\"M 4.15625 35.296875 \r\nQ 4.15625 48 6.765625 55.734375 \r\nQ 9.375 63.484375 14.515625 67.671875 \r\nQ 19.671875 71.875 27.484375 71.875 \r\nQ 33.25 71.875 37.59375 69.546875 \r\nQ 41.9375 67.234375 44.765625 62.859375 \r\nQ 47.609375 58.5 49.21875 52.21875 \r\nQ 50.828125 45.953125 50.828125 35.296875 \r\nQ 50.828125 22.703125 48.234375 14.96875 \r\nQ 45.65625 7.234375 40.5 3 \r\nQ 35.359375 -1.21875 27.484375 -1.21875 \r\nQ 17.140625 -1.21875 11.234375 6.203125 \r\nQ 4.15625 15.140625 4.15625 35.296875 \r\nz\r\nM 13.1875 35.296875 \r\nQ 13.1875 17.671875 17.3125 11.828125 \r\nQ 21.4375 6 27.484375 6 \r\nQ 33.546875 6 37.671875 11.859375 \r\nQ 41.796875 17.71875 41.796875 35.296875 \r\nQ 41.796875 52.984375 37.671875 58.78125 \r\nQ 33.546875 64.59375 27.390625 64.59375 \r\nQ 21.34375 64.59375 17.71875 59.46875 \r\nQ 13.1875 52.9375 13.1875 35.296875 \r\nz\r\n\" id=\"ArialMT-48\"/>\r\n      <path d=\"M 9.078125 0 \r\nL 9.078125 10.015625 \r\nL 19.09375 10.015625 \r\nL 19.09375 0 \r\nz\r\n\" id=\"ArialMT-46\"/>\r\n      <path d=\"M 50.34375 8.453125 \r\nL 50.34375 0 \r\nL 3.03125 0 \r\nQ 2.9375 3.171875 4.046875 6.109375 \r\nQ 5.859375 10.9375 9.828125 15.625 \r\nQ 13.8125 20.3125 21.34375 26.46875 \r\nQ 33.015625 36.03125 37.109375 41.625 \r\nQ 41.21875 47.21875 41.21875 52.203125 \r\nQ 41.21875 57.421875 37.46875 61 \r\nQ 33.734375 64.59375 27.734375 64.59375 \r\nQ 21.390625 64.59375 17.578125 60.78125 \r\nQ 13.765625 56.984375 13.71875 50.25 \r\nL 4.6875 51.171875 \r\nQ 5.609375 61.28125 11.65625 66.578125 \r\nQ 17.71875 71.875 27.9375 71.875 \r\nQ 38.234375 71.875 44.234375 66.15625 \r\nQ 50.25 60.453125 50.25 52 \r\nQ 50.25 47.703125 48.484375 43.546875 \r\nQ 46.734375 39.40625 42.65625 34.8125 \r\nQ 38.578125 30.21875 29.109375 22.21875 \r\nQ 21.1875 15.578125 18.9375 13.203125 \r\nQ 16.703125 10.84375 15.234375 8.453125 \r\nz\r\n\" id=\"ArialMT-50\"/>\r\n      <path d=\"M 32.328125 0 \r\nL 32.328125 17.140625 \r\nL 1.265625 17.140625 \r\nL 1.265625 25.203125 \r\nL 33.9375 71.578125 \r\nL 41.109375 71.578125 \r\nL 41.109375 25.203125 \r\nL 50.78125 25.203125 \r\nL 50.78125 17.140625 \r\nL 41.109375 17.140625 \r\nL 41.109375 0 \r\nz\r\nM 32.328125 25.203125 \r\nL 32.328125 57.46875 \r\nL 9.90625 25.203125 \r\nz\r\n\" id=\"ArialMT-52\"/>\r\n     </defs>\r\n     <use xlink:href=\"#ArialMT-48\"/>\r\n     <use x=\"55.615234\" xlink:href=\"#ArialMT-46\"/>\r\n     <use x=\"83.398438\" xlink:href=\"#ArialMT-50\"/>\r\n     <use x=\"139.013672\" xlink:href=\"#ArialMT-52\"/>\r\n    </g>\r\n   </g>\r\n   <g id=\"text_19\">\r\n    <!-- 0.2 -->\r\n    <g style=\"fill:#262626;\" transform=\"translate(210.069375 38.627812)scale(0.12 -0.12)\">\r\n     <use xlink:href=\"#ArialMT-48\"/>\r\n     <use x=\"55.615234\" xlink:href=\"#ArialMT-46\"/>\r\n     <use x=\"83.398438\" xlink:href=\"#ArialMT-50\"/>\r\n    </g>\r\n   </g>\r\n   <g id=\"text_20\">\r\n    <!-- -0.44 -->\r\n    <g style=\"fill:#ffffff;\" transform=\"translate(238.215 38.627812)scale(0.12 -0.12)\">\r\n     <defs>\r\n      <path d=\"M 3.171875 21.484375 \r\nL 3.171875 30.328125 \r\nL 30.171875 30.328125 \r\nL 30.171875 21.484375 \r\nz\r\n\" id=\"ArialMT-45\"/>\r\n     </defs>\r\n     <use xlink:href=\"#ArialMT-45\"/>\r\n     <use x=\"33.300781\" xlink:href=\"#ArialMT-48\"/>\r\n     <use x=\"88.916016\" xlink:href=\"#ArialMT-46\"/>\r\n     <use x=\"116.699219\" xlink:href=\"#ArialMT-52\"/>\r\n     <use x=\"172.314453\" xlink:href=\"#ArialMT-52\"/>\r\n    </g>\r\n   </g>\r\n   <g id=\"text_21\">\r\n    <!-- 0.51 -->\r\n    <g style=\"fill:#262626;\" transform=\"translate(273.692813 38.627812)scale(0.12 -0.12)\">\r\n     <defs>\r\n      <path d=\"M 4.15625 18.75 \r\nL 13.375 19.53125 \r\nQ 14.40625 12.796875 18.140625 9.390625 \r\nQ 21.875 6 27.15625 6 \r\nQ 33.5 6 37.890625 10.78125 \r\nQ 42.28125 15.578125 42.28125 23.484375 \r\nQ 42.28125 31 38.0625 35.34375 \r\nQ 33.84375 39.703125 27 39.703125 \r\nQ 22.75 39.703125 19.328125 37.765625 \r\nQ 15.921875 35.84375 13.96875 32.765625 \r\nL 5.71875 33.84375 \r\nL 12.640625 70.609375 \r\nL 48.25 70.609375 \r\nL 48.25 62.203125 \r\nL 19.671875 62.203125 \r\nL 15.828125 42.96875 \r\nQ 22.265625 47.46875 29.34375 47.46875 \r\nQ 38.71875 47.46875 45.15625 40.96875 \r\nQ 51.609375 34.46875 51.609375 24.265625 \r\nQ 51.609375 14.546875 45.953125 7.46875 \r\nQ 39.0625 -1.21875 27.15625 -1.21875 \r\nQ 17.390625 -1.21875 11.203125 4.25 \r\nQ 5.03125 9.71875 4.15625 18.75 \r\nz\r\n\" id=\"ArialMT-53\"/>\r\n     </defs>\r\n     <use xlink:href=\"#ArialMT-48\"/>\r\n     <use x=\"55.615234\" xlink:href=\"#ArialMT-46\"/>\r\n     <use x=\"83.398438\" xlink:href=\"#ArialMT-53\"/>\r\n     <use x=\"139.013672\" xlink:href=\"#ArialMT-49\"/>\r\n    </g>\r\n   </g>\r\n   <g id=\"text_22\">\r\n    <!-- 0.19 -->\r\n    <g style=\"fill:#262626;\" transform=\"translate(307.172813 38.627812)scale(0.12 -0.12)\">\r\n     <defs>\r\n      <path d=\"M 5.46875 16.546875 \r\nL 13.921875 17.328125 \r\nQ 14.984375 11.375 18.015625 8.6875 \r\nQ 21.046875 6 25.78125 6 \r\nQ 29.828125 6 32.875 7.859375 \r\nQ 35.9375 9.71875 37.890625 12.8125 \r\nQ 39.84375 15.921875 41.15625 21.1875 \r\nQ 42.484375 26.46875 42.484375 31.9375 \r\nQ 42.484375 32.515625 42.4375 33.6875 \r\nQ 39.796875 29.5 35.234375 26.875 \r\nQ 30.671875 24.265625 25.34375 24.265625 \r\nQ 16.453125 24.265625 10.296875 30.703125 \r\nQ 4.15625 37.15625 4.15625 47.703125 \r\nQ 4.15625 58.59375 10.578125 65.234375 \r\nQ 17 71.875 26.65625 71.875 \r\nQ 33.640625 71.875 39.421875 68.109375 \r\nQ 45.21875 64.359375 48.21875 57.390625 \r\nQ 51.21875 50.4375 51.21875 37.25 \r\nQ 51.21875 23.53125 48.234375 15.40625 \r\nQ 45.265625 7.28125 39.375 3.03125 \r\nQ 33.5 -1.21875 25.59375 -1.21875 \r\nQ 17.1875 -1.21875 11.859375 3.4375 \r\nQ 6.546875 8.109375 5.46875 16.546875 \r\nz\r\nM 41.453125 48.140625 \r\nQ 41.453125 55.71875 37.421875 60.15625 \r\nQ 33.40625 64.59375 27.734375 64.59375 \r\nQ 21.875 64.59375 17.53125 59.8125 \r\nQ 13.1875 55.03125 13.1875 47.40625 \r\nQ 13.1875 40.578125 17.3125 36.296875 \r\nQ 21.4375 32.03125 27.484375 32.03125 \r\nQ 33.59375 32.03125 37.515625 36.296875 \r\nQ 41.453125 40.578125 41.453125 48.140625 \r\nz\r\n\" id=\"ArialMT-57\"/>\r\n     </defs>\r\n     <use xlink:href=\"#ArialMT-48\"/>\r\n     <use x=\"55.615234\" xlink:href=\"#ArialMT-46\"/>\r\n     <use x=\"83.398438\" xlink:href=\"#ArialMT-49\"/>\r\n     <use x=\"139.013672\" xlink:href=\"#ArialMT-57\"/>\r\n    </g>\r\n   </g>\r\n   <g id=\"text_23\">\r\n    <!-- 0.19 -->\r\n    <g style=\"fill:#262626;\" transform=\"translate(340.652813 38.627812)scale(0.12 -0.12)\">\r\n     <use xlink:href=\"#ArialMT-48\"/>\r\n     <use x=\"55.615234\" xlink:href=\"#ArialMT-46\"/>\r\n     <use x=\"83.398438\" xlink:href=\"#ArialMT-49\"/>\r\n     <use x=\"139.013672\" xlink:href=\"#ArialMT-57\"/>\r\n    </g>\r\n   </g>\r\n   <g id=\"text_24\">\r\n    <!-- -0.52 -->\r\n    <g style=\"fill:#ffffff;\" transform=\"translate(372.135 38.627812)scale(0.12 -0.12)\">\r\n     <use xlink:href=\"#ArialMT-45\"/>\r\n     <use x=\"33.300781\" xlink:href=\"#ArialMT-48\"/>\r\n     <use x=\"88.916016\" xlink:href=\"#ArialMT-46\"/>\r\n     <use x=\"116.699219\" xlink:href=\"#ArialMT-53\"/>\r\n     <use x=\"172.314453\" xlink:href=\"#ArialMT-50\"/>\r\n    </g>\r\n   </g>\r\n   <g id=\"text_25\">\r\n    <!-- 0.24 -->\r\n    <g style=\"fill:#262626;\" transform=\"translate(139.772813 65.807812)scale(0.12 -0.12)\">\r\n     <use xlink:href=\"#ArialMT-48\"/>\r\n     <use x=\"55.615234\" xlink:href=\"#ArialMT-46\"/>\r\n     <use x=\"83.398438\" xlink:href=\"#ArialMT-50\"/>\r\n     <use x=\"139.013672\" xlink:href=\"#ArialMT-52\"/>\r\n    </g>\r\n   </g>\r\n   <g id=\"text_26\">\r\n    <!-- 1 -->\r\n    <g style=\"fill:#ffffff;\" transform=\"translate(181.592813 65.807812)scale(0.12 -0.12)\">\r\n     <use xlink:href=\"#ArialMT-49\"/>\r\n    </g>\r\n   </g>\r\n   <g id=\"text_27\">\r\n    <!-- 0.99 -->\r\n    <g style=\"fill:#ffffff;\" transform=\"translate(206.732813 65.807812)scale(0.12 -0.12)\">\r\n     <use xlink:href=\"#ArialMT-48\"/>\r\n     <use x=\"55.615234\" xlink:href=\"#ArialMT-46\"/>\r\n     <use x=\"83.398438\" xlink:href=\"#ArialMT-57\"/>\r\n     <use x=\"139.013672\" xlink:href=\"#ArialMT-57\"/>\r\n    </g>\r\n   </g>\r\n   <g id=\"text_28\">\r\n    <!-- 0.06 -->\r\n    <g style=\"fill:#262626;\" transform=\"translate(240.212813 65.807812)scale(0.12 -0.12)\">\r\n     <defs>\r\n      <path d=\"M 49.75 54.046875 \r\nL 41.015625 53.375 \r\nQ 39.84375 58.546875 37.703125 60.890625 \r\nQ 34.125 64.65625 28.90625 64.65625 \r\nQ 24.703125 64.65625 21.53125 62.3125 \r\nQ 17.390625 59.28125 14.984375 53.46875 \r\nQ 12.59375 47.65625 12.5 36.921875 \r\nQ 15.671875 41.75 20.265625 44.09375 \r\nQ 24.859375 46.4375 29.890625 46.4375 \r\nQ 38.671875 46.4375 44.84375 39.96875 \r\nQ 51.03125 33.5 51.03125 23.25 \r\nQ 51.03125 16.5 48.125 10.71875 \r\nQ 45.21875 4.9375 40.140625 1.859375 \r\nQ 35.0625 -1.21875 28.609375 -1.21875 \r\nQ 17.625 -1.21875 10.6875 6.859375 \r\nQ 3.765625 14.9375 3.765625 33.5 \r\nQ 3.765625 54.25 11.421875 63.671875 \r\nQ 18.109375 71.875 29.4375 71.875 \r\nQ 37.890625 71.875 43.28125 67.140625 \r\nQ 48.6875 62.40625 49.75 54.046875 \r\nz\r\nM 13.875 23.1875 \r\nQ 13.875 18.65625 15.796875 14.5 \r\nQ 17.71875 10.359375 21.1875 8.171875 \r\nQ 24.65625 6 28.46875 6 \r\nQ 34.03125 6 38.03125 10.484375 \r\nQ 42.046875 14.984375 42.046875 22.703125 \r\nQ 42.046875 30.125 38.078125 34.390625 \r\nQ 34.125 38.671875 28.125 38.671875 \r\nQ 22.171875 38.671875 18.015625 34.390625 \r\nQ 13.875 30.125 13.875 23.1875 \r\nz\r\n\" id=\"ArialMT-54\"/>\r\n     </defs>\r\n     <use xlink:href=\"#ArialMT-48\"/>\r\n     <use x=\"55.615234\" xlink:href=\"#ArialMT-46\"/>\r\n     <use x=\"83.398438\" xlink:href=\"#ArialMT-48\"/>\r\n     <use x=\"139.013672\" xlink:href=\"#ArialMT-54\"/>\r\n    </g>\r\n   </g>\r\n   <g id=\"text_29\">\r\n    <!-- 0.11 -->\r\n    <g style=\"fill:#262626;\" transform=\"translate(274.135313 65.807812)scale(0.12 -0.12)\">\r\n     <use xlink:href=\"#ArialMT-48\"/>\r\n     <use x=\"55.615234\" xlink:href=\"#ArialMT-46\"/>\r\n     <use x=\"83.398438\" xlink:href=\"#ArialMT-49\"/>\r\n     <use x=\"131.638672\" xlink:href=\"#ArialMT-49\"/>\r\n    </g>\r\n   </g>\r\n   <g id=\"text_30\">\r\n    <!-- 0.99 -->\r\n    <g style=\"fill:#ffffff;\" transform=\"translate(307.172813 65.807812)scale(0.12 -0.12)\">\r\n     <use xlink:href=\"#ArialMT-48\"/>\r\n     <use x=\"55.615234\" xlink:href=\"#ArialMT-46\"/>\r\n     <use x=\"83.398438\" xlink:href=\"#ArialMT-57\"/>\r\n     <use x=\"139.013672\" xlink:href=\"#ArialMT-57\"/>\r\n    </g>\r\n   </g>\r\n   <g id=\"text_31\">\r\n    <!-- 0.99 -->\r\n    <g style=\"fill:#ffffff;\" transform=\"translate(340.652813 65.807812)scale(0.12 -0.12)\">\r\n     <use xlink:href=\"#ArialMT-48\"/>\r\n     <use x=\"55.615234\" xlink:href=\"#ArialMT-46\"/>\r\n     <use x=\"83.398438\" xlink:href=\"#ArialMT-57\"/>\r\n     <use x=\"139.013672\" xlink:href=\"#ArialMT-57\"/>\r\n    </g>\r\n   </g>\r\n   <g id=\"text_32\">\r\n    <!-- 0.012 -->\r\n    <g style=\"fill:#262626;\" transform=\"translate(370.79625 65.807812)scale(0.12 -0.12)\">\r\n     <use xlink:href=\"#ArialMT-48\"/>\r\n     <use x=\"55.615234\" xlink:href=\"#ArialMT-46\"/>\r\n     <use x=\"83.398438\" xlink:href=\"#ArialMT-48\"/>\r\n     <use x=\"139.013672\" xlink:href=\"#ArialMT-49\"/>\r\n     <use x=\"194.628906\" xlink:href=\"#ArialMT-50\"/>\r\n    </g>\r\n   </g>\r\n   <g id=\"text_33\">\r\n    <!-- 0.2 -->\r\n    <g style=\"fill:#262626;\" transform=\"translate(143.109375 92.987812)scale(0.12 -0.12)\">\r\n     <use xlink:href=\"#ArialMT-48\"/>\r\n     <use x=\"55.615234\" xlink:href=\"#ArialMT-46\"/>\r\n     <use x=\"83.398438\" xlink:href=\"#ArialMT-50\"/>\r\n    </g>\r\n   </g>\r\n   <g id=\"text_34\">\r\n    <!-- 0.99 -->\r\n    <g style=\"fill:#ffffff;\" transform=\"translate(173.252813 92.987812)scale(0.12 -0.12)\">\r\n     <use xlink:href=\"#ArialMT-48\"/>\r\n     <use x=\"55.615234\" xlink:href=\"#ArialMT-46\"/>\r\n     <use x=\"83.398438\" xlink:href=\"#ArialMT-57\"/>\r\n     <use x=\"139.013672\" xlink:href=\"#ArialMT-57\"/>\r\n    </g>\r\n   </g>\r\n   <g id=\"text_35\">\r\n    <!-- 1 -->\r\n    <g style=\"fill:#ffffff;\" transform=\"translate(215.072813 92.987812)scale(0.12 -0.12)\">\r\n     <use xlink:href=\"#ArialMT-49\"/>\r\n    </g>\r\n   </g>\r\n   <g id=\"text_36\">\r\n    <!-- 0.15 -->\r\n    <g style=\"fill:#262626;\" transform=\"translate(240.212813 92.987812)scale(0.12 -0.12)\">\r\n     <use xlink:href=\"#ArialMT-48\"/>\r\n     <use x=\"55.615234\" xlink:href=\"#ArialMT-46\"/>\r\n     <use x=\"83.398438\" xlink:href=\"#ArialMT-49\"/>\r\n     <use x=\"139.013672\" xlink:href=\"#ArialMT-53\"/>\r\n    </g>\r\n   </g>\r\n   <g id=\"text_37\">\r\n    <!-- 0.096 -->\r\n    <g style=\"fill:#262626;\" transform=\"translate(270.35625 92.987812)scale(0.12 -0.12)\">\r\n     <use xlink:href=\"#ArialMT-48\"/>\r\n     <use x=\"55.615234\" xlink:href=\"#ArialMT-46\"/>\r\n     <use x=\"83.398438\" xlink:href=\"#ArialMT-48\"/>\r\n     <use x=\"139.013672\" xlink:href=\"#ArialMT-57\"/>\r\n     <use x=\"194.628906\" xlink:href=\"#ArialMT-54\"/>\r\n    </g>\r\n   </g>\r\n   <g id=\"text_38\">\r\n    <!-- 1 -->\r\n    <g style=\"fill:#ffffff;\" transform=\"translate(315.512812 92.987812)scale(0.12 -0.12)\">\r\n     <use xlink:href=\"#ArialMT-49\"/>\r\n    </g>\r\n   </g>\r\n   <g id=\"text_39\">\r\n    <!-- 1 -->\r\n    <g style=\"fill:#ffffff;\" transform=\"translate(348.992813 92.987812)scale(0.12 -0.12)\">\r\n     <use xlink:href=\"#ArialMT-49\"/>\r\n    </g>\r\n   </g>\r\n   <g id=\"text_40\">\r\n    <!-- 0.1 -->\r\n    <g style=\"fill:#262626;\" transform=\"translate(377.469375 92.987812)scale(0.12 -0.12)\">\r\n     <use xlink:href=\"#ArialMT-48\"/>\r\n     <use x=\"55.615234\" xlink:href=\"#ArialMT-46\"/>\r\n     <use x=\"83.398438\" xlink:href=\"#ArialMT-49\"/>\r\n    </g>\r\n   </g>\r\n   <g id=\"text_41\">\r\n    <!-- -0.44 -->\r\n    <g style=\"fill:#ffffff;\" transform=\"translate(137.775 120.167812)scale(0.12 -0.12)\">\r\n     <use xlink:href=\"#ArialMT-45\"/>\r\n     <use x=\"33.300781\" xlink:href=\"#ArialMT-48\"/>\r\n     <use x=\"88.916016\" xlink:href=\"#ArialMT-46\"/>\r\n     <use x=\"116.699219\" xlink:href=\"#ArialMT-52\"/>\r\n     <use x=\"172.314453\" xlink:href=\"#ArialMT-52\"/>\r\n    </g>\r\n   </g>\r\n   <g id=\"text_42\">\r\n    <!-- 0.06 -->\r\n    <g style=\"fill:#262626;\" transform=\"translate(173.252813 120.167812)scale(0.12 -0.12)\">\r\n     <use xlink:href=\"#ArialMT-48\"/>\r\n     <use x=\"55.615234\" xlink:href=\"#ArialMT-46\"/>\r\n     <use x=\"83.398438\" xlink:href=\"#ArialMT-48\"/>\r\n     <use x=\"139.013672\" xlink:href=\"#ArialMT-54\"/>\r\n    </g>\r\n   </g>\r\n   <g id=\"text_43\">\r\n    <!-- 0.15 -->\r\n    <g style=\"fill:#262626;\" transform=\"translate(206.732813 120.167812)scale(0.12 -0.12)\">\r\n     <use xlink:href=\"#ArialMT-48\"/>\r\n     <use x=\"55.615234\" xlink:href=\"#ArialMT-46\"/>\r\n     <use x=\"83.398438\" xlink:href=\"#ArialMT-49\"/>\r\n     <use x=\"139.013672\" xlink:href=\"#ArialMT-53\"/>\r\n    </g>\r\n   </g>\r\n   <g id=\"text_44\">\r\n    <!-- 1 -->\r\n    <g style=\"fill:#ffffff;\" transform=\"translate(248.552813 120.167812)scale(0.12 -0.12)\">\r\n     <use xlink:href=\"#ArialMT-49\"/>\r\n    </g>\r\n   </g>\r\n   <g id=\"text_45\">\r\n    <!-- -0.45 -->\r\n    <g style=\"fill:#ffffff;\" transform=\"translate(271.695 120.167812)scale(0.12 -0.12)\">\r\n     <use xlink:href=\"#ArialMT-45\"/>\r\n     <use x=\"33.300781\" xlink:href=\"#ArialMT-48\"/>\r\n     <use x=\"88.916016\" xlink:href=\"#ArialMT-46\"/>\r\n     <use x=\"116.699219\" xlink:href=\"#ArialMT-52\"/>\r\n     <use x=\"172.314453\" xlink:href=\"#ArialMT-53\"/>\r\n    </g>\r\n   </g>\r\n   <g id=\"text_46\">\r\n    <!-- 0.15 -->\r\n    <g style=\"fill:#262626;\" transform=\"translate(307.172813 120.167812)scale(0.12 -0.12)\">\r\n     <use xlink:href=\"#ArialMT-48\"/>\r\n     <use x=\"55.615234\" xlink:href=\"#ArialMT-46\"/>\r\n     <use x=\"83.398438\" xlink:href=\"#ArialMT-49\"/>\r\n     <use x=\"139.013672\" xlink:href=\"#ArialMT-53\"/>\r\n    </g>\r\n   </g>\r\n   <g id=\"text_47\">\r\n    <!-- 0.15 -->\r\n    <g style=\"fill:#262626;\" transform=\"translate(340.652813 120.167812)scale(0.12 -0.12)\">\r\n     <use xlink:href=\"#ArialMT-48\"/>\r\n     <use x=\"55.615234\" xlink:href=\"#ArialMT-46\"/>\r\n     <use x=\"83.398438\" xlink:href=\"#ArialMT-49\"/>\r\n     <use x=\"139.013672\" xlink:href=\"#ArialMT-53\"/>\r\n    </g>\r\n   </g>\r\n   <g id=\"text_48\">\r\n    <!-- 0.99 -->\r\n    <g style=\"fill:#ffffff;\" transform=\"translate(374.132813 120.167812)scale(0.12 -0.12)\">\r\n     <use xlink:href=\"#ArialMT-48\"/>\r\n     <use x=\"55.615234\" xlink:href=\"#ArialMT-46\"/>\r\n     <use x=\"83.398438\" xlink:href=\"#ArialMT-57\"/>\r\n     <use x=\"139.013672\" xlink:href=\"#ArialMT-57\"/>\r\n    </g>\r\n   </g>\r\n   <g id=\"text_49\">\r\n    <!-- 0.51 -->\r\n    <g style=\"fill:#262626;\" transform=\"translate(139.772813 147.347812)scale(0.12 -0.12)\">\r\n     <use xlink:href=\"#ArialMT-48\"/>\r\n     <use x=\"55.615234\" xlink:href=\"#ArialMT-46\"/>\r\n     <use x=\"83.398438\" xlink:href=\"#ArialMT-53\"/>\r\n     <use x=\"139.013672\" xlink:href=\"#ArialMT-49\"/>\r\n    </g>\r\n   </g>\r\n   <g id=\"text_50\">\r\n    <!-- 0.11 -->\r\n    <g style=\"fill:#262626;\" transform=\"translate(173.695313 147.347812)scale(0.12 -0.12)\">\r\n     <use xlink:href=\"#ArialMT-48\"/>\r\n     <use x=\"55.615234\" xlink:href=\"#ArialMT-46\"/>\r\n     <use x=\"83.398438\" xlink:href=\"#ArialMT-49\"/>\r\n     <use x=\"131.638672\" xlink:href=\"#ArialMT-49\"/>\r\n    </g>\r\n   </g>\r\n   <g id=\"text_51\">\r\n    <!-- 0.096 -->\r\n    <g style=\"fill:#262626;\" transform=\"translate(203.39625 147.347812)scale(0.12 -0.12)\">\r\n     <use xlink:href=\"#ArialMT-48\"/>\r\n     <use x=\"55.615234\" xlink:href=\"#ArialMT-46\"/>\r\n     <use x=\"83.398438\" xlink:href=\"#ArialMT-48\"/>\r\n     <use x=\"139.013672\" xlink:href=\"#ArialMT-57\"/>\r\n     <use x=\"194.628906\" xlink:href=\"#ArialMT-54\"/>\r\n    </g>\r\n   </g>\r\n   <g id=\"text_52\">\r\n    <!-- -0.45 -->\r\n    <g style=\"fill:#ffffff;\" transform=\"translate(238.215 147.347812)scale(0.12 -0.12)\">\r\n     <use xlink:href=\"#ArialMT-45\"/>\r\n     <use x=\"33.300781\" xlink:href=\"#ArialMT-48\"/>\r\n     <use x=\"88.916016\" xlink:href=\"#ArialMT-46\"/>\r\n     <use x=\"116.699219\" xlink:href=\"#ArialMT-52\"/>\r\n     <use x=\"172.314453\" xlink:href=\"#ArialMT-53\"/>\r\n    </g>\r\n   </g>\r\n   <g id=\"text_53\">\r\n    <!-- 1 -->\r\n    <g style=\"fill:#ffffff;\" transform=\"translate(282.032813 147.347812)scale(0.12 -0.12)\">\r\n     <use xlink:href=\"#ArialMT-49\"/>\r\n    </g>\r\n   </g>\r\n   <g id=\"text_54\">\r\n    <!-- 0.079 -->\r\n    <g style=\"fill:#262626;\" transform=\"translate(303.83625 147.347812)scale(0.12 -0.12)\">\r\n     <defs>\r\n      <path d=\"M 4.734375 62.203125 \r\nL 4.734375 70.65625 \r\nL 51.078125 70.65625 \r\nL 51.078125 63.8125 \r\nQ 44.234375 56.546875 37.515625 44.484375 \r\nQ 30.8125 32.421875 27.15625 19.671875 \r\nQ 24.515625 10.6875 23.78125 0 \r\nL 14.75 0 \r\nQ 14.890625 8.453125 18.0625 20.40625 \r\nQ 21.234375 32.375 27.171875 43.484375 \r\nQ 33.109375 54.59375 39.796875 62.203125 \r\nz\r\n\" id=\"ArialMT-55\"/>\r\n     </defs>\r\n     <use xlink:href=\"#ArialMT-48\"/>\r\n     <use x=\"55.615234\" xlink:href=\"#ArialMT-46\"/>\r\n     <use x=\"83.398438\" xlink:href=\"#ArialMT-48\"/>\r\n     <use x=\"139.013672\" xlink:href=\"#ArialMT-55\"/>\r\n     <use x=\"194.628906\" xlink:href=\"#ArialMT-57\"/>\r\n    </g>\r\n   </g>\r\n   <g id=\"text_55\">\r\n    <!-- 0.079 -->\r\n    <g style=\"fill:#262626;\" transform=\"translate(337.31625 147.347812)scale(0.12 -0.12)\">\r\n     <use xlink:href=\"#ArialMT-48\"/>\r\n     <use x=\"55.615234\" xlink:href=\"#ArialMT-46\"/>\r\n     <use x=\"83.398438\" xlink:href=\"#ArialMT-48\"/>\r\n     <use x=\"139.013672\" xlink:href=\"#ArialMT-55\"/>\r\n     <use x=\"194.628906\" xlink:href=\"#ArialMT-57\"/>\r\n    </g>\r\n   </g>\r\n   <g id=\"text_56\">\r\n    <!-- -0.54 -->\r\n    <g style=\"fill:#ffffff;\" transform=\"translate(372.135 147.347812)scale(0.12 -0.12)\">\r\n     <use xlink:href=\"#ArialMT-45\"/>\r\n     <use x=\"33.300781\" xlink:href=\"#ArialMT-48\"/>\r\n     <use x=\"88.916016\" xlink:href=\"#ArialMT-46\"/>\r\n     <use x=\"116.699219\" xlink:href=\"#ArialMT-53\"/>\r\n     <use x=\"172.314453\" xlink:href=\"#ArialMT-52\"/>\r\n    </g>\r\n   </g>\r\n   <g id=\"text_57\">\r\n    <!-- 0.19 -->\r\n    <g style=\"fill:#262626;\" transform=\"translate(139.772813 174.527812)scale(0.12 -0.12)\">\r\n     <use xlink:href=\"#ArialMT-48\"/>\r\n     <use x=\"55.615234\" xlink:href=\"#ArialMT-46\"/>\r\n     <use x=\"83.398438\" xlink:href=\"#ArialMT-49\"/>\r\n     <use x=\"139.013672\" xlink:href=\"#ArialMT-57\"/>\r\n    </g>\r\n   </g>\r\n   <g id=\"text_58\">\r\n    <!-- 0.99 -->\r\n    <g style=\"fill:#ffffff;\" transform=\"translate(173.252813 174.527812)scale(0.12 -0.12)\">\r\n     <use xlink:href=\"#ArialMT-48\"/>\r\n     <use x=\"55.615234\" xlink:href=\"#ArialMT-46\"/>\r\n     <use x=\"83.398438\" xlink:href=\"#ArialMT-57\"/>\r\n     <use x=\"139.013672\" xlink:href=\"#ArialMT-57\"/>\r\n    </g>\r\n   </g>\r\n   <g id=\"text_59\">\r\n    <!-- 1 -->\r\n    <g style=\"fill:#ffffff;\" transform=\"translate(215.072813 174.527812)scale(0.12 -0.12)\">\r\n     <use xlink:href=\"#ArialMT-49\"/>\r\n    </g>\r\n   </g>\r\n   <g id=\"text_60\">\r\n    <!-- 0.15 -->\r\n    <g style=\"fill:#262626;\" transform=\"translate(240.212813 174.527812)scale(0.12 -0.12)\">\r\n     <use xlink:href=\"#ArialMT-48\"/>\r\n     <use x=\"55.615234\" xlink:href=\"#ArialMT-46\"/>\r\n     <use x=\"83.398438\" xlink:href=\"#ArialMT-49\"/>\r\n     <use x=\"139.013672\" xlink:href=\"#ArialMT-53\"/>\r\n    </g>\r\n   </g>\r\n   <g id=\"text_61\">\r\n    <!-- 0.079 -->\r\n    <g style=\"fill:#262626;\" transform=\"translate(270.35625 174.527812)scale(0.12 -0.12)\">\r\n     <use xlink:href=\"#ArialMT-48\"/>\r\n     <use x=\"55.615234\" xlink:href=\"#ArialMT-46\"/>\r\n     <use x=\"83.398438\" xlink:href=\"#ArialMT-48\"/>\r\n     <use x=\"139.013672\" xlink:href=\"#ArialMT-55\"/>\r\n     <use x=\"194.628906\" xlink:href=\"#ArialMT-57\"/>\r\n    </g>\r\n   </g>\r\n   <g id=\"text_62\">\r\n    <!-- 1 -->\r\n    <g style=\"fill:#ffffff;\" transform=\"translate(315.512812 174.527812)scale(0.12 -0.12)\">\r\n     <use xlink:href=\"#ArialMT-49\"/>\r\n    </g>\r\n   </g>\r\n   <g id=\"text_63\">\r\n    <!-- 1 -->\r\n    <g style=\"fill:#ffffff;\" transform=\"translate(348.992813 174.527812)scale(0.12 -0.12)\">\r\n     <use xlink:href=\"#ArialMT-49\"/>\r\n    </g>\r\n   </g>\r\n   <g id=\"text_64\">\r\n    <!-- 0.1 -->\r\n    <g style=\"fill:#262626;\" transform=\"translate(377.469375 174.527812)scale(0.12 -0.12)\">\r\n     <use xlink:href=\"#ArialMT-48\"/>\r\n     <use x=\"55.615234\" xlink:href=\"#ArialMT-46\"/>\r\n     <use x=\"83.398438\" xlink:href=\"#ArialMT-49\"/>\r\n    </g>\r\n   </g>\r\n   <g id=\"text_65\">\r\n    <!-- 0.19 -->\r\n    <g style=\"fill:#262626;\" transform=\"translate(139.772813 201.707812)scale(0.12 -0.12)\">\r\n     <use xlink:href=\"#ArialMT-48\"/>\r\n     <use x=\"55.615234\" xlink:href=\"#ArialMT-46\"/>\r\n     <use x=\"83.398438\" xlink:href=\"#ArialMT-49\"/>\r\n     <use x=\"139.013672\" xlink:href=\"#ArialMT-57\"/>\r\n    </g>\r\n   </g>\r\n   <g id=\"text_66\">\r\n    <!-- 0.99 -->\r\n    <g style=\"fill:#ffffff;\" transform=\"translate(173.252813 201.707812)scale(0.12 -0.12)\">\r\n     <use xlink:href=\"#ArialMT-48\"/>\r\n     <use x=\"55.615234\" xlink:href=\"#ArialMT-46\"/>\r\n     <use x=\"83.398438\" xlink:href=\"#ArialMT-57\"/>\r\n     <use x=\"139.013672\" xlink:href=\"#ArialMT-57\"/>\r\n    </g>\r\n   </g>\r\n   <g id=\"text_67\">\r\n    <!-- 1 -->\r\n    <g style=\"fill:#ffffff;\" transform=\"translate(215.072813 201.707812)scale(0.12 -0.12)\">\r\n     <use xlink:href=\"#ArialMT-49\"/>\r\n    </g>\r\n   </g>\r\n   <g id=\"text_68\">\r\n    <!-- 0.15 -->\r\n    <g style=\"fill:#262626;\" transform=\"translate(240.212813 201.707812)scale(0.12 -0.12)\">\r\n     <use xlink:href=\"#ArialMT-48\"/>\r\n     <use x=\"55.615234\" xlink:href=\"#ArialMT-46\"/>\r\n     <use x=\"83.398438\" xlink:href=\"#ArialMT-49\"/>\r\n     <use x=\"139.013672\" xlink:href=\"#ArialMT-53\"/>\r\n    </g>\r\n   </g>\r\n   <g id=\"text_69\">\r\n    <!-- 0.079 -->\r\n    <g style=\"fill:#262626;\" transform=\"translate(270.35625 201.707812)scale(0.12 -0.12)\">\r\n     <use xlink:href=\"#ArialMT-48\"/>\r\n     <use x=\"55.615234\" xlink:href=\"#ArialMT-46\"/>\r\n     <use x=\"83.398438\" xlink:href=\"#ArialMT-48\"/>\r\n     <use x=\"139.013672\" xlink:href=\"#ArialMT-55\"/>\r\n     <use x=\"194.628906\" xlink:href=\"#ArialMT-57\"/>\r\n    </g>\r\n   </g>\r\n   <g id=\"text_70\">\r\n    <!-- 1 -->\r\n    <g style=\"fill:#ffffff;\" transform=\"translate(315.512812 201.707812)scale(0.12 -0.12)\">\r\n     <use xlink:href=\"#ArialMT-49\"/>\r\n    </g>\r\n   </g>\r\n   <g id=\"text_71\">\r\n    <!-- 1 -->\r\n    <g style=\"fill:#ffffff;\" transform=\"translate(348.992813 201.707812)scale(0.12 -0.12)\">\r\n     <use xlink:href=\"#ArialMT-49\"/>\r\n    </g>\r\n   </g>\r\n   <g id=\"text_72\">\r\n    <!-- 0.1 -->\r\n    <g style=\"fill:#262626;\" transform=\"translate(377.469375 201.707812)scale(0.12 -0.12)\">\r\n     <use xlink:href=\"#ArialMT-48\"/>\r\n     <use x=\"55.615234\" xlink:href=\"#ArialMT-46\"/>\r\n     <use x=\"83.398438\" xlink:href=\"#ArialMT-49\"/>\r\n    </g>\r\n   </g>\r\n   <g id=\"text_73\">\r\n    <!-- -0.52 -->\r\n    <g style=\"fill:#ffffff;\" transform=\"translate(137.775 228.887812)scale(0.12 -0.12)\">\r\n     <use xlink:href=\"#ArialMT-45\"/>\r\n     <use x=\"33.300781\" xlink:href=\"#ArialMT-48\"/>\r\n     <use x=\"88.916016\" xlink:href=\"#ArialMT-46\"/>\r\n     <use x=\"116.699219\" xlink:href=\"#ArialMT-53\"/>\r\n     <use x=\"172.314453\" xlink:href=\"#ArialMT-50\"/>\r\n    </g>\r\n   </g>\r\n   <g id=\"text_74\">\r\n    <!-- 0.012 -->\r\n    <g style=\"fill:#262626;\" transform=\"translate(169.91625 228.887812)scale(0.12 -0.12)\">\r\n     <use xlink:href=\"#ArialMT-48\"/>\r\n     <use x=\"55.615234\" xlink:href=\"#ArialMT-46\"/>\r\n     <use x=\"83.398438\" xlink:href=\"#ArialMT-48\"/>\r\n     <use x=\"139.013672\" xlink:href=\"#ArialMT-49\"/>\r\n     <use x=\"194.628906\" xlink:href=\"#ArialMT-50\"/>\r\n    </g>\r\n   </g>\r\n   <g id=\"text_75\">\r\n    <!-- 0.1 -->\r\n    <g style=\"fill:#262626;\" transform=\"translate(210.069375 228.887812)scale(0.12 -0.12)\">\r\n     <use xlink:href=\"#ArialMT-48\"/>\r\n     <use x=\"55.615234\" xlink:href=\"#ArialMT-46\"/>\r\n     <use x=\"83.398438\" xlink:href=\"#ArialMT-49\"/>\r\n    </g>\r\n   </g>\r\n   <g id=\"text_76\">\r\n    <!-- 0.99 -->\r\n    <g style=\"fill:#ffffff;\" transform=\"translate(240.212813 228.887812)scale(0.12 -0.12)\">\r\n     <use xlink:href=\"#ArialMT-48\"/>\r\n     <use x=\"55.615234\" xlink:href=\"#ArialMT-46\"/>\r\n     <use x=\"83.398438\" xlink:href=\"#ArialMT-57\"/>\r\n     <use x=\"139.013672\" xlink:href=\"#ArialMT-57\"/>\r\n    </g>\r\n   </g>\r\n   <g id=\"text_77\">\r\n    <!-- -0.54 -->\r\n    <g style=\"fill:#ffffff;\" transform=\"translate(271.695 228.887812)scale(0.12 -0.12)\">\r\n     <use xlink:href=\"#ArialMT-45\"/>\r\n     <use x=\"33.300781\" xlink:href=\"#ArialMT-48\"/>\r\n     <use x=\"88.916016\" xlink:href=\"#ArialMT-46\"/>\r\n     <use x=\"116.699219\" xlink:href=\"#ArialMT-53\"/>\r\n     <use x=\"172.314453\" xlink:href=\"#ArialMT-52\"/>\r\n    </g>\r\n   </g>\r\n   <g id=\"text_78\">\r\n    <!-- 0.1 -->\r\n    <g style=\"fill:#262626;\" transform=\"translate(310.509375 228.887812)scale(0.12 -0.12)\">\r\n     <use xlink:href=\"#ArialMT-48\"/>\r\n     <use x=\"55.615234\" xlink:href=\"#ArialMT-46\"/>\r\n     <use x=\"83.398438\" xlink:href=\"#ArialMT-49\"/>\r\n    </g>\r\n   </g>\r\n   <g id=\"text_79\">\r\n    <!-- 0.1 -->\r\n    <g style=\"fill:#262626;\" transform=\"translate(343.989375 228.887812)scale(0.12 -0.12)\">\r\n     <use xlink:href=\"#ArialMT-48\"/>\r\n     <use x=\"55.615234\" xlink:href=\"#ArialMT-46\"/>\r\n     <use x=\"83.398438\" xlink:href=\"#ArialMT-49\"/>\r\n    </g>\r\n   </g>\r\n   <g id=\"text_80\">\r\n    <!-- 1 -->\r\n    <g style=\"fill:#ffffff;\" transform=\"translate(382.472813 228.887812)scale(0.12 -0.12)\">\r\n     <use xlink:href=\"#ArialMT-49\"/>\r\n    </g>\r\n   </g>\r\n   <g id=\"text_81\">\r\n    <!-- Summary Variable Correlations -->\r\n    <g style=\"fill:#262626;\" transform=\"translate(185.712188 15.935625)scale(0.12 -0.12)\">\r\n     <defs>\r\n      <path d=\"M 4.5 23 \r\nL 13.421875 23.78125 \r\nQ 14.0625 18.40625 16.375 14.96875 \r\nQ 18.703125 11.53125 23.578125 9.40625 \r\nQ 28.46875 7.28125 34.578125 7.28125 \r\nQ 39.984375 7.28125 44.140625 8.890625 \r\nQ 48.296875 10.5 50.3125 13.296875 \r\nQ 52.34375 16.109375 52.34375 19.4375 \r\nQ 52.34375 22.796875 50.390625 25.3125 \r\nQ 48.4375 27.828125 43.953125 29.546875 \r\nQ 41.0625 30.671875 31.203125 33.03125 \r\nQ 21.34375 35.40625 17.390625 37.5 \r\nQ 12.25 40.1875 9.734375 44.15625 \r\nQ 7.234375 48.140625 7.234375 53.078125 \r\nQ 7.234375 58.5 10.296875 63.203125 \r\nQ 13.375 67.921875 19.28125 70.359375 \r\nQ 25.203125 72.796875 32.421875 72.796875 \r\nQ 40.375 72.796875 46.453125 70.234375 \r\nQ 52.546875 67.671875 55.8125 62.6875 \r\nQ 59.078125 57.71875 59.328125 51.421875 \r\nL 50.25 50.734375 \r\nQ 49.515625 57.515625 45.28125 60.984375 \r\nQ 41.0625 64.453125 32.8125 64.453125 \r\nQ 24.21875 64.453125 20.28125 61.296875 \r\nQ 16.359375 58.15625 16.359375 53.71875 \r\nQ 16.359375 49.859375 19.140625 47.359375 \r\nQ 21.875 44.875 33.421875 42.265625 \r\nQ 44.96875 39.65625 49.265625 37.703125 \r\nQ 55.515625 34.8125 58.484375 30.390625 \r\nQ 61.46875 25.984375 61.46875 20.21875 \r\nQ 61.46875 14.5 58.203125 9.4375 \r\nQ 54.9375 4.390625 48.796875 1.578125 \r\nQ 42.671875 -1.21875 35.015625 -1.21875 \r\nQ 25.296875 -1.21875 18.71875 1.609375 \r\nQ 12.15625 4.4375 8.421875 10.125 \r\nQ 4.6875 15.828125 4.5 23 \r\nz\r\n\" id=\"ArialMT-83\"/>\r\n      <path d=\"M 6.203125 -19.96875 \r\nL 5.21875 -11.71875 \r\nQ 8.109375 -12.5 10.25 -12.5 \r\nQ 13.1875 -12.5 14.9375 -11.515625 \r\nQ 16.703125 -10.546875 17.828125 -8.796875 \r\nQ 18.65625 -7.46875 20.515625 -2.25 \r\nQ 20.75 -1.515625 21.296875 -0.09375 \r\nL 1.609375 51.859375 \r\nL 11.078125 51.859375 \r\nL 21.875 21.828125 \r\nQ 23.96875 16.109375 25.640625 9.8125 \r\nQ 27.15625 15.875 29.25 21.625 \r\nL 40.328125 51.859375 \r\nL 49.125 51.859375 \r\nL 29.390625 -0.875 \r\nQ 26.21875 -9.421875 24.46875 -12.640625 \r\nQ 22.125 -17 19.09375 -19.015625 \r\nQ 16.0625 -21.046875 11.859375 -21.046875 \r\nQ 9.328125 -21.046875 6.203125 -19.96875 \r\nz\r\n\" id=\"ArialMT-121\"/>\r\n      <path id=\"ArialMT-32\"/>\r\n      <path d=\"M 28.171875 0 \r\nL 0.4375 71.578125 \r\nL 10.6875 71.578125 \r\nL 29.296875 19.578125 \r\nQ 31.546875 13.328125 33.0625 7.859375 \r\nQ 34.71875 13.71875 36.921875 19.578125 \r\nL 56.25 71.578125 \r\nL 65.921875 71.578125 \r\nL 37.890625 0 \r\nz\r\n\" id=\"ArialMT-86\"/>\r\n      <path d=\"M 14.703125 0 \r\nL 6.546875 0 \r\nL 6.546875 71.578125 \r\nL 15.328125 71.578125 \r\nL 15.328125 46.046875 \r\nQ 20.90625 53.03125 29.546875 53.03125 \r\nQ 34.328125 53.03125 38.59375 51.09375 \r\nQ 42.875 49.171875 45.625 45.671875 \r\nQ 48.390625 42.1875 49.953125 37.25 \r\nQ 51.515625 32.328125 51.515625 26.703125 \r\nQ 51.515625 13.375 44.921875 6.09375 \r\nQ 38.328125 -1.171875 29.109375 -1.171875 \r\nQ 19.921875 -1.171875 14.703125 6.5 \r\nz\r\nM 14.59375 26.3125 \r\nQ 14.59375 17 17.140625 12.84375 \r\nQ 21.296875 6.0625 28.375 6.0625 \r\nQ 34.125 6.0625 38.328125 11.0625 \r\nQ 42.53125 16.0625 42.53125 25.984375 \r\nQ 42.53125 36.140625 38.5 40.96875 \r\nQ 34.46875 45.796875 28.765625 45.796875 \r\nQ 23 45.796875 18.796875 40.796875 \r\nQ 14.59375 35.796875 14.59375 26.3125 \r\nz\r\n\" id=\"ArialMT-98\"/>\r\n      <path d=\"M 58.796875 25.09375 \r\nL 68.265625 22.703125 \r\nQ 65.28125 11.03125 57.546875 4.90625 \r\nQ 49.8125 -1.21875 38.625 -1.21875 \r\nQ 27.046875 -1.21875 19.796875 3.484375 \r\nQ 12.546875 8.203125 8.765625 17.140625 \r\nQ 4.984375 26.078125 4.984375 36.328125 \r\nQ 4.984375 47.515625 9.25 55.828125 \r\nQ 13.53125 64.15625 21.40625 68.46875 \r\nQ 29.296875 72.796875 38.765625 72.796875 \r\nQ 49.515625 72.796875 56.828125 67.328125 \r\nQ 64.15625 61.859375 67.046875 51.953125 \r\nL 57.71875 49.75 \r\nQ 55.21875 57.5625 50.484375 61.125 \r\nQ 45.75 64.703125 38.578125 64.703125 \r\nQ 30.328125 64.703125 24.78125 60.734375 \r\nQ 19.234375 56.78125 16.984375 50.109375 \r\nQ 14.75 43.453125 14.75 36.375 \r\nQ 14.75 27.25 17.40625 20.4375 \r\nQ 20.0625 13.625 25.671875 10.25 \r\nQ 31.296875 6.890625 37.84375 6.890625 \r\nQ 45.796875 6.890625 51.3125 11.46875 \r\nQ 56.84375 16.0625 58.796875 25.09375 \r\nz\r\n\" id=\"ArialMT-67\"/>\r\n     </defs>\r\n     <use xlink:href=\"#ArialMT-83\"/>\r\n     <use x=\"66.699219\" xlink:href=\"#ArialMT-117\"/>\r\n     <use x=\"122.314453\" xlink:href=\"#ArialMT-109\"/>\r\n     <use x=\"205.615234\" xlink:href=\"#ArialMT-109\"/>\r\n     <use x=\"288.916016\" xlink:href=\"#ArialMT-97\"/>\r\n     <use x=\"344.53125\" xlink:href=\"#ArialMT-114\"/>\r\n     <use x=\"377.832031\" xlink:href=\"#ArialMT-121\"/>\r\n     <use x=\"427.832031\" xlink:href=\"#ArialMT-32\"/>\r\n     <use x=\"455.615234\" xlink:href=\"#ArialMT-86\"/>\r\n     <use x=\"514.939453\" xlink:href=\"#ArialMT-97\"/>\r\n     <use x=\"570.554688\" xlink:href=\"#ArialMT-114\"/>\r\n     <use x=\"603.855469\" xlink:href=\"#ArialMT-105\"/>\r\n     <use x=\"626.072266\" xlink:href=\"#ArialMT-97\"/>\r\n     <use x=\"681.6875\" xlink:href=\"#ArialMT-98\"/>\r\n     <use x=\"737.302734\" xlink:href=\"#ArialMT-108\"/>\r\n     <use x=\"759.519531\" xlink:href=\"#ArialMT-101\"/>\r\n     <use x=\"815.134766\" xlink:href=\"#ArialMT-32\"/>\r\n     <use x=\"842.917969\" xlink:href=\"#ArialMT-67\"/>\r\n     <use x=\"915.134766\" xlink:href=\"#ArialMT-111\"/>\r\n     <use x=\"970.75\" xlink:href=\"#ArialMT-114\"/>\r\n     <use x=\"1004.050781\" xlink:href=\"#ArialMT-114\"/>\r\n     <use x=\"1037.351562\" xlink:href=\"#ArialMT-101\"/>\r\n     <use x=\"1092.966797\" xlink:href=\"#ArialMT-108\"/>\r\n     <use x=\"1115.183594\" xlink:href=\"#ArialMT-97\"/>\r\n     <use x=\"1170.798828\" xlink:href=\"#ArialMT-116\"/>\r\n     <use x=\"1198.582031\" xlink:href=\"#ArialMT-105\"/>\r\n     <use x=\"1220.798828\" xlink:href=\"#ArialMT-111\"/>\r\n     <use x=\"1276.414062\" xlink:href=\"#ArialMT-110\"/>\r\n     <use x=\"1332.029297\" xlink:href=\"#ArialMT-115\"/>\r\n    </g>\r\n   </g>\r\n  </g>\r\n  <g id=\"axes_2\">\r\n   <g id=\"patch_3\">\r\n    <path clip-path=\"url(#p1f73d55a0d)\" d=\"M 419.289375 239.375625 \r\nL 419.289375 238.52625 \r\nL 419.289375 22.785 \r\nL 419.289375 21.935625 \r\nL 430.161375 21.935625 \r\nL 430.161375 22.785 \r\nL 430.161375 238.52625 \r\nL 430.161375 239.375625 \r\nz\r\n\" style=\"fill:#eaeaf2;stroke:#eaeaf2;stroke-linejoin:miter;stroke-width:0.01;\"/>\r\n   </g>\r\n   <g id=\"matplotlib.axis_3\"/>\r\n   <g id=\"matplotlib.axis_4\">\r\n    <g id=\"ytick_9\">\r\n     <g id=\"line2d_1\">\r\n      <defs>\r\n       <path d=\"M 0 0 \r\nL 6 0 \r\n\" id=\"m6a6889ba69\" style=\"stroke:#262626;stroke-width:1.25;\"/>\r\n      </defs>\r\n      <g>\r\n       <use style=\"fill:#262626;stroke:#262626;stroke-width:1.25;\" x=\"430.161375\" xlink:href=\"#m6a6889ba69\" y=\"220.223386\"/>\r\n      </g>\r\n     </g>\r\n     <g id=\"text_82\">\r\n      <!-- −0.4 -->\r\n      <g style=\"fill:#262626;\" transform=\"translate(439.661375 224.160182)scale(0.11 -0.11)\">\r\n       <defs>\r\n        <path d=\"M 52.828125 31.203125 \r\nL 5.5625 31.203125 \r\nL 5.5625 39.40625 \r\nL 52.828125 39.40625 \r\nz\r\n\" id=\"ArialMT-8722\"/>\r\n       </defs>\r\n       <use xlink:href=\"#ArialMT-8722\"/>\r\n       <use x=\"58.398438\" xlink:href=\"#ArialMT-48\"/>\r\n       <use x=\"114.013672\" xlink:href=\"#ArialMT-46\"/>\r\n       <use x=\"141.796875\" xlink:href=\"#ArialMT-52\"/>\r\n      </g>\r\n     </g>\r\n    </g>\r\n    <g id=\"ytick_10\">\r\n     <g id=\"line2d_2\">\r\n      <g>\r\n       <use style=\"fill:#262626;stroke:#262626;stroke-width:1.25;\" x=\"430.161375\" xlink:href=\"#m6a6889ba69\" y=\"191.896563\"/>\r\n      </g>\r\n     </g>\r\n     <g id=\"text_83\">\r\n      <!-- −0.2 -->\r\n      <g style=\"fill:#262626;\" transform=\"translate(439.661375 195.833359)scale(0.11 -0.11)\">\r\n       <use xlink:href=\"#ArialMT-8722\"/>\r\n       <use x=\"58.398438\" xlink:href=\"#ArialMT-48\"/>\r\n       <use x=\"114.013672\" xlink:href=\"#ArialMT-46\"/>\r\n       <use x=\"141.796875\" xlink:href=\"#ArialMT-50\"/>\r\n      </g>\r\n     </g>\r\n    </g>\r\n    <g id=\"ytick_11\">\r\n     <g id=\"line2d_3\">\r\n      <g>\r\n       <use style=\"fill:#262626;stroke:#262626;stroke-width:1.25;\" x=\"430.161375\" xlink:href=\"#m6a6889ba69\" y=\"163.56974\"/>\r\n      </g>\r\n     </g>\r\n     <g id=\"text_84\">\r\n      <!-- 0.0 -->\r\n      <g style=\"fill:#262626;\" transform=\"translate(439.661375 167.506537)scale(0.11 -0.11)\">\r\n       <use xlink:href=\"#ArialMT-48\"/>\r\n       <use x=\"55.615234\" xlink:href=\"#ArialMT-46\"/>\r\n       <use x=\"83.398438\" xlink:href=\"#ArialMT-48\"/>\r\n      </g>\r\n     </g>\r\n    </g>\r\n    <g id=\"ytick_12\">\r\n     <g id=\"line2d_4\">\r\n      <g>\r\n       <use style=\"fill:#262626;stroke:#262626;stroke-width:1.25;\" x=\"430.161375\" xlink:href=\"#m6a6889ba69\" y=\"135.242917\"/>\r\n      </g>\r\n     </g>\r\n     <g id=\"text_85\">\r\n      <!-- 0.2 -->\r\n      <g style=\"fill:#262626;\" transform=\"translate(439.661375 139.179714)scale(0.11 -0.11)\">\r\n       <use xlink:href=\"#ArialMT-48\"/>\r\n       <use x=\"55.615234\" xlink:href=\"#ArialMT-46\"/>\r\n       <use x=\"83.398438\" xlink:href=\"#ArialMT-50\"/>\r\n      </g>\r\n     </g>\r\n    </g>\r\n    <g id=\"ytick_13\">\r\n     <g id=\"line2d_5\">\r\n      <g>\r\n       <use style=\"fill:#262626;stroke:#262626;stroke-width:1.25;\" x=\"430.161375\" xlink:href=\"#m6a6889ba69\" y=\"106.916094\"/>\r\n      </g>\r\n     </g>\r\n     <g id=\"text_86\">\r\n      <!-- 0.4 -->\r\n      <g style=\"fill:#262626;\" transform=\"translate(439.661375 110.852891)scale(0.11 -0.11)\">\r\n       <use xlink:href=\"#ArialMT-48\"/>\r\n       <use x=\"55.615234\" xlink:href=\"#ArialMT-46\"/>\r\n       <use x=\"83.398438\" xlink:href=\"#ArialMT-52\"/>\r\n      </g>\r\n     </g>\r\n    </g>\r\n    <g id=\"ytick_14\">\r\n     <g id=\"line2d_6\">\r\n      <g>\r\n       <use style=\"fill:#262626;stroke:#262626;stroke-width:1.25;\" x=\"430.161375\" xlink:href=\"#m6a6889ba69\" y=\"78.589271\"/>\r\n      </g>\r\n     </g>\r\n     <g id=\"text_87\">\r\n      <!-- 0.6 -->\r\n      <g style=\"fill:#262626;\" transform=\"translate(439.661375 82.526068)scale(0.11 -0.11)\">\r\n       <use xlink:href=\"#ArialMT-48\"/>\r\n       <use x=\"55.615234\" xlink:href=\"#ArialMT-46\"/>\r\n       <use x=\"83.398438\" xlink:href=\"#ArialMT-54\"/>\r\n      </g>\r\n     </g>\r\n    </g>\r\n    <g id=\"ytick_15\">\r\n     <g id=\"line2d_7\">\r\n      <g>\r\n       <use style=\"fill:#262626;stroke:#262626;stroke-width:1.25;\" x=\"430.161375\" xlink:href=\"#m6a6889ba69\" y=\"50.262448\"/>\r\n      </g>\r\n     </g>\r\n     <g id=\"text_88\">\r\n      <!-- 0.8 -->\r\n      <g style=\"fill:#262626;\" transform=\"translate(439.661375 54.199245)scale(0.11 -0.11)\">\r\n       <defs>\r\n        <path d=\"M 17.671875 38.8125 \r\nQ 12.203125 40.828125 9.5625 44.53125 \r\nQ 6.9375 48.25 6.9375 53.421875 \r\nQ 6.9375 61.234375 12.546875 66.546875 \r\nQ 18.171875 71.875 27.484375 71.875 \r\nQ 36.859375 71.875 42.578125 66.421875 \r\nQ 48.296875 60.984375 48.296875 53.171875 \r\nQ 48.296875 48.1875 45.671875 44.5 \r\nQ 43.0625 40.828125 37.75 38.8125 \r\nQ 44.34375 36.671875 47.78125 31.875 \r\nQ 51.21875 27.09375 51.21875 20.453125 \r\nQ 51.21875 11.28125 44.71875 5.03125 \r\nQ 38.234375 -1.21875 27.640625 -1.21875 \r\nQ 17.046875 -1.21875 10.546875 5.046875 \r\nQ 4.046875 11.328125 4.046875 20.703125 \r\nQ 4.046875 27.6875 7.59375 32.390625 \r\nQ 11.140625 37.109375 17.671875 38.8125 \r\nz\r\nM 15.921875 53.71875 \r\nQ 15.921875 48.640625 19.1875 45.40625 \r\nQ 22.46875 42.1875 27.6875 42.1875 \r\nQ 32.765625 42.1875 36.015625 45.375 \r\nQ 39.265625 48.578125 39.265625 53.21875 \r\nQ 39.265625 58.0625 35.90625 61.359375 \r\nQ 32.5625 64.65625 27.59375 64.65625 \r\nQ 22.5625 64.65625 19.234375 61.421875 \r\nQ 15.921875 58.203125 15.921875 53.71875 \r\nz\r\nM 13.09375 20.65625 \r\nQ 13.09375 16.890625 14.875 13.375 \r\nQ 16.65625 9.859375 20.171875 7.921875 \r\nQ 23.6875 6 27.734375 6 \r\nQ 34.03125 6 38.125 10.046875 \r\nQ 42.234375 14.109375 42.234375 20.359375 \r\nQ 42.234375 26.703125 38.015625 30.859375 \r\nQ 33.796875 35.015625 27.4375 35.015625 \r\nQ 21.234375 35.015625 17.15625 30.90625 \r\nQ 13.09375 26.8125 13.09375 20.65625 \r\nz\r\n\" id=\"ArialMT-56\"/>\r\n       </defs>\r\n       <use xlink:href=\"#ArialMT-48\"/>\r\n       <use x=\"55.615234\" xlink:href=\"#ArialMT-46\"/>\r\n       <use x=\"83.398438\" xlink:href=\"#ArialMT-56\"/>\r\n      </g>\r\n     </g>\r\n    </g>\r\n    <g id=\"ytick_16\">\r\n     <g id=\"line2d_8\">\r\n      <g>\r\n       <use style=\"fill:#262626;stroke:#262626;stroke-width:1.25;\" x=\"430.161375\" xlink:href=\"#m6a6889ba69\" y=\"21.935625\"/>\r\n      </g>\r\n     </g>\r\n     <g id=\"text_89\">\r\n      <!-- 1.0 -->\r\n      <g style=\"fill:#262626;\" transform=\"translate(439.661375 25.872422)scale(0.11 -0.11)\">\r\n       <use xlink:href=\"#ArialMT-49\"/>\r\n       <use x=\"55.615234\" xlink:href=\"#ArialMT-46\"/>\r\n       <use x=\"83.398438\" xlink:href=\"#ArialMT-48\"/>\r\n      </g>\r\n     </g>\r\n    </g>\r\n   </g>\r\n   <image height=\"217\" id=\"image8e9a73ab03\" transform=\"scale(1 -1)translate(0 -217)\" width=\"11\" x=\"419\" xlink:href=\"data:image/png;base64,\r\niVBORw0KGgoAAAANSUhEUgAAAAsAAADZCAYAAAD2WsoCAAABb0lEQVR4nO2XW67DMAhEAZNu7G6062xiu1vgXGkkErXfo9E8gLj+Hn/bir+MUYWaZYTXwccBwBFExmjBPAhzsjTuZxAxZxKDshFFzIMww7qBDI/ycls6YnYV80jErJLBciZpBDMIZMSv7v/KYA3qdpCcAidHxsCBTiPMTo65HUCGziBkVoGdpGFg7GApsjRYzq/6J1bZoG74ExhEdUMwSkMmQ5hGC4PuaDaSyNAZlDE/fvjBgyNtkLoRsw7Mcu5hkC0sGVEmA213j7ofPxv1S2C5N3jGL5uEeQGwARlCZgPMa/dIg2hGdQvTeH7dOhllrOXc4FWAmM+FmFUymME6MdQM01DJmDLmE2TXpm5hGjqDKjCS8SF162TcM40bzgYxiNJoYhCB2a1Dp2ASMGKWga8T/PWAMsrYNtGdwjRaDNJ1EYM9StHJiAu8zB1cmQxwGRnYETPRnCgNmUGkGTEPYhDJgGkQGbLoWBoyGbJB+gLZCvKwk68neAAAAABJRU5ErkJggg==\" y=\"-22\"/>\r\n   <g id=\"patch_4\">\r\n    <path d=\"M 419.289375 239.375625 \r\nL 419.289375 238.52625 \r\nL 419.289375 22.785 \r\nL 419.289375 21.935625 \r\nL 430.161375 21.935625 \r\nL 430.161375 22.785 \r\nL 430.161375 238.52625 \r\nL 430.161375 239.375625 \r\nz\r\n\" style=\"fill:none;\"/>\r\n   </g>\r\n  </g>\r\n </g>\r\n <defs>\r\n  <clipPath id=\"pfc239ba7e8\">\r\n   <rect height=\"217.44\" width=\"267.84\" x=\"134.709375\" y=\"21.935625\"/>\r\n  </clipPath>\r\n  <clipPath id=\"p1f73d55a0d\">\r\n   <rect height=\"217.44\" width=\"10.872\" x=\"419.289375\" y=\"21.935625\"/>\r\n  </clipPath>\r\n </defs>\r\n</svg>\r\n",
      "image/png": "[encoded data removed]"
     },
     "metadata": {}
    }
   ],
   "metadata": {}
  },
  {
   "cell_type": "markdown",
   "source": [
    "In review of the heatmap's first row, we find a few potential relations:\n",
    "- clinton and projected_max_per_cap\n",
    "- clinton and time_max_increase\n",
    "- clinton and total_cases_per_cap\n",
    "\n",
    "In the next section we will test if these are indeed significant predictors of clinton's voting percentage."
   ],
   "metadata": {}
  },
  {
   "cell_type": "markdown",
   "source": [
    "# Model Building"
   ],
   "metadata": {}
  },
  {
   "cell_type": "markdown",
   "source": [
    "Before performing our hypothesis tests, we made two dataframes out of the sum_pop_case_elec dataframe. The dataframes will either contain states won by clinton or by trump. Both dataframes will contain the variables of interest."
   ],
   "metadata": {}
  },
  {
   "cell_type": "code",
   "execution_count": 27,
   "source": [
    "sum_pop_case_elec_clinton= sum_pop_case_elec[(sum_pop_case_elec['clinton'] > 50)]\r\n",
    "\r\n",
    "sum_pop_case_elec_clinton.head()"
   ],
   "outputs": [
    {
     "output_type": "execute_result",
     "data": {
      "text/plain": [
       "    clinton  population  projected_max  projected_max_per_cap  \\\n",
       "4        62    39512223      3842270.0               0.097243   \n",
       "6        54     3565287       365924.0               0.102635   \n",
       "7        93      705749        52473.0               0.074351   \n",
       "8        53      973764       114180.0               0.117256   \n",
       "11       62     1415872        36842.0               0.026021   \n",
       "\n",
       "    time_max_increase  avg_rate_increase  total_cases  total_cases_per_cap  \n",
       "4          325.636517        6796.407207      3772006             0.095464  \n",
       "6          346.873194         633.387387       351530             0.098598  \n",
       "7          337.929916          89.834234        49858             0.070646  \n",
       "8          348.365867         199.102703       110502             0.113479  \n",
       "11         329.063202          71.439640        39649             0.028003  "
      ],
      "text/html": [
       "<div>\n",
       "<style scoped>\n",
       "    .dataframe tbody tr th:only-of-type {\n",
       "        vertical-align: middle;\n",
       "    }\n",
       "\n",
       "    .dataframe tbody tr th {\n",
       "        vertical-align: top;\n",
       "    }\n",
       "\n",
       "    .dataframe thead th {\n",
       "        text-align: right;\n",
       "    }\n",
       "</style>\n",
       "<table border=\"1\" class=\"dataframe\">\n",
       "  <thead>\n",
       "    <tr style=\"text-align: right;\">\n",
       "      <th></th>\n",
       "      <th>clinton</th>\n",
       "      <th>population</th>\n",
       "      <th>projected_max</th>\n",
       "      <th>projected_max_per_cap</th>\n",
       "      <th>time_max_increase</th>\n",
       "      <th>avg_rate_increase</th>\n",
       "      <th>total_cases</th>\n",
       "      <th>total_cases_per_cap</th>\n",
       "    </tr>\n",
       "  </thead>\n",
       "  <tbody>\n",
       "    <tr>\n",
       "      <th>4</th>\n",
       "      <td>62</td>\n",
       "      <td>39512223</td>\n",
       "      <td>3842270.0</td>\n",
       "      <td>0.097243</td>\n",
       "      <td>325.636517</td>\n",
       "      <td>6796.407207</td>\n",
       "      <td>3772006</td>\n",
       "      <td>0.095464</td>\n",
       "    </tr>\n",
       "    <tr>\n",
       "      <th>6</th>\n",
       "      <td>54</td>\n",
       "      <td>3565287</td>\n",
       "      <td>365924.0</td>\n",
       "      <td>0.102635</td>\n",
       "      <td>346.873194</td>\n",
       "      <td>633.387387</td>\n",
       "      <td>351530</td>\n",
       "      <td>0.098598</td>\n",
       "    </tr>\n",
       "    <tr>\n",
       "      <th>7</th>\n",
       "      <td>93</td>\n",
       "      <td>705749</td>\n",
       "      <td>52473.0</td>\n",
       "      <td>0.074351</td>\n",
       "      <td>337.929916</td>\n",
       "      <td>89.834234</td>\n",
       "      <td>49858</td>\n",
       "      <td>0.070646</td>\n",
       "    </tr>\n",
       "    <tr>\n",
       "      <th>8</th>\n",
       "      <td>53</td>\n",
       "      <td>973764</td>\n",
       "      <td>114180.0</td>\n",
       "      <td>0.117256</td>\n",
       "      <td>348.365867</td>\n",
       "      <td>199.102703</td>\n",
       "      <td>110502</td>\n",
       "      <td>0.113479</td>\n",
       "    </tr>\n",
       "    <tr>\n",
       "      <th>11</th>\n",
       "      <td>62</td>\n",
       "      <td>1415872</td>\n",
       "      <td>36842.0</td>\n",
       "      <td>0.026021</td>\n",
       "      <td>329.063202</td>\n",
       "      <td>71.439640</td>\n",
       "      <td>39649</td>\n",
       "      <td>0.028003</td>\n",
       "    </tr>\n",
       "  </tbody>\n",
       "</table>\n",
       "</div>"
      ]
     },
     "metadata": {},
     "execution_count": 27
    }
   ],
   "metadata": {}
  },
  {
   "cell_type": "code",
   "execution_count": 28,
   "source": [
    "sum_pop_case_elec_trump= sum_pop_case_elec[(sum_pop_case_elec['clinton'] < 50)]\r\n",
    "\r\n",
    "sum_pop_case_elec_trump.head()"
   ],
   "outputs": [
    {
     "output_type": "execute_result",
     "data": {
      "text/plain": [
       "   clinton  population  projected_max  projected_max_per_cap  \\\n",
       "0       38      731545        66762.0               0.091262   \n",
       "1       35     4903185       563927.0               0.115012   \n",
       "2       34     3017804       355632.0               0.117845   \n",
       "3       45     7278717       929619.0               0.127717   \n",
       "5       47     5758736       549237.0               0.095375   \n",
       "\n",
       "   time_max_increase  avg_rate_increase  total_cases  total_cases_per_cap  \n",
       "0         324.094779         126.717117        70328             0.096136  \n",
       "1         313.146175        1016.113514       563943             0.115016  \n",
       "2         315.169105         661.273874       367007             0.121614  \n",
       "3         325.236745        1642.306306       911480             0.125225  \n",
       "5         335.043854        1023.131532       567838             0.098605  "
      ],
      "text/html": [
       "<div>\n",
       "<style scoped>\n",
       "    .dataframe tbody tr th:only-of-type {\n",
       "        vertical-align: middle;\n",
       "    }\n",
       "\n",
       "    .dataframe tbody tr th {\n",
       "        vertical-align: top;\n",
       "    }\n",
       "\n",
       "    .dataframe thead th {\n",
       "        text-align: right;\n",
       "    }\n",
       "</style>\n",
       "<table border=\"1\" class=\"dataframe\">\n",
       "  <thead>\n",
       "    <tr style=\"text-align: right;\">\n",
       "      <th></th>\n",
       "      <th>clinton</th>\n",
       "      <th>population</th>\n",
       "      <th>projected_max</th>\n",
       "      <th>projected_max_per_cap</th>\n",
       "      <th>time_max_increase</th>\n",
       "      <th>avg_rate_increase</th>\n",
       "      <th>total_cases</th>\n",
       "      <th>total_cases_per_cap</th>\n",
       "    </tr>\n",
       "  </thead>\n",
       "  <tbody>\n",
       "    <tr>\n",
       "      <th>0</th>\n",
       "      <td>38</td>\n",
       "      <td>731545</td>\n",
       "      <td>66762.0</td>\n",
       "      <td>0.091262</td>\n",
       "      <td>324.094779</td>\n",
       "      <td>126.717117</td>\n",
       "      <td>70328</td>\n",
       "      <td>0.096136</td>\n",
       "    </tr>\n",
       "    <tr>\n",
       "      <th>1</th>\n",
       "      <td>35</td>\n",
       "      <td>4903185</td>\n",
       "      <td>563927.0</td>\n",
       "      <td>0.115012</td>\n",
       "      <td>313.146175</td>\n",
       "      <td>1016.113514</td>\n",
       "      <td>563943</td>\n",
       "      <td>0.115016</td>\n",
       "    </tr>\n",
       "    <tr>\n",
       "      <th>2</th>\n",
       "      <td>34</td>\n",
       "      <td>3017804</td>\n",
       "      <td>355632.0</td>\n",
       "      <td>0.117845</td>\n",
       "      <td>315.169105</td>\n",
       "      <td>661.273874</td>\n",
       "      <td>367007</td>\n",
       "      <td>0.121614</td>\n",
       "    </tr>\n",
       "    <tr>\n",
       "      <th>3</th>\n",
       "      <td>45</td>\n",
       "      <td>7278717</td>\n",
       "      <td>929619.0</td>\n",
       "      <td>0.127717</td>\n",
       "      <td>325.236745</td>\n",
       "      <td>1642.306306</td>\n",
       "      <td>911480</td>\n",
       "      <td>0.125225</td>\n",
       "    </tr>\n",
       "    <tr>\n",
       "      <th>5</th>\n",
       "      <td>47</td>\n",
       "      <td>5758736</td>\n",
       "      <td>549237.0</td>\n",
       "      <td>0.095375</td>\n",
       "      <td>335.043854</td>\n",
       "      <td>1023.131532</td>\n",
       "      <td>567838</td>\n",
       "      <td>0.098605</td>\n",
       "    </tr>\n",
       "  </tbody>\n",
       "</table>\n",
       "</div>"
      ]
     },
     "metadata": {},
     "execution_count": 28
    }
   ],
   "metadata": {}
  },
  {
   "cell_type": "markdown",
   "source": [
    "Now that we have established `sum_pop_case_elec_trump` and `sum_pop_case_elec_clinton`, we can move forward with our hypothesis tests."
   ],
   "metadata": {}
  },
  {
   "cell_type": "markdown",
   "source": [
    "In order to test if the correlations we found are statistically significant we conducted a difference of means test for all correlations noted above. We performed all hypothesis test performed we use the p = .05 siginficance level.\n",
    "\n",
    "- H0: There is no difference in the means between the projected_max_per_cap in states won by clinton or trump.\n",
    "- Ha: There is a difference in the means between the projected_max_per_cap in states won by clinton or trump. "
   ],
   "metadata": {}
  },
  {
   "cell_type": "code",
   "execution_count": 29,
   "source": [
    "trump_projected_max_per_cap= sum_pop_case_elec_trump['projected_max_per_cap']\r\n",
    "clinton_projected_max_per_cap= sum_pop_case_elec_clinton['projected_max_per_cap']\r\n",
    "\r\n",
    "\r\n",
    "ttest,pval = stats.ttest_ind( trump_projected_max_per_cap, clinton_projected_max_per_cap,equal_var=False)\r\n",
    "print(pval)\r\n",
    "\r\n",
    "if pval < .05:\r\n",
    "    print(\"reject null hypothesis\")\r\n",
    "else:\r\n",
    "    print(\"fail to reject the null hypthesis\")"
   ],
   "outputs": [
    {
     "output_type": "stream",
     "name": "stdout",
     "text": [
      "0.09362161599817309\n",
      "fail to reject the null hypthesis\n"
     ]
    }
   ],
   "metadata": {}
  },
  {
   "cell_type": "markdown",
   "source": [
    "At the p = .05 significance level, we fail to reject the null hypthesis. This means insufficient evidence of a difference between the means of the projected_max_per_cap for clinton won and trump won states. "
   ],
   "metadata": {}
  },
  {
   "cell_type": "markdown",
   "source": [
    "- H0: There is no difference in the means between the time_max_increase in states won by clinton or trump.\n",
    "- Ha: There is a difference in the means between the time_max_increase in states won by clinton or trump."
   ],
   "metadata": {}
  },
  {
   "cell_type": "code",
   "execution_count": 30,
   "source": [
    "trump_time_max_increase= sum_pop_case_elec_trump['time_max_increase']\r\n",
    "clinton_time_max_increase= sum_pop_case_elec_clinton['time_max_increase']\r\n",
    "\r\n",
    "ttest,pval = stats.ttest_ind(clinton_time_max_increase, trump_time_max_increase, equal_var= False)\r\n",
    "print(pval)\r\n",
    "\r\n",
    "if pval < .05:\r\n",
    "    print(\"reject null hypothesis\")\r\n",
    "else:\r\n",
    "    print(\"fail to reject the null hypthesis\")"
   ],
   "outputs": [
    {
     "output_type": "stream",
     "name": "stdout",
     "text": [
      "0.0007330504477416237\n",
      "reject null hypothesis\n"
     ]
    }
   ],
   "metadata": {}
  },
  {
   "cell_type": "markdown",
   "source": [
    "At the p = .05 significance level, we can reject the null hypthesis. We can conclude there is a difference between the means of the time_max_increase for clinton won and trump won states. Further investigation should be done to understand this difference. "
   ],
   "metadata": {}
  },
  {
   "cell_type": "markdown",
   "source": [
    "- H0: There is no difference in the means between the total_cases_per_cap in states won by clinton or trump.\n",
    "- Ha: There is a difference in the means between the total_cases_per_cap in states won by clinton or trump"
   ],
   "metadata": {}
  },
  {
   "cell_type": "code",
   "execution_count": 31,
   "source": [
    "trump_total_cases_per_cap= sum_pop_case_elec_trump['total_cases_per_cap']\r\n",
    "clinton_total_cases_per_cap= sum_pop_case_elec_clinton['total_cases_per_cap']\r\n",
    "\r\n",
    "ttest,pval = stats.ttest_ind( trump_total_cases_per_cap, clinton_total_cases_per_cap, equal_var= False )\r\n",
    "print(pval)\r\n",
    "\r\n",
    "if pval < .05:\r\n",
    "    print(\"reject null hypothesis\")\r\n",
    "else:\r\n",
    "    print(\"fail to reject the null hypthesis\")"
   ],
   "outputs": [
    {
     "output_type": "stream",
     "name": "stdout",
     "text": [
      "0.030804526973568423\n",
      "reject null hypothesis\n"
     ]
    }
   ],
   "metadata": {}
  },
  {
   "cell_type": "markdown",
   "source": [
    "At the p = .05 significance level, we can reject the null hypthesis. We can conclude there is a difference between the means of the total_cases_per_cap for clinton won and trump won states. Further investigation should be done to understand this difference."
   ],
   "metadata": {}
  },
  {
   "cell_type": "markdown",
   "source": [
    "# DataFrame Export to .CSV"
   ],
   "metadata": {}
  },
  {
   "cell_type": "markdown",
   "source": [
    "Export united dataframe as a .csv per project requirements"
   ],
   "metadata": {}
  },
  {
   "cell_type": "code",
   "execution_count": 32,
   "source": [
    "pop_case_elec.to_csv('../data/pop_case_elec.csv', index=False)"
   ],
   "outputs": [],
   "metadata": {}
  }
 ],
 "metadata": {
  "interpreter": {
   "hash": "21b5ecb08e182715d5424c7d407a79d153a74f6a1e10389f9f3f1d9179d740e8"
  },
  "kernelspec": {
   "name": "python3",
   "display_name": "Python 3.8.5 64-bit ('base': conda)"
  },
  "language_info": {
   "codemirror_mode": {
    "name": "ipython",
    "version": 3
   },
   "file_extension": ".py",
   "mimetype": "text/x-python",
   "name": "python",
   "nbconvert_exporter": "python",
   "pygments_lexer": "ipython3",
   "version": "3.8.5"
  }
 },
 "nbformat": 4,
 "nbformat_minor": 4
}