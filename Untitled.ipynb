{
 "cells": [
  {
   "cell_type": "markdown",
   "metadata": {},
   "source": [
    "# Corporate Tax Rates and the Largest Stock Exchanges"
   ]
  },
  {
   "cell_type": "markdown",
   "metadata": {},
   "source": [
    "Imports"
   ]
  },
  {
   "cell_type": "code",
   "execution_count": 1,
   "metadata": {},
   "outputs": [],
   "source": [
    "import pandas as pd\n",
    "import numpy as np\n",
    "import matplotlib.pyplot as plt"
   ]
  },
  {
   "cell_type": "markdown",
   "metadata": {},
   "source": [
    "Import key index from each countries largest stock exchange"
   ]
  },
  {
   "cell_type": "code",
   "execution_count": 3,
   "metadata": {},
   "outputs": [],
   "source": [
    "bse_index = pd.read_csv('BSE.index.bse.csv')\n",
    "ftse_index = pd.read_csv('FTSE.index.GBP.csv')\n",
    "gdaxi_index = pd.read_csv('GDAXI.index.eur.csv')\n",
    "gsptse_index = pd.read_csv('GSPTSE.composite.cad.csv')\n",
    "hsi_index = pd.read_csv('HSI.index.hkd.csv')\n",
    "kospi_index = pd.read_csv('KOSPI.composite.krw.csv')\n",
    "n225_index = pd.read_csv('N225.index.jpy.csv')\n",
    "nya_index = pd.read_csv('NYA.composite.usd.csv')\n",
    "sse_index = pd.read_csv('SSE.composite.csy.csv')\n",
    "ssmi_index = pd.read_csv('SSMI.index.chf.csv')"
   ]
  },
  {
   "cell_type": "markdown",
   "metadata": {},
   "source": [
    "Import corporate tax rates since 1980"
   ]
  },
  {
   "cell_type": "code",
   "execution_count": 5,
   "metadata": {},
   "outputs": [],
   "source": [
    "corporate_tax_rates = pd.read_excel('corporate.tax.rates.xlsx')"
   ]
  },
  {
   "cell_type": "markdown",
   "metadata": {},
   "source": [
    "Clean `coroporate_tax_rates` dataframe"
   ]
  },
  {
   "cell_type": "code",
   "execution_count": 6,
   "metadata": {},
   "outputs": [
    {
     "data": {
      "text/html": [
       "<div>\n",
       "<style scoped>\n",
       "    .dataframe tbody tr th:only-of-type {\n",
       "        vertical-align: middle;\n",
       "    }\n",
       "\n",
       "    .dataframe tbody tr th {\n",
       "        vertical-align: top;\n",
       "    }\n",
       "\n",
       "    .dataframe thead th {\n",
       "        text-align: right;\n",
       "    }\n",
       "</style>\n",
       "<table border=\"1\" class=\"dataframe\">\n",
       "  <thead>\n",
       "    <tr style=\"text-align: right;\">\n",
       "      <th></th>\n",
       "      <th>country</th>\n",
       "      <th>year</th>\n",
       "      <th>rate</th>\n",
       "      <th>gdp</th>\n",
       "    </tr>\n",
       "  </thead>\n",
       "  <tbody>\n",
       "    <tr>\n",
       "      <th>0</th>\n",
       "      <td>Aruba</td>\n",
       "      <td>1980</td>\n",
       "      <td>NaN</td>\n",
       "      <td>NaN</td>\n",
       "    </tr>\n",
       "    <tr>\n",
       "      <th>1</th>\n",
       "      <td>Aruba</td>\n",
       "      <td>1981</td>\n",
       "      <td>NaN</td>\n",
       "      <td>NaN</td>\n",
       "    </tr>\n",
       "    <tr>\n",
       "      <th>2</th>\n",
       "      <td>Aruba</td>\n",
       "      <td>1982</td>\n",
       "      <td>NaN</td>\n",
       "      <td>NaN</td>\n",
       "    </tr>\n",
       "    <tr>\n",
       "      <th>3</th>\n",
       "      <td>Aruba</td>\n",
       "      <td>1983</td>\n",
       "      <td>NaN</td>\n",
       "      <td>NaN</td>\n",
       "    </tr>\n",
       "    <tr>\n",
       "      <th>4</th>\n",
       "      <td>Aruba</td>\n",
       "      <td>1984</td>\n",
       "      <td>NaN</td>\n",
       "      <td>NaN</td>\n",
       "    </tr>\n",
       "  </tbody>\n",
       "</table>\n",
       "</div>"
      ],
      "text/plain": [
       "  country  year  rate  gdp\n",
       "0   Aruba  1980   NaN  NaN\n",
       "1   Aruba  1981   NaN  NaN\n",
       "2   Aruba  1982   NaN  NaN\n",
       "3   Aruba  1983   NaN  NaN\n",
       "4   Aruba  1984   NaN  NaN"
      ]
     },
     "execution_count": 6,
     "metadata": {},
     "output_type": "execute_result"
    }
   ],
   "source": [
    "corporate_tax_rates = corporate_tax_rates.drop(columns=['iso_2','iso_3','continent','oecd','eu27','gseven','gtwenty','brics'])\n",
    "\n",
    "corporate_tax_rates.head()"
   ]
  },
  {
   "cell_type": "markdown",
   "metadata": {},
   "source": [
    "Create a filtered dataframe for the countries we selected"
   ]
  },
  {
   "cell_type": "code",
   "execution_count": 7,
   "metadata": {},
   "outputs": [
    {
     "data": {
      "text/html": [
       "<div>\n",
       "<style scoped>\n",
       "    .dataframe tbody tr th:only-of-type {\n",
       "        vertical-align: middle;\n",
       "    }\n",
       "\n",
       "    .dataframe tbody tr th {\n",
       "        vertical-align: top;\n",
       "    }\n",
       "\n",
       "    .dataframe thead th {\n",
       "        text-align: right;\n",
       "    }\n",
       "</style>\n",
       "<table border=\"1\" class=\"dataframe\">\n",
       "  <thead>\n",
       "    <tr style=\"text-align: right;\">\n",
       "      <th></th>\n",
       "      <th>country</th>\n",
       "      <th>year</th>\n",
       "      <th>rate</th>\n",
       "      <th>gdp</th>\n",
       "    </tr>\n",
       "  </thead>\n",
       "  <tbody>\n",
       "    <tr>\n",
       "      <th>1640</th>\n",
       "      <td>Canada</td>\n",
       "      <td>1980</td>\n",
       "      <td>NaN</td>\n",
       "      <td>781.317688</td>\n",
       "    </tr>\n",
       "    <tr>\n",
       "      <th>1641</th>\n",
       "      <td>Canada</td>\n",
       "      <td>1981</td>\n",
       "      <td>50.92</td>\n",
       "      <td>808.688171</td>\n",
       "    </tr>\n",
       "    <tr>\n",
       "      <th>1642</th>\n",
       "      <td>Canada</td>\n",
       "      <td>1982</td>\n",
       "      <td>49.53</td>\n",
       "      <td>782.793823</td>\n",
       "    </tr>\n",
       "    <tr>\n",
       "      <th>1643</th>\n",
       "      <td>Canada</td>\n",
       "      <td>1983</td>\n",
       "      <td>48.27</td>\n",
       "      <td>803.135254</td>\n",
       "    </tr>\n",
       "    <tr>\n",
       "      <th>1644</th>\n",
       "      <td>Canada</td>\n",
       "      <td>1984</td>\n",
       "      <td>47.63</td>\n",
       "      <td>850.723816</td>\n",
       "    </tr>\n",
       "  </tbody>\n",
       "</table>\n",
       "</div>"
      ],
      "text/plain": [
       "     country  year   rate         gdp\n",
       "1640  Canada  1980    NaN  781.317688\n",
       "1641  Canada  1981  50.92  808.688171\n",
       "1642  Canada  1982  49.53  782.793823\n",
       "1643  Canada  1983  48.27  803.135254\n",
       "1644  Canada  1984  47.63  850.723816"
      ]
     },
     "execution_count": 7,
     "metadata": {},
     "output_type": "execute_result"
    }
   ],
   "source": [
    "country_list = ['United States of America','India','United Kingdom of Great Britain and Northern Ireland','Germany','Canada','China, Hong Kong Special Administrative Region','Republic of Korea','Japan','China','Switzerland']\n",
    "\n",
    "filtered_corporate_tax_rates = corporate_tax_rates[corporate_tax_rates['country'].isin(country_list)]\n",
    "\n",
    "filtered_corporate_tax_rates.head()\n"
   ]
  },
  {
   "cell_type": "code",
   "execution_count": null,
   "metadata": {},
   "outputs": [],
   "source": []
  }
 ],
 "metadata": {
  "kernelspec": {
   "display_name": "Python 3",
   "language": "python",
   "name": "python3"
  },
  "language_info": {
   "codemirror_mode": {
    "name": "ipython",
    "version": 3
   },
   "file_extension": ".py",
   "mimetype": "text/x-python",
   "name": "python",
   "nbconvert_exporter": "python",
   "pygments_lexer": "ipython3",
   "version": "3.8.5"
  }
 },
 "nbformat": 4,
 "nbformat_minor": 4
}
