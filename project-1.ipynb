{
 "cells": [
  {
   "cell_type": "markdown",
   "metadata": {},
   "source": [
    "# Comparing COVID-19 Cases with Election Results"
   ]
  },
  {
   "cell_type": "markdown",
   "metadata": {},
   "source": [
    "# Todo\n",
    "## Needed\n",
    "- hypothesis tests\n",
    "- check comments to make sure they still make sense\n",
    "\n",
    "## Nice To Have\n",
    "- perform usual tests required before regression\n",
    "- describe regression results with accurate language"
   ]
  },
  {
   "cell_type": "markdown",
   "metadata": {},
   "source": [
    "# ETL"
   ]
  },
  {
   "cell_type": "markdown",
   "metadata": {},
   "source": [
    "### Import Utils"
   ]
  },
  {
   "cell_type": "code",
   "execution_count": 1,
   "metadata": {},
   "outputs": [],
   "source": [
    "import math\n",
    "import scipy\n",
    "import pandas  as pd\n",
    "import numpy   as np\n",
    "import seaborn as sns\n",
    "import matplotlib.pyplot as plt\n",
    "from scipy import stats\n",
    "import statsmodels.api as sm\n",
    "import pylab as py"
   ]
  },
  {
   "cell_type": "markdown",
   "metadata": {},
   "source": [
    "### Import Data"
   ]
  },
  {
   "cell_type": "markdown",
   "metadata": {},
   "source": [
    "Below are the `covid_confirmed_usafacts`, `npr-2016-election-data`, and `covid_county_population_usafacts` datasets used for our analysis. "
   ]
  },
  {
   "cell_type": "code",
   "execution_count": 2,
   "metadata": {},
   "outputs": [],
   "source": [
    "covid_confirmed_facts    = pd.read_csv('covid_confirmed_usafacts.csv')\n",
    "election_data            = pd.read_csv('npr-2016-election-data.csv')\n",
    "covid_county_population  = pd.read_csv('covid_county_population_usafacts.csv')"
   ]
  },
  {
   "cell_type": "markdown",
   "metadata": {},
   "source": [
    "### Covid Cases Data Quality Check\n",
    "After import we take a peek at the top few rows of our covid cases data in the `covid_confirmed_facts` dataframe. "
   ]
  },
  {
   "cell_type": "code",
   "execution_count": 3,
   "metadata": {},
   "outputs": [
    {
     "data": {
      "text/html": [
       "<div>\n",
       "<style scoped>\n",
       "    .dataframe tbody tr th:only-of-type {\n",
       "        vertical-align: middle;\n",
       "    }\n",
       "\n",
       "    .dataframe tbody tr th {\n",
       "        vertical-align: top;\n",
       "    }\n",
       "\n",
       "    .dataframe thead th {\n",
       "        text-align: right;\n",
       "    }\n",
       "</style>\n",
       "<table border=\"1\" class=\"dataframe\">\n",
       "  <thead>\n",
       "    <tr style=\"text-align: right;\">\n",
       "      <th></th>\n",
       "      <th>countyFIPS</th>\n",
       "      <th>County Name</th>\n",
       "      <th>State</th>\n",
       "      <th>StateFIPS</th>\n",
       "      <th>2020-01-22</th>\n",
       "      <th>2020-01-23</th>\n",
       "      <th>2020-01-24</th>\n",
       "      <th>2020-01-25</th>\n",
       "      <th>2020-01-26</th>\n",
       "      <th>2020-01-27</th>\n",
       "      <th>...</th>\n",
       "      <th>2021-07-12</th>\n",
       "      <th>2021-07-13</th>\n",
       "      <th>2021-07-14</th>\n",
       "      <th>2021-07-15</th>\n",
       "      <th>2021-07-16</th>\n",
       "      <th>2021-07-17</th>\n",
       "      <th>2021-07-18</th>\n",
       "      <th>2021-07-19</th>\n",
       "      <th>2021-07-20</th>\n",
       "      <th>2021-07-21</th>\n",
       "    </tr>\n",
       "  </thead>\n",
       "  <tbody>\n",
       "    <tr>\n",
       "      <th>0</th>\n",
       "      <td>0</td>\n",
       "      <td>Statewide Unallocated</td>\n",
       "      <td>AL</td>\n",
       "      <td>1</td>\n",
       "      <td>0</td>\n",
       "      <td>0</td>\n",
       "      <td>0</td>\n",
       "      <td>0</td>\n",
       "      <td>0</td>\n",
       "      <td>0</td>\n",
       "      <td>...</td>\n",
       "      <td>0</td>\n",
       "      <td>0</td>\n",
       "      <td>0</td>\n",
       "      <td>0</td>\n",
       "      <td>0</td>\n",
       "      <td>0</td>\n",
       "      <td>0</td>\n",
       "      <td>0</td>\n",
       "      <td>0</td>\n",
       "      <td>0</td>\n",
       "    </tr>\n",
       "    <tr>\n",
       "      <th>1</th>\n",
       "      <td>1001</td>\n",
       "      <td>Autauga County</td>\n",
       "      <td>AL</td>\n",
       "      <td>1</td>\n",
       "      <td>0</td>\n",
       "      <td>0</td>\n",
       "      <td>0</td>\n",
       "      <td>0</td>\n",
       "      <td>0</td>\n",
       "      <td>0</td>\n",
       "      <td>...</td>\n",
       "      <td>7306</td>\n",
       "      <td>7306</td>\n",
       "      <td>7320</td>\n",
       "      <td>7329</td>\n",
       "      <td>7341</td>\n",
       "      <td>7346</td>\n",
       "      <td>7347</td>\n",
       "      <td>7350</td>\n",
       "      <td>7365</td>\n",
       "      <td>7375</td>\n",
       "    </tr>\n",
       "    <tr>\n",
       "      <th>2</th>\n",
       "      <td>1003</td>\n",
       "      <td>Baldwin County</td>\n",
       "      <td>AL</td>\n",
       "      <td>1</td>\n",
       "      <td>0</td>\n",
       "      <td>0</td>\n",
       "      <td>0</td>\n",
       "      <td>0</td>\n",
       "      <td>0</td>\n",
       "      <td>0</td>\n",
       "      <td>...</td>\n",
       "      <td>22337</td>\n",
       "      <td>22337</td>\n",
       "      <td>22464</td>\n",
       "      <td>22556</td>\n",
       "      <td>22642</td>\n",
       "      <td>22734</td>\n",
       "      <td>22802</td>\n",
       "      <td>22876</td>\n",
       "      <td>23032</td>\n",
       "      <td>23184</td>\n",
       "    </tr>\n",
       "    <tr>\n",
       "      <th>3</th>\n",
       "      <td>1005</td>\n",
       "      <td>Barbour County</td>\n",
       "      <td>AL</td>\n",
       "      <td>1</td>\n",
       "      <td>0</td>\n",
       "      <td>0</td>\n",
       "      <td>0</td>\n",
       "      <td>0</td>\n",
       "      <td>0</td>\n",
       "      <td>0</td>\n",
       "      <td>...</td>\n",
       "      <td>2367</td>\n",
       "      <td>2367</td>\n",
       "      <td>2373</td>\n",
       "      <td>2377</td>\n",
       "      <td>2386</td>\n",
       "      <td>2389</td>\n",
       "      <td>2394</td>\n",
       "      <td>2396</td>\n",
       "      <td>2411</td>\n",
       "      <td>2415</td>\n",
       "    </tr>\n",
       "    <tr>\n",
       "      <th>4</th>\n",
       "      <td>1007</td>\n",
       "      <td>Bibb County</td>\n",
       "      <td>AL</td>\n",
       "      <td>1</td>\n",
       "      <td>0</td>\n",
       "      <td>0</td>\n",
       "      <td>0</td>\n",
       "      <td>0</td>\n",
       "      <td>0</td>\n",
       "      <td>0</td>\n",
       "      <td>...</td>\n",
       "      <td>2704</td>\n",
       "      <td>2704</td>\n",
       "      <td>2708</td>\n",
       "      <td>2713</td>\n",
       "      <td>2719</td>\n",
       "      <td>2721</td>\n",
       "      <td>2727</td>\n",
       "      <td>2733</td>\n",
       "      <td>2747</td>\n",
       "      <td>2753</td>\n",
       "    </tr>\n",
       "  </tbody>\n",
       "</table>\n",
       "<p>5 rows × 551 columns</p>\n",
       "</div>"
      ],
      "text/plain": [
       "   countyFIPS            County Name State  StateFIPS  2020-01-22  2020-01-23  \\\n",
       "0           0  Statewide Unallocated    AL          1           0           0   \n",
       "1        1001        Autauga County     AL          1           0           0   \n",
       "2        1003        Baldwin County     AL          1           0           0   \n",
       "3        1005        Barbour County     AL          1           0           0   \n",
       "4        1007           Bibb County     AL          1           0           0   \n",
       "\n",
       "   2020-01-24  2020-01-25  2020-01-26  2020-01-27  ...  2021-07-12  \\\n",
       "0           0           0           0           0  ...           0   \n",
       "1           0           0           0           0  ...        7306   \n",
       "2           0           0           0           0  ...       22337   \n",
       "3           0           0           0           0  ...        2367   \n",
       "4           0           0           0           0  ...        2704   \n",
       "\n",
       "   2021-07-13  2021-07-14  2021-07-15  2021-07-16  2021-07-17  2021-07-18  \\\n",
       "0           0           0           0           0           0           0   \n",
       "1        7306        7320        7329        7341        7346        7347   \n",
       "2       22337       22464       22556       22642       22734       22802   \n",
       "3        2367        2373        2377        2386        2389        2394   \n",
       "4        2704        2708        2713        2719        2721        2727   \n",
       "\n",
       "   2021-07-19  2021-07-20  2021-07-21  \n",
       "0           0           0           0  \n",
       "1        7350        7365        7375  \n",
       "2       22876       23032       23184  \n",
       "3        2396        2411        2415  \n",
       "4        2733        2747        2753  \n",
       "\n",
       "[5 rows x 551 columns]"
      ]
     },
     "execution_count": 3,
     "metadata": {},
     "output_type": "execute_result"
    }
   ],
   "source": [
    "covid_confirmed_facts.head()"
   ]
  },
  {
   "cell_type": "code",
   "execution_count": 4,
   "metadata": {},
   "outputs": [
    {
     "data": {
      "text/plain": [
       "countyFIPS     0\n",
       "County Name    0\n",
       "State          0\n",
       "StateFIPS      0\n",
       "2020-01-22     0\n",
       "              ..\n",
       "2021-07-17     0\n",
       "2021-07-18     0\n",
       "2021-07-19     0\n",
       "2021-07-20     0\n",
       "2021-07-21     0\n",
       "Length: 551, dtype: int64"
      ]
     },
     "execution_count": 4,
     "metadata": {},
     "output_type": "execute_result"
    }
   ],
   "source": [
    "covid_confirmed_facts.isnull().sum()"
   ]
  },
  {
   "cell_type": "markdown",
   "metadata": {},
   "source": [
    "We see that the expected columns and data appear to have been imported correctly in the first output and that there are no missing values in the second. We will not need to fill in any data."
   ]
  },
  {
   "cell_type": "markdown",
   "metadata": {},
   "source": [
    "### Population Data Quality Check\n",
    "Just as we had with the cases data we take a look at our population data in the `covid_county_population` dataframe."
   ]
  },
  {
   "cell_type": "code",
   "execution_count": 5,
   "metadata": {},
   "outputs": [
    {
     "data": {
      "text/html": [
       "<div>\n",
       "<style scoped>\n",
       "    .dataframe tbody tr th:only-of-type {\n",
       "        vertical-align: middle;\n",
       "    }\n",
       "\n",
       "    .dataframe tbody tr th {\n",
       "        vertical-align: top;\n",
       "    }\n",
       "\n",
       "    .dataframe thead th {\n",
       "        text-align: right;\n",
       "    }\n",
       "</style>\n",
       "<table border=\"1\" class=\"dataframe\">\n",
       "  <thead>\n",
       "    <tr style=\"text-align: right;\">\n",
       "      <th></th>\n",
       "      <th>countyFIPS</th>\n",
       "      <th>County Name</th>\n",
       "      <th>State</th>\n",
       "      <th>population</th>\n",
       "    </tr>\n",
       "  </thead>\n",
       "  <tbody>\n",
       "    <tr>\n",
       "      <th>0</th>\n",
       "      <td>0</td>\n",
       "      <td>Statewide Unallocated</td>\n",
       "      <td>AL</td>\n",
       "      <td>0</td>\n",
       "    </tr>\n",
       "    <tr>\n",
       "      <th>1</th>\n",
       "      <td>1001</td>\n",
       "      <td>Autauga County</td>\n",
       "      <td>AL</td>\n",
       "      <td>55869</td>\n",
       "    </tr>\n",
       "    <tr>\n",
       "      <th>2</th>\n",
       "      <td>1003</td>\n",
       "      <td>Baldwin County</td>\n",
       "      <td>AL</td>\n",
       "      <td>223234</td>\n",
       "    </tr>\n",
       "    <tr>\n",
       "      <th>3</th>\n",
       "      <td>1005</td>\n",
       "      <td>Barbour County</td>\n",
       "      <td>AL</td>\n",
       "      <td>24686</td>\n",
       "    </tr>\n",
       "    <tr>\n",
       "      <th>4</th>\n",
       "      <td>1007</td>\n",
       "      <td>Bibb County</td>\n",
       "      <td>AL</td>\n",
       "      <td>22394</td>\n",
       "    </tr>\n",
       "  </tbody>\n",
       "</table>\n",
       "</div>"
      ],
      "text/plain": [
       "   countyFIPS            County Name State  population\n",
       "0           0  Statewide Unallocated    AL           0\n",
       "1        1001         Autauga County    AL       55869\n",
       "2        1003         Baldwin County    AL      223234\n",
       "3        1005         Barbour County    AL       24686\n",
       "4        1007            Bibb County    AL       22394"
      ]
     },
     "execution_count": 5,
     "metadata": {},
     "output_type": "execute_result"
    }
   ],
   "source": [
    "covid_county_population.head()"
   ]
  },
  {
   "cell_type": "code",
   "execution_count": 6,
   "metadata": {},
   "outputs": [
    {
     "data": {
      "text/plain": [
       "countyFIPS     0\n",
       "County Name    0\n",
       "State          0\n",
       "population     0\n",
       "dtype: int64"
      ]
     },
     "execution_count": 6,
     "metadata": {},
     "output_type": "execute_result"
    }
   ],
   "source": [
    "covid_county_population.isnull().sum()"
   ]
  },
  {
   "cell_type": "markdown",
   "metadata": {},
   "source": [
    "As with the case data, the columns appear to be correct and there are now missing values."
   ]
  },
  {
   "cell_type": "markdown",
   "metadata": {},
   "source": [
    "### Election Data Quality Check"
   ]
  },
  {
   "cell_type": "markdown",
   "metadata": {},
   "source": [
    "Finally we check our election data in the `election_data` dataframe."
   ]
  },
  {
   "cell_type": "code",
   "execution_count": 7,
   "metadata": {},
   "outputs": [
    {
     "data": {
      "text/html": [
       "<div>\n",
       "<style scoped>\n",
       "    .dataframe tbody tr th:only-of-type {\n",
       "        vertical-align: middle;\n",
       "    }\n",
       "\n",
       "    .dataframe tbody tr th {\n",
       "        vertical-align: top;\n",
       "    }\n",
       "\n",
       "    .dataframe thead th {\n",
       "        text-align: right;\n",
       "    }\n",
       "</style>\n",
       "<table border=\"1\" class=\"dataframe\">\n",
       "  <thead>\n",
       "    <tr style=\"text-align: right;\">\n",
       "      <th></th>\n",
       "      <th>State</th>\n",
       "      <th>Clinton</th>\n",
       "      <th>Trump</th>\n",
       "    </tr>\n",
       "  </thead>\n",
       "  <tbody>\n",
       "    <tr>\n",
       "      <th>0</th>\n",
       "      <td>AK</td>\n",
       "      <td>38</td>\n",
       "      <td>53</td>\n",
       "    </tr>\n",
       "    <tr>\n",
       "      <th>1</th>\n",
       "      <td>AL</td>\n",
       "      <td>35</td>\n",
       "      <td>63</td>\n",
       "    </tr>\n",
       "    <tr>\n",
       "      <th>2</th>\n",
       "      <td>AR</td>\n",
       "      <td>34</td>\n",
       "      <td>60</td>\n",
       "    </tr>\n",
       "    <tr>\n",
       "      <th>3</th>\n",
       "      <td>AZ</td>\n",
       "      <td>45</td>\n",
       "      <td>50</td>\n",
       "    </tr>\n",
       "    <tr>\n",
       "      <th>4</th>\n",
       "      <td>CA</td>\n",
       "      <td>62</td>\n",
       "      <td>33</td>\n",
       "    </tr>\n",
       "  </tbody>\n",
       "</table>\n",
       "</div>"
      ],
      "text/plain": [
       "  State  Clinton  Trump\n",
       "0    AK       38     53\n",
       "1    AL       35     63\n",
       "2    AR       34     60\n",
       "3    AZ       45     50\n",
       "4    CA       62     33"
      ]
     },
     "execution_count": 7,
     "metadata": {},
     "output_type": "execute_result"
    }
   ],
   "source": [
    "election_data.head()"
   ]
  },
  {
   "cell_type": "code",
   "execution_count": 8,
   "metadata": {},
   "outputs": [
    {
     "data": {
      "text/plain": [
       "State      0\n",
       "Clinton    0\n",
       "Trump      0\n",
       "dtype: int64"
      ]
     },
     "execution_count": 8,
     "metadata": {},
     "output_type": "execute_result"
    }
   ],
   "source": [
    "election_data.isnull().sum()"
   ]
  },
  {
   "cell_type": "markdown",
   "metadata": {},
   "source": [
    "After looking at the top few rows of each table and taking the sum of all missing values per column we can see that the data has been imported correctly. We also won't need to perform any kind of data fill since there are no missing values."
   ]
  },
  {
   "cell_type": "markdown",
   "metadata": {},
   "source": [
    "# Data Preperation "
   ]
  },
  {
   "cell_type": "markdown",
   "metadata": {},
   "source": [
    "### Aggregate Cases by State"
   ]
  },
  {
   "cell_type": "markdown",
   "metadata": {},
   "source": [
    "We now drop the `County Name`, `countyFIPS` and `StateFIPS` columns from `covid_confirmed_facts` since they will not be used in our analysis (as it focuses on state only). Once these columns were dropped, we aggregate the covid case data that was by county by state. We name our new aggregated dataframe as `covid_state_cases` since these are now the number of total cummulative cases by state."
   ]
  },
  {
   "cell_type": "code",
   "execution_count": 9,
   "metadata": {},
   "outputs": [
    {
     "data": {
      "text/html": [
       "<div>\n",
       "<style scoped>\n",
       "    .dataframe tbody tr th:only-of-type {\n",
       "        vertical-align: middle;\n",
       "    }\n",
       "\n",
       "    .dataframe tbody tr th {\n",
       "        vertical-align: top;\n",
       "    }\n",
       "\n",
       "    .dataframe thead th {\n",
       "        text-align: right;\n",
       "    }\n",
       "</style>\n",
       "<table border=\"1\" class=\"dataframe\">\n",
       "  <thead>\n",
       "    <tr style=\"text-align: right;\">\n",
       "      <th></th>\n",
       "      <th>2020-01-22</th>\n",
       "      <th>2020-01-23</th>\n",
       "      <th>2020-01-24</th>\n",
       "      <th>2020-01-25</th>\n",
       "      <th>2020-01-26</th>\n",
       "      <th>2020-01-27</th>\n",
       "      <th>2020-01-28</th>\n",
       "      <th>2020-01-29</th>\n",
       "      <th>2020-01-30</th>\n",
       "      <th>2020-01-31</th>\n",
       "      <th>...</th>\n",
       "      <th>2021-07-12</th>\n",
       "      <th>2021-07-13</th>\n",
       "      <th>2021-07-14</th>\n",
       "      <th>2021-07-15</th>\n",
       "      <th>2021-07-16</th>\n",
       "      <th>2021-07-17</th>\n",
       "      <th>2021-07-18</th>\n",
       "      <th>2021-07-19</th>\n",
       "      <th>2021-07-20</th>\n",
       "      <th>2021-07-21</th>\n",
       "    </tr>\n",
       "    <tr>\n",
       "      <th>State</th>\n",
       "      <th></th>\n",
       "      <th></th>\n",
       "      <th></th>\n",
       "      <th></th>\n",
       "      <th></th>\n",
       "      <th></th>\n",
       "      <th></th>\n",
       "      <th></th>\n",
       "      <th></th>\n",
       "      <th></th>\n",
       "      <th></th>\n",
       "      <th></th>\n",
       "      <th></th>\n",
       "      <th></th>\n",
       "      <th></th>\n",
       "      <th></th>\n",
       "      <th></th>\n",
       "      <th></th>\n",
       "      <th></th>\n",
       "      <th></th>\n",
       "      <th></th>\n",
       "    </tr>\n",
       "  </thead>\n",
       "  <tbody>\n",
       "    <tr>\n",
       "      <th>AK</th>\n",
       "      <td>0</td>\n",
       "      <td>0</td>\n",
       "      <td>0</td>\n",
       "      <td>0</td>\n",
       "      <td>0</td>\n",
       "      <td>0</td>\n",
       "      <td>0</td>\n",
       "      <td>0</td>\n",
       "      <td>0</td>\n",
       "      <td>0</td>\n",
       "      <td>...</td>\n",
       "      <td>68977</td>\n",
       "      <td>68977</td>\n",
       "      <td>69189</td>\n",
       "      <td>69189</td>\n",
       "      <td>69453</td>\n",
       "      <td>69453</td>\n",
       "      <td>69453</td>\n",
       "      <td>69891</td>\n",
       "      <td>69891</td>\n",
       "      <td>70328</td>\n",
       "    </tr>\n",
       "    <tr>\n",
       "      <th>AL</th>\n",
       "      <td>0</td>\n",
       "      <td>0</td>\n",
       "      <td>0</td>\n",
       "      <td>0</td>\n",
       "      <td>0</td>\n",
       "      <td>0</td>\n",
       "      <td>0</td>\n",
       "      <td>0</td>\n",
       "      <td>0</td>\n",
       "      <td>0</td>\n",
       "      <td>...</td>\n",
       "      <td>555215</td>\n",
       "      <td>555215</td>\n",
       "      <td>556613</td>\n",
       "      <td>557578</td>\n",
       "      <td>558577</td>\n",
       "      <td>559478</td>\n",
       "      <td>560202</td>\n",
       "      <td>560920</td>\n",
       "      <td>562311</td>\n",
       "      <td>563943</td>\n",
       "    </tr>\n",
       "    <tr>\n",
       "      <th>AR</th>\n",
       "      <td>0</td>\n",
       "      <td>0</td>\n",
       "      <td>0</td>\n",
       "      <td>0</td>\n",
       "      <td>0</td>\n",
       "      <td>0</td>\n",
       "      <td>0</td>\n",
       "      <td>0</td>\n",
       "      <td>0</td>\n",
       "      <td>0</td>\n",
       "      <td>...</td>\n",
       "      <td>355460</td>\n",
       "      <td>358951</td>\n",
       "      <td>360259</td>\n",
       "      <td>361238</td>\n",
       "      <td>361238</td>\n",
       "      <td>361238</td>\n",
       "      <td>361238</td>\n",
       "      <td>365132</td>\n",
       "      <td>367007</td>\n",
       "      <td>367007</td>\n",
       "    </tr>\n",
       "    <tr>\n",
       "      <th>AZ</th>\n",
       "      <td>0</td>\n",
       "      <td>0</td>\n",
       "      <td>0</td>\n",
       "      <td>0</td>\n",
       "      <td>1</td>\n",
       "      <td>1</td>\n",
       "      <td>1</td>\n",
       "      <td>1</td>\n",
       "      <td>1</td>\n",
       "      <td>1</td>\n",
       "      <td>...</td>\n",
       "      <td>901562</td>\n",
       "      <td>901907</td>\n",
       "      <td>903852</td>\n",
       "      <td>904866</td>\n",
       "      <td>906117</td>\n",
       "      <td>906117</td>\n",
       "      <td>906117</td>\n",
       "      <td>909283</td>\n",
       "      <td>910437</td>\n",
       "      <td>911480</td>\n",
       "    </tr>\n",
       "    <tr>\n",
       "      <th>CA</th>\n",
       "      <td>0</td>\n",
       "      <td>0</td>\n",
       "      <td>0</td>\n",
       "      <td>0</td>\n",
       "      <td>2</td>\n",
       "      <td>3</td>\n",
       "      <td>3</td>\n",
       "      <td>4</td>\n",
       "      <td>4</td>\n",
       "      <td>4</td>\n",
       "      <td>...</td>\n",
       "      <td>3736534</td>\n",
       "      <td>3736534</td>\n",
       "      <td>3739625</td>\n",
       "      <td>3743242</td>\n",
       "      <td>3747897</td>\n",
       "      <td>3747897</td>\n",
       "      <td>3747897</td>\n",
       "      <td>3761997</td>\n",
       "      <td>3766720</td>\n",
       "      <td>3772006</td>\n",
       "    </tr>\n",
       "  </tbody>\n",
       "</table>\n",
       "<p>5 rows × 547 columns</p>\n",
       "</div>"
      ],
      "text/plain": [
       "       2020-01-22  2020-01-23  2020-01-24  2020-01-25  2020-01-26  2020-01-27  \\\n",
       "State                                                                           \n",
       "AK              0           0           0           0           0           0   \n",
       "AL              0           0           0           0           0           0   \n",
       "AR              0           0           0           0           0           0   \n",
       "AZ              0           0           0           0           1           1   \n",
       "CA              0           0           0           0           2           3   \n",
       "\n",
       "       2020-01-28  2020-01-29  2020-01-30  2020-01-31  ...  2021-07-12  \\\n",
       "State                                                  ...               \n",
       "AK              0           0           0           0  ...       68977   \n",
       "AL              0           0           0           0  ...      555215   \n",
       "AR              0           0           0           0  ...      355460   \n",
       "AZ              1           1           1           1  ...      901562   \n",
       "CA              3           4           4           4  ...     3736534   \n",
       "\n",
       "       2021-07-13  2021-07-14  2021-07-15  2021-07-16  2021-07-17  2021-07-18  \\\n",
       "State                                                                           \n",
       "AK          68977       69189       69189       69453       69453       69453   \n",
       "AL         555215      556613      557578      558577      559478      560202   \n",
       "AR         358951      360259      361238      361238      361238      361238   \n",
       "AZ         901907      903852      904866      906117      906117      906117   \n",
       "CA        3736534     3739625     3743242     3747897     3747897     3747897   \n",
       "\n",
       "       2021-07-19  2021-07-20  2021-07-21  \n",
       "State                                      \n",
       "AK          69891       69891       70328  \n",
       "AL         560920      562311      563943  \n",
       "AR         365132      367007      367007  \n",
       "AZ         909283      910437      911480  \n",
       "CA        3761997     3766720     3772006  \n",
       "\n",
       "[5 rows x 547 columns]"
      ]
     },
     "execution_count": 9,
     "metadata": {},
     "output_type": "execute_result"
    }
   ],
   "source": [
    "covid_confirmed_facts = covid_confirmed_facts.drop(columns=['County Name', 'countyFIPS', 'StateFIPS'])\n",
    "\n",
    "covid_state_cases = covid_confirmed_facts.groupby('State').sum()\n",
    "\n",
    "covid_state_cases.head()"
   ]
  },
  {
   "cell_type": "markdown",
   "metadata": {},
   "source": [
    "The output shows the sum of all cases in a given state up to the date. This will work well for our state based analysis."
   ]
  },
  {
   "cell_type": "markdown",
   "metadata": {},
   "source": [
    "### Aggregate Populations by State"
   ]
  },
  {
   "cell_type": "markdown",
   "metadata": {},
   "source": [
    "Similarly, for our `covid_county_population` dataframe we drop the county related columns `countyFIPS` and `County Name`. We then aggregate populations by state."
   ]
  },
  {
   "cell_type": "code",
   "execution_count": 10,
   "metadata": {},
   "outputs": [
    {
     "data": {
      "text/html": [
       "<div>\n",
       "<style scoped>\n",
       "    .dataframe tbody tr th:only-of-type {\n",
       "        vertical-align: middle;\n",
       "    }\n",
       "\n",
       "    .dataframe tbody tr th {\n",
       "        vertical-align: top;\n",
       "    }\n",
       "\n",
       "    .dataframe thead th {\n",
       "        text-align: right;\n",
       "    }\n",
       "</style>\n",
       "<table border=\"1\" class=\"dataframe\">\n",
       "  <thead>\n",
       "    <tr style=\"text-align: right;\">\n",
       "      <th></th>\n",
       "      <th>population</th>\n",
       "    </tr>\n",
       "    <tr>\n",
       "      <th>State</th>\n",
       "      <th></th>\n",
       "    </tr>\n",
       "  </thead>\n",
       "  <tbody>\n",
       "    <tr>\n",
       "      <th>AK</th>\n",
       "      <td>731545</td>\n",
       "    </tr>\n",
       "    <tr>\n",
       "      <th>AL</th>\n",
       "      <td>4903185</td>\n",
       "    </tr>\n",
       "    <tr>\n",
       "      <th>AR</th>\n",
       "      <td>3017804</td>\n",
       "    </tr>\n",
       "    <tr>\n",
       "      <th>AZ</th>\n",
       "      <td>7278717</td>\n",
       "    </tr>\n",
       "    <tr>\n",
       "      <th>CA</th>\n",
       "      <td>39512223</td>\n",
       "    </tr>\n",
       "  </tbody>\n",
       "</table>\n",
       "</div>"
      ],
      "text/plain": [
       "       population\n",
       "State            \n",
       "AK         731545\n",
       "AL        4903185\n",
       "AR        3017804\n",
       "AZ        7278717\n",
       "CA       39512223"
      ]
     },
     "execution_count": 10,
     "metadata": {},
     "output_type": "execute_result"
    }
   ],
   "source": [
    "covid_county_population = covid_county_population.drop(columns=['countyFIPS', 'County Name'])\n",
    "\n",
    "covid_state_population = covid_county_population.groupby('State').sum()\n",
    "\n",
    "covid_state_population.head()"
   ]
  },
  {
   "cell_type": "markdown",
   "metadata": {},
   "source": [
    "The output shows a series with a key for each state and the population of each, we can now use this in our states analysis for per capita values. "
   ]
  },
  {
   "cell_type": "markdown",
   "metadata": {},
   "source": [
    "### Merge Data Sets"
   ]
  },
  {
   "cell_type": "markdown",
   "metadata": {},
   "source": [
    "Now that all unecessary columns have been removed from our dataframes and all data is aggregated by state, we are able to merge the three dataframes into a single united data frame `pop_case_elec`. Since we currently do not know that `State` keys are in a one to one relationship between each our tables we set the validate parameter to make sure. This prevents data being dropped or duplicated without an error in our merged dataframe."
   ]
  },
  {
   "cell_type": "code",
   "execution_count": 11,
   "metadata": {},
   "outputs": [
    {
     "data": {
      "text/html": [
       "<div>\n",
       "<style scoped>\n",
       "    .dataframe tbody tr th:only-of-type {\n",
       "        vertical-align: middle;\n",
       "    }\n",
       "\n",
       "    .dataframe tbody tr th {\n",
       "        vertical-align: top;\n",
       "    }\n",
       "\n",
       "    .dataframe thead th {\n",
       "        text-align: right;\n",
       "    }\n",
       "</style>\n",
       "<table border=\"1\" class=\"dataframe\">\n",
       "  <thead>\n",
       "    <tr style=\"text-align: right;\">\n",
       "      <th></th>\n",
       "      <th>State</th>\n",
       "      <th>population</th>\n",
       "      <th>2020-01-22</th>\n",
       "      <th>2020-01-23</th>\n",
       "      <th>2020-01-24</th>\n",
       "      <th>2020-01-25</th>\n",
       "      <th>2020-01-26</th>\n",
       "      <th>2020-01-27</th>\n",
       "      <th>2020-01-28</th>\n",
       "      <th>2020-01-29</th>\n",
       "      <th>...</th>\n",
       "      <th>2021-07-14</th>\n",
       "      <th>2021-07-15</th>\n",
       "      <th>2021-07-16</th>\n",
       "      <th>2021-07-17</th>\n",
       "      <th>2021-07-18</th>\n",
       "      <th>2021-07-19</th>\n",
       "      <th>2021-07-20</th>\n",
       "      <th>2021-07-21</th>\n",
       "      <th>Clinton</th>\n",
       "      <th>Trump</th>\n",
       "    </tr>\n",
       "  </thead>\n",
       "  <tbody>\n",
       "    <tr>\n",
       "      <th>0</th>\n",
       "      <td>AK</td>\n",
       "      <td>731545</td>\n",
       "      <td>0</td>\n",
       "      <td>0</td>\n",
       "      <td>0</td>\n",
       "      <td>0</td>\n",
       "      <td>0</td>\n",
       "      <td>0</td>\n",
       "      <td>0</td>\n",
       "      <td>0</td>\n",
       "      <td>...</td>\n",
       "      <td>69189</td>\n",
       "      <td>69189</td>\n",
       "      <td>69453</td>\n",
       "      <td>69453</td>\n",
       "      <td>69453</td>\n",
       "      <td>69891</td>\n",
       "      <td>69891</td>\n",
       "      <td>70328</td>\n",
       "      <td>38</td>\n",
       "      <td>53</td>\n",
       "    </tr>\n",
       "    <tr>\n",
       "      <th>1</th>\n",
       "      <td>AL</td>\n",
       "      <td>4903185</td>\n",
       "      <td>0</td>\n",
       "      <td>0</td>\n",
       "      <td>0</td>\n",
       "      <td>0</td>\n",
       "      <td>0</td>\n",
       "      <td>0</td>\n",
       "      <td>0</td>\n",
       "      <td>0</td>\n",
       "      <td>...</td>\n",
       "      <td>556613</td>\n",
       "      <td>557578</td>\n",
       "      <td>558577</td>\n",
       "      <td>559478</td>\n",
       "      <td>560202</td>\n",
       "      <td>560920</td>\n",
       "      <td>562311</td>\n",
       "      <td>563943</td>\n",
       "      <td>35</td>\n",
       "      <td>63</td>\n",
       "    </tr>\n",
       "    <tr>\n",
       "      <th>2</th>\n",
       "      <td>AR</td>\n",
       "      <td>3017804</td>\n",
       "      <td>0</td>\n",
       "      <td>0</td>\n",
       "      <td>0</td>\n",
       "      <td>0</td>\n",
       "      <td>0</td>\n",
       "      <td>0</td>\n",
       "      <td>0</td>\n",
       "      <td>0</td>\n",
       "      <td>...</td>\n",
       "      <td>360259</td>\n",
       "      <td>361238</td>\n",
       "      <td>361238</td>\n",
       "      <td>361238</td>\n",
       "      <td>361238</td>\n",
       "      <td>365132</td>\n",
       "      <td>367007</td>\n",
       "      <td>367007</td>\n",
       "      <td>34</td>\n",
       "      <td>60</td>\n",
       "    </tr>\n",
       "    <tr>\n",
       "      <th>3</th>\n",
       "      <td>AZ</td>\n",
       "      <td>7278717</td>\n",
       "      <td>0</td>\n",
       "      <td>0</td>\n",
       "      <td>0</td>\n",
       "      <td>0</td>\n",
       "      <td>1</td>\n",
       "      <td>1</td>\n",
       "      <td>1</td>\n",
       "      <td>1</td>\n",
       "      <td>...</td>\n",
       "      <td>903852</td>\n",
       "      <td>904866</td>\n",
       "      <td>906117</td>\n",
       "      <td>906117</td>\n",
       "      <td>906117</td>\n",
       "      <td>909283</td>\n",
       "      <td>910437</td>\n",
       "      <td>911480</td>\n",
       "      <td>45</td>\n",
       "      <td>50</td>\n",
       "    </tr>\n",
       "    <tr>\n",
       "      <th>4</th>\n",
       "      <td>CA</td>\n",
       "      <td>39512223</td>\n",
       "      <td>0</td>\n",
       "      <td>0</td>\n",
       "      <td>0</td>\n",
       "      <td>0</td>\n",
       "      <td>2</td>\n",
       "      <td>3</td>\n",
       "      <td>3</td>\n",
       "      <td>4</td>\n",
       "      <td>...</td>\n",
       "      <td>3739625</td>\n",
       "      <td>3743242</td>\n",
       "      <td>3747897</td>\n",
       "      <td>3747897</td>\n",
       "      <td>3747897</td>\n",
       "      <td>3761997</td>\n",
       "      <td>3766720</td>\n",
       "      <td>3772006</td>\n",
       "      <td>62</td>\n",
       "      <td>33</td>\n",
       "    </tr>\n",
       "  </tbody>\n",
       "</table>\n",
       "<p>5 rows × 551 columns</p>\n",
       "</div>"
      ],
      "text/plain": [
       "  State  population  2020-01-22  2020-01-23  2020-01-24  2020-01-25  \\\n",
       "0    AK      731545           0           0           0           0   \n",
       "1    AL     4903185           0           0           0           0   \n",
       "2    AR     3017804           0           0           0           0   \n",
       "3    AZ     7278717           0           0           0           0   \n",
       "4    CA    39512223           0           0           0           0   \n",
       "\n",
       "   2020-01-26  2020-01-27  2020-01-28  2020-01-29  ...  2021-07-14  \\\n",
       "0           0           0           0           0  ...       69189   \n",
       "1           0           0           0           0  ...      556613   \n",
       "2           0           0           0           0  ...      360259   \n",
       "3           1           1           1           1  ...      903852   \n",
       "4           2           3           3           4  ...     3739625   \n",
       "\n",
       "   2021-07-15  2021-07-16  2021-07-17  2021-07-18  2021-07-19  2021-07-20  \\\n",
       "0       69189       69453       69453       69453       69891       69891   \n",
       "1      557578      558577      559478      560202      560920      562311   \n",
       "2      361238      361238      361238      361238      365132      367007   \n",
       "3      904866      906117      906117      906117      909283      910437   \n",
       "4     3743242     3747897     3747897     3747897     3761997     3766720   \n",
       "\n",
       "   2021-07-21  Clinton  Trump  \n",
       "0       70328       38     53  \n",
       "1      563943       35     63  \n",
       "2      367007       34     60  \n",
       "3      911480       45     50  \n",
       "4     3772006       62     33  \n",
       "\n",
       "[5 rows x 551 columns]"
      ]
     },
     "execution_count": 11,
     "metadata": {},
     "output_type": "execute_result"
    }
   ],
   "source": [
    "pop_case_elec = covid_state_population.merge(\n",
    "    covid_state_cases,\n",
    "    on='State',\n",
    "    validate='one_to_one'\n",
    ").merge(\n",
    "    election_data,\n",
    "    on='State',\n",
    "    validate='one_to_one'\n",
    ")\n",
    "\n",
    "pop_case_elec.head()"
   ]
  },
  {
   "cell_type": "markdown",
   "metadata": {},
   "source": [
    "The merge succeeded indicating a perfect match between data frames."
   ]
  },
  {
   "cell_type": "markdown",
   "metadata": {},
   "source": [
    "### Create Indicator clinton_win\n",
    "We next create an indicator variable, `clinton_win`, which is a boolean value true only if clinton received a greater percentage of votes and thus won the election. This may prove interesting if there is a stronger correlation in states where clinton or trump won than their actual percentage of votes. Along with python convention we rename columns that are not in snake case to match.\n"
   ]
  },
  {
   "cell_type": "code",
   "execution_count": 12,
   "metadata": {},
   "outputs": [
    {
     "data": {
      "text/html": [
       "<div>\n",
       "<style scoped>\n",
       "    .dataframe tbody tr th:only-of-type {\n",
       "        vertical-align: middle;\n",
       "    }\n",
       "\n",
       "    .dataframe tbody tr th {\n",
       "        vertical-align: top;\n",
       "    }\n",
       "\n",
       "    .dataframe thead th {\n",
       "        text-align: right;\n",
       "    }\n",
       "</style>\n",
       "<table border=\"1\" class=\"dataframe\">\n",
       "  <thead>\n",
       "    <tr style=\"text-align: right;\">\n",
       "      <th></th>\n",
       "      <th>state</th>\n",
       "      <th>population</th>\n",
       "      <th>2020-01-22</th>\n",
       "      <th>2020-01-23</th>\n",
       "      <th>2020-01-24</th>\n",
       "      <th>2020-01-25</th>\n",
       "      <th>2020-01-26</th>\n",
       "      <th>2020-01-27</th>\n",
       "      <th>2020-01-28</th>\n",
       "      <th>2020-01-29</th>\n",
       "      <th>...</th>\n",
       "      <th>2021-07-15</th>\n",
       "      <th>2021-07-16</th>\n",
       "      <th>2021-07-17</th>\n",
       "      <th>2021-07-18</th>\n",
       "      <th>2021-07-19</th>\n",
       "      <th>2021-07-20</th>\n",
       "      <th>2021-07-21</th>\n",
       "      <th>clinton</th>\n",
       "      <th>trump</th>\n",
       "      <th>clinton_win</th>\n",
       "    </tr>\n",
       "  </thead>\n",
       "  <tbody>\n",
       "    <tr>\n",
       "      <th>0</th>\n",
       "      <td>AK</td>\n",
       "      <td>731545</td>\n",
       "      <td>0</td>\n",
       "      <td>0</td>\n",
       "      <td>0</td>\n",
       "      <td>0</td>\n",
       "      <td>0</td>\n",
       "      <td>0</td>\n",
       "      <td>0</td>\n",
       "      <td>0</td>\n",
       "      <td>...</td>\n",
       "      <td>69189</td>\n",
       "      <td>69453</td>\n",
       "      <td>69453</td>\n",
       "      <td>69453</td>\n",
       "      <td>69891</td>\n",
       "      <td>69891</td>\n",
       "      <td>70328</td>\n",
       "      <td>38</td>\n",
       "      <td>53</td>\n",
       "      <td>False</td>\n",
       "    </tr>\n",
       "    <tr>\n",
       "      <th>1</th>\n",
       "      <td>AL</td>\n",
       "      <td>4903185</td>\n",
       "      <td>0</td>\n",
       "      <td>0</td>\n",
       "      <td>0</td>\n",
       "      <td>0</td>\n",
       "      <td>0</td>\n",
       "      <td>0</td>\n",
       "      <td>0</td>\n",
       "      <td>0</td>\n",
       "      <td>...</td>\n",
       "      <td>557578</td>\n",
       "      <td>558577</td>\n",
       "      <td>559478</td>\n",
       "      <td>560202</td>\n",
       "      <td>560920</td>\n",
       "      <td>562311</td>\n",
       "      <td>563943</td>\n",
       "      <td>35</td>\n",
       "      <td>63</td>\n",
       "      <td>False</td>\n",
       "    </tr>\n",
       "    <tr>\n",
       "      <th>2</th>\n",
       "      <td>AR</td>\n",
       "      <td>3017804</td>\n",
       "      <td>0</td>\n",
       "      <td>0</td>\n",
       "      <td>0</td>\n",
       "      <td>0</td>\n",
       "      <td>0</td>\n",
       "      <td>0</td>\n",
       "      <td>0</td>\n",
       "      <td>0</td>\n",
       "      <td>...</td>\n",
       "      <td>361238</td>\n",
       "      <td>361238</td>\n",
       "      <td>361238</td>\n",
       "      <td>361238</td>\n",
       "      <td>365132</td>\n",
       "      <td>367007</td>\n",
       "      <td>367007</td>\n",
       "      <td>34</td>\n",
       "      <td>60</td>\n",
       "      <td>False</td>\n",
       "    </tr>\n",
       "    <tr>\n",
       "      <th>3</th>\n",
       "      <td>AZ</td>\n",
       "      <td>7278717</td>\n",
       "      <td>0</td>\n",
       "      <td>0</td>\n",
       "      <td>0</td>\n",
       "      <td>0</td>\n",
       "      <td>1</td>\n",
       "      <td>1</td>\n",
       "      <td>1</td>\n",
       "      <td>1</td>\n",
       "      <td>...</td>\n",
       "      <td>904866</td>\n",
       "      <td>906117</td>\n",
       "      <td>906117</td>\n",
       "      <td>906117</td>\n",
       "      <td>909283</td>\n",
       "      <td>910437</td>\n",
       "      <td>911480</td>\n",
       "      <td>45</td>\n",
       "      <td>50</td>\n",
       "      <td>False</td>\n",
       "    </tr>\n",
       "    <tr>\n",
       "      <th>4</th>\n",
       "      <td>CA</td>\n",
       "      <td>39512223</td>\n",
       "      <td>0</td>\n",
       "      <td>0</td>\n",
       "      <td>0</td>\n",
       "      <td>0</td>\n",
       "      <td>2</td>\n",
       "      <td>3</td>\n",
       "      <td>3</td>\n",
       "      <td>4</td>\n",
       "      <td>...</td>\n",
       "      <td>3743242</td>\n",
       "      <td>3747897</td>\n",
       "      <td>3747897</td>\n",
       "      <td>3747897</td>\n",
       "      <td>3761997</td>\n",
       "      <td>3766720</td>\n",
       "      <td>3772006</td>\n",
       "      <td>62</td>\n",
       "      <td>33</td>\n",
       "      <td>True</td>\n",
       "    </tr>\n",
       "  </tbody>\n",
       "</table>\n",
       "<p>5 rows × 552 columns</p>\n",
       "</div>"
      ],
      "text/plain": [
       "  state  population  2020-01-22  2020-01-23  2020-01-24  2020-01-25  \\\n",
       "0    AK      731545           0           0           0           0   \n",
       "1    AL     4903185           0           0           0           0   \n",
       "2    AR     3017804           0           0           0           0   \n",
       "3    AZ     7278717           0           0           0           0   \n",
       "4    CA    39512223           0           0           0           0   \n",
       "\n",
       "   2020-01-26  2020-01-27  2020-01-28  2020-01-29  ...  2021-07-15  \\\n",
       "0           0           0           0           0  ...       69189   \n",
       "1           0           0           0           0  ...      557578   \n",
       "2           0           0           0           0  ...      361238   \n",
       "3           1           1           1           1  ...      904866   \n",
       "4           2           3           3           4  ...     3743242   \n",
       "\n",
       "   2021-07-16  2021-07-17  2021-07-18  2021-07-19  2021-07-20  2021-07-21  \\\n",
       "0       69453       69453       69453       69891       69891       70328   \n",
       "1      558577      559478      560202      560920      562311      563943   \n",
       "2      361238      361238      361238      365132      367007      367007   \n",
       "3      906117      906117      906117      909283      910437      911480   \n",
       "4     3747897     3747897     3747897     3761997     3766720     3772006   \n",
       "\n",
       "   clinton  trump  clinton_win  \n",
       "0       38     53        False  \n",
       "1       35     63        False  \n",
       "2       34     60        False  \n",
       "3       45     50        False  \n",
       "4       62     33         True  \n",
       "\n",
       "[5 rows x 552 columns]"
      ]
     },
     "execution_count": 12,
     "metadata": {},
     "output_type": "execute_result"
    }
   ],
   "source": [
    "pop_case_elec['clinton_win'] = pop_case_elec['Clinton'] > pop_case_elec['Trump']\n",
    "\n",
    "pop_case_elec = pop_case_elec.rename( columns={ 'State':'state', 'Clinton':'clinton', 'Trump':'trump' } )\n",
    "\n",
    "pop_case_elec.head()"
   ]
  },
  {
   "cell_type": "markdown",
   "metadata": {},
   "source": [
    "Our indicator variable can be seen at the end of the dataframe and makes sense given the percentages left of each."
   ]
  },
  {
   "cell_type": "markdown",
   "metadata": {},
   "source": [
    "### Cases Time Series"
   ]
  },
  {
   "cell_type": "markdown",
   "metadata": {},
   "source": [
    "Some of our variables of interest are the current rate of increase in cases, average rate of increase, projected max cases, and projected max cases per capita. While we already have the time series data necessary in order to model, for convenience we seperate out time series into its own `cases_ts` dataframe setting the index to the `state` column and dropping `population` as we won't need it."
   ]
  },
  {
   "cell_type": "code",
   "execution_count": 13,
   "metadata": {},
   "outputs": [
    {
     "data": {
      "text/html": [
       "<div>\n",
       "<style scoped>\n",
       "    .dataframe tbody tr th:only-of-type {\n",
       "        vertical-align: middle;\n",
       "    }\n",
       "\n",
       "    .dataframe tbody tr th {\n",
       "        vertical-align: top;\n",
       "    }\n",
       "\n",
       "    .dataframe thead th {\n",
       "        text-align: right;\n",
       "    }\n",
       "</style>\n",
       "<table border=\"1\" class=\"dataframe\">\n",
       "  <thead>\n",
       "    <tr style=\"text-align: right;\">\n",
       "      <th></th>\n",
       "      <th>2020-01-22</th>\n",
       "      <th>2020-01-23</th>\n",
       "      <th>2020-01-24</th>\n",
       "      <th>2020-01-25</th>\n",
       "      <th>2020-01-26</th>\n",
       "      <th>2020-01-27</th>\n",
       "      <th>2020-01-28</th>\n",
       "      <th>2020-01-29</th>\n",
       "      <th>2020-01-30</th>\n",
       "      <th>2020-01-31</th>\n",
       "      <th>...</th>\n",
       "      <th>2021-07-12</th>\n",
       "      <th>2021-07-13</th>\n",
       "      <th>2021-07-14</th>\n",
       "      <th>2021-07-15</th>\n",
       "      <th>2021-07-16</th>\n",
       "      <th>2021-07-17</th>\n",
       "      <th>2021-07-18</th>\n",
       "      <th>2021-07-19</th>\n",
       "      <th>2021-07-20</th>\n",
       "      <th>2021-07-21</th>\n",
       "    </tr>\n",
       "    <tr>\n",
       "      <th>state</th>\n",
       "      <th></th>\n",
       "      <th></th>\n",
       "      <th></th>\n",
       "      <th></th>\n",
       "      <th></th>\n",
       "      <th></th>\n",
       "      <th></th>\n",
       "      <th></th>\n",
       "      <th></th>\n",
       "      <th></th>\n",
       "      <th></th>\n",
       "      <th></th>\n",
       "      <th></th>\n",
       "      <th></th>\n",
       "      <th></th>\n",
       "      <th></th>\n",
       "      <th></th>\n",
       "      <th></th>\n",
       "      <th></th>\n",
       "      <th></th>\n",
       "      <th></th>\n",
       "    </tr>\n",
       "  </thead>\n",
       "  <tbody>\n",
       "    <tr>\n",
       "      <th>AK</th>\n",
       "      <td>0</td>\n",
       "      <td>0</td>\n",
       "      <td>0</td>\n",
       "      <td>0</td>\n",
       "      <td>0</td>\n",
       "      <td>0</td>\n",
       "      <td>0</td>\n",
       "      <td>0</td>\n",
       "      <td>0</td>\n",
       "      <td>0</td>\n",
       "      <td>...</td>\n",
       "      <td>68977</td>\n",
       "      <td>68977</td>\n",
       "      <td>69189</td>\n",
       "      <td>69189</td>\n",
       "      <td>69453</td>\n",
       "      <td>69453</td>\n",
       "      <td>69453</td>\n",
       "      <td>69891</td>\n",
       "      <td>69891</td>\n",
       "      <td>70328</td>\n",
       "    </tr>\n",
       "    <tr>\n",
       "      <th>AL</th>\n",
       "      <td>0</td>\n",
       "      <td>0</td>\n",
       "      <td>0</td>\n",
       "      <td>0</td>\n",
       "      <td>0</td>\n",
       "      <td>0</td>\n",
       "      <td>0</td>\n",
       "      <td>0</td>\n",
       "      <td>0</td>\n",
       "      <td>0</td>\n",
       "      <td>...</td>\n",
       "      <td>555215</td>\n",
       "      <td>555215</td>\n",
       "      <td>556613</td>\n",
       "      <td>557578</td>\n",
       "      <td>558577</td>\n",
       "      <td>559478</td>\n",
       "      <td>560202</td>\n",
       "      <td>560920</td>\n",
       "      <td>562311</td>\n",
       "      <td>563943</td>\n",
       "    </tr>\n",
       "    <tr>\n",
       "      <th>AR</th>\n",
       "      <td>0</td>\n",
       "      <td>0</td>\n",
       "      <td>0</td>\n",
       "      <td>0</td>\n",
       "      <td>0</td>\n",
       "      <td>0</td>\n",
       "      <td>0</td>\n",
       "      <td>0</td>\n",
       "      <td>0</td>\n",
       "      <td>0</td>\n",
       "      <td>...</td>\n",
       "      <td>355460</td>\n",
       "      <td>358951</td>\n",
       "      <td>360259</td>\n",
       "      <td>361238</td>\n",
       "      <td>361238</td>\n",
       "      <td>361238</td>\n",
       "      <td>361238</td>\n",
       "      <td>365132</td>\n",
       "      <td>367007</td>\n",
       "      <td>367007</td>\n",
       "    </tr>\n",
       "    <tr>\n",
       "      <th>AZ</th>\n",
       "      <td>0</td>\n",
       "      <td>0</td>\n",
       "      <td>0</td>\n",
       "      <td>0</td>\n",
       "      <td>1</td>\n",
       "      <td>1</td>\n",
       "      <td>1</td>\n",
       "      <td>1</td>\n",
       "      <td>1</td>\n",
       "      <td>1</td>\n",
       "      <td>...</td>\n",
       "      <td>901562</td>\n",
       "      <td>901907</td>\n",
       "      <td>903852</td>\n",
       "      <td>904866</td>\n",
       "      <td>906117</td>\n",
       "      <td>906117</td>\n",
       "      <td>906117</td>\n",
       "      <td>909283</td>\n",
       "      <td>910437</td>\n",
       "      <td>911480</td>\n",
       "    </tr>\n",
       "    <tr>\n",
       "      <th>CA</th>\n",
       "      <td>0</td>\n",
       "      <td>0</td>\n",
       "      <td>0</td>\n",
       "      <td>0</td>\n",
       "      <td>2</td>\n",
       "      <td>3</td>\n",
       "      <td>3</td>\n",
       "      <td>4</td>\n",
       "      <td>4</td>\n",
       "      <td>4</td>\n",
       "      <td>...</td>\n",
       "      <td>3736534</td>\n",
       "      <td>3736534</td>\n",
       "      <td>3739625</td>\n",
       "      <td>3743242</td>\n",
       "      <td>3747897</td>\n",
       "      <td>3747897</td>\n",
       "      <td>3747897</td>\n",
       "      <td>3761997</td>\n",
       "      <td>3766720</td>\n",
       "      <td>3772006</td>\n",
       "    </tr>\n",
       "  </tbody>\n",
       "</table>\n",
       "<p>5 rows × 547 columns</p>\n",
       "</div>"
      ],
      "text/plain": [
       "       2020-01-22  2020-01-23  2020-01-24  2020-01-25  2020-01-26  2020-01-27  \\\n",
       "state                                                                           \n",
       "AK              0           0           0           0           0           0   \n",
       "AL              0           0           0           0           0           0   \n",
       "AR              0           0           0           0           0           0   \n",
       "AZ              0           0           0           0           1           1   \n",
       "CA              0           0           0           0           2           3   \n",
       "\n",
       "       2020-01-28  2020-01-29  2020-01-30  2020-01-31  ...  2021-07-12  \\\n",
       "state                                                  ...               \n",
       "AK              0           0           0           0  ...       68977   \n",
       "AL              0           0           0           0  ...      555215   \n",
       "AR              0           0           0           0  ...      355460   \n",
       "AZ              1           1           1           1  ...      901562   \n",
       "CA              3           4           4           4  ...     3736534   \n",
       "\n",
       "       2021-07-13  2021-07-14  2021-07-15  2021-07-16  2021-07-17  2021-07-18  \\\n",
       "state                                                                           \n",
       "AK          68977       69189       69189       69453       69453       69453   \n",
       "AL         555215      556613      557578      558577      559478      560202   \n",
       "AR         358951      360259      361238      361238      361238      361238   \n",
       "AZ         901907      903852      904866      906117      906117      906117   \n",
       "CA        3736534     3739625     3743242     3747897     3747897     3747897   \n",
       "\n",
       "       2021-07-19  2021-07-20  2021-07-21  \n",
       "state                                      \n",
       "AK          69891       69891       70328  \n",
       "AL         560920      562311      563943  \n",
       "AR         365132      367007      367007  \n",
       "AZ         909283      910437      911480  \n",
       "CA        3761997     3766720     3772006  \n",
       "\n",
       "[5 rows x 547 columns]"
      ]
     },
     "execution_count": 13,
     "metadata": {},
     "output_type": "execute_result"
    }
   ],
   "source": [
    "cases_ts = pop_case_elec.loc[:, 'state':'2021-07-21']\n",
    "\n",
    "cases_ts = cases_ts.set_index('state')\n",
    "\n",
    "cases_ts = cases_ts.drop(columns=['population'])\n",
    "\n",
    "cases_ts.head()"
   ]
  },
  {
   "cell_type": "markdown",
   "metadata": {},
   "source": [
    "Our `cases_ts` dataframe is now much more usable containing only cases as values."
   ]
  },
  {
   "cell_type": "markdown",
   "metadata": {},
   "source": [
    "## Case Projections"
   ]
  },
  {
   "cell_type": "markdown",
   "metadata": {},
   "source": [
    "### Modeling Utilities"
   ]
  },
  {
   "cell_type": "markdown",
   "metadata": {},
   "source": [
    "In order to the calculate projected cases and projected cases per capita, we will need to build a model using our cases timeseries. To abstract away some of the complexity during analysis we created a function that uses the `curve_fit` method of the `scipy.optimize` module and returns everything we need for plotting and projection. It does so by fitting a the input model and returning the calculated betas then using the model with its calculated betas to find the projected dependants."
   ]
  },
  {
   "cell_type": "code",
   "execution_count": 14,
   "metadata": {},
   "outputs": [],
   "source": [
    "from scipy.optimize import curve_fit\n",
    "\n",
    "def build_model( model, x_data, y_data ):\n",
    "    found_betas = []\n",
    "    covariance  = 0\n",
    "    x_points    = x_data.shape[0]\n",
    "    \n",
    "    found_betas, covariance = curve_fit( model, x_data, y_data )\n",
    "    \n",
    "    x_proj = np.linspace( 0, x_points, num=x_points )\n",
    "    y_proj = model( x_proj, *found_betas )\n",
    "        \n",
    "    return found_betas, covariance, x_proj, y_proj"
   ]
  },
  {
   "cell_type": "markdown",
   "metadata": {},
   "source": [
    "Now that we have a modeling utility, we need to decide on a model to use for case projections. For simplicities sake, we begin with a logistic model. The function below implements a logistic model."
   ]
  },
  {
   "cell_type": "code",
   "execution_count": 15,
   "metadata": {},
   "outputs": [],
   "source": [
    "def logistic_model( x, beta_0, beta_1, beta_2 ):\n",
    "    return beta_0 / (1 + np.exp(beta_1 * ( beta_2 - x ))) "
   ]
  },
  {
   "cell_type": "markdown",
   "metadata": {},
   "source": [
    "### Projected Max Cases Visualization"
   ]
  },
  {
   "cell_type": "markdown",
   "metadata": {},
   "source": [
    "To test that our model builder is working we create a visualizaton with it. We take the massachusetts case data as `ma_cases`, provide a some arbitrary x values as `days`, and pass them to `build_model` with our logistic model."
   ]
  },
  {
   "cell_type": "code",
   "execution_count": 16,
   "metadata": {},
   "outputs": [
    {
     "data": {
      "image/png": "[encoded data removed]",
      "text/plain": [
       "<Figure size 432x288 with 1 Axes>"
      ]
     },
     "metadata": {
      "needs_background": "light"
     },
     "output_type": "display_data"
    },
    {
     "name": "stdout",
     "output_type": "stream",
     "text": [
      "PROJECTED MAX CASES:\n",
      "707421.0\n"
     ]
    }
   ],
   "source": [
    "ma_cases = cases_ts.loc['MA']\n",
    "\n",
    "num_days = ma_cases.shape[0]\n",
    "days = np.linspace( 0, num_days, num=num_days )\n",
    "\n",
    "found_betas, covariance, x_proj, y_proj = build_model( logistic_model, days, ma_cases )\n",
    "\n",
    "\n",
    "_ = sns.lineplot( x=x_proj, y=y_proj, color='Green' )\n",
    "_ = sns.lineplot( x=days, y=ma_cases, color='Orange')\n",
    "\n",
    "_ = plt.xlabel('Days')\n",
    "_ = plt.ylabel('Cases')\n",
    "\n",
    "\n",
    "plt.show()\n",
    "\n",
    "print('PROJECTED MAX CASES:')\n",
    "print(np.round(np.max(y_proj)))"
   ]
  },
  {
   "cell_type": "markdown",
   "metadata": {},
   "source": [
    "Based off this result, we can see our logistic model (in orange) appears to be working and matches the timeseries data pretty well. It will do for our projected cases variable."
   ]
  },
  {
   "cell_type": "markdown",
   "metadata": {},
   "source": [
    "### Add Calculated Variables"
   ]
  },
  {
   "cell_type": "markdown",
   "metadata": {},
   "source": [
    "The first calculated variable we will add is the `projected_max` variable. In order to add the projected maxes to our dataframe we will use a custom aggregation function. This function will take in a list of y_data and return the projected max."
   ]
  },
  {
   "cell_type": "code",
   "execution_count": 17,
   "metadata": {},
   "outputs": [],
   "source": [
    "def project_max( y_data ):\n",
    "    x_len = y_data.shape[0]\n",
    "    \n",
    "    x_data = np.linspace( 0, x_len, num=x_len )\n",
    "    \n",
    "    found_betas, covariance, x_proj, y_proj = build_model( logistic_model, x_data, y_data )\n",
    "    \n",
    "    return np.round(np.max(y_proj))"
   ]
  },
  {
   "cell_type": "markdown",
   "metadata": {},
   "source": [
    "Next we pass our function into an aggregation which results in a series of projected maxes for each state that we then merge into our main dataframe."
   ]
  },
  {
   "cell_type": "code",
   "execution_count": 18,
   "metadata": {
    "scrolled": true
   },
   "outputs": [
    {
     "name": "stderr",
     "output_type": "stream",
     "text": [
      "<ipython-input-15-6f2958086ae9>:2: RuntimeWarning: overflow encountered in exp\n",
      "  return beta_0 / (1 + np.exp(beta_1 * ( beta_2 - x )))\n"
     ]
    }
   ],
   "source": [
    "projected = cases_ts.aggregate( func=project_max, axis=1 )\n",
    "\n",
    "pop_case_elec = pop_case_elec.merge( projected.to_frame(name='projected_max'), on='state')"
   ]
  },
  {
   "cell_type": "markdown",
   "metadata": {},
   "source": [
    "Using our new `projected_max` column we can calculate the projected max per capita by dividing it by the population."
   ]
  },
  {
   "cell_type": "code",
   "execution_count": 19,
   "metadata": {},
   "outputs": [],
   "source": [
    "pop_case_elec['projected_max_per_cap'] = pop_case_elec['projected_max'] / pop_case_elec['population'] "
   ]
  },
  {
   "cell_type": "markdown",
   "metadata": {},
   "source": [
    "Another variable that will need to be extrapolated from the data is the time of max increase. This will require another aggregation function. This function will return the the second beta calculated by out `build_model` function which is the time of max increase."
   ]
  },
  {
   "cell_type": "code",
   "execution_count": 20,
   "metadata": {},
   "outputs": [],
   "source": [
    "def get_max_increase( y_data ):\n",
    "    x_len = y_data.shape[0]\n",
    "    \n",
    "    x_data = np.linspace( 0, x_len, num=x_len )\n",
    "    \n",
    "    found_betas, covariance, x_proj, y_proj = build_model( logistic_model, x_data, y_data )\n",
    "    \n",
    "    return found_betas[2]"
   ]
  },
  {
   "cell_type": "markdown",
   "metadata": {},
   "source": [
    "Just as we did for the `projected_max` we use the aggregation function to create a series of the time of max increase for each state. We then join it with our main `pop_case_elec` dataframe naming it `time_max_increase`."
   ]
  },
  {
   "cell_type": "code",
   "execution_count": 21,
   "metadata": {},
   "outputs": [
    {
     "name": "stderr",
     "output_type": "stream",
     "text": [
      "<ipython-input-15-6f2958086ae9>:2: RuntimeWarning: overflow encountered in exp\n",
      "  return beta_0 / (1 + np.exp(beta_1 * ( beta_2 - x )))\n"
     ]
    }
   ],
   "source": [
    "max_increase = cases_ts.aggregate( func=get_max_increase, axis=1 )\n",
    "\n",
    "pop_case_elec = pop_case_elec.merge( max_increase.to_frame(name='time_max_increase'), on='state')"
   ]
  },
  {
   "cell_type": "markdown",
   "metadata": {},
   "source": [
    "Continueing on, we add the average rate of increase which can be found by dividing the current total cases on 2021-07-21 by the total number of days in the dataset as done below. We add it to the `pop_case_elec` dataframe as `avg_rate_increase`."
   ]
  },
  {
   "cell_type": "code",
   "execution_count": 22,
   "metadata": {},
   "outputs": [],
   "source": [
    "total_days = pop_case_elec.shape[1]\n",
    "\n",
    "pop_case_elec['avg_rate_increase'] = pop_case_elec['2021-07-21'] / total_days"
   ]
  },
  {
   "cell_type": "markdown",
   "metadata": {},
   "source": [
    "The calculated variable pair that we need are the total cases and total cases per capita. We know that the number of cases for the most recent day is the sum of all cases so we merely add the same column renamed as `total_cases`. Just as we did with the projected max per capita we can device this by the population to get the total cases per capita which we name `total_cases_per_cap`."
   ]
  },
  {
   "cell_type": "code",
   "execution_count": 23,
   "metadata": {},
   "outputs": [],
   "source": [
    "pop_case_elec['total_cases']   = pop_case_elec['2021-07-21']\n",
    "pop_case_elec['total_cases_per_cap'] = pop_case_elec['total_cases'] / pop_case_elec['population']"
   ]
  },
  {
   "cell_type": "markdown",
   "metadata": {},
   "source": [
    "Finally, we check to make sure that each of our new columns has been added correctly."
   ]
  },
  {
   "cell_type": "code",
   "execution_count": 24,
   "metadata": {},
   "outputs": [
    {
     "data": {
      "text/html": [
       "<div>\n",
       "<style scoped>\n",
       "    .dataframe tbody tr th:only-of-type {\n",
       "        vertical-align: middle;\n",
       "    }\n",
       "\n",
       "    .dataframe tbody tr th {\n",
       "        vertical-align: top;\n",
       "    }\n",
       "\n",
       "    .dataframe thead th {\n",
       "        text-align: right;\n",
       "    }\n",
       "</style>\n",
       "<table border=\"1\" class=\"dataframe\">\n",
       "  <thead>\n",
       "    <tr style=\"text-align: right;\">\n",
       "      <th></th>\n",
       "      <th>state</th>\n",
       "      <th>population</th>\n",
       "      <th>2020-01-22</th>\n",
       "      <th>2020-01-23</th>\n",
       "      <th>2020-01-24</th>\n",
       "      <th>2020-01-25</th>\n",
       "      <th>2020-01-26</th>\n",
       "      <th>2020-01-27</th>\n",
       "      <th>2020-01-28</th>\n",
       "      <th>2020-01-29</th>\n",
       "      <th>...</th>\n",
       "      <th>2021-07-21</th>\n",
       "      <th>clinton</th>\n",
       "      <th>trump</th>\n",
       "      <th>clinton_win</th>\n",
       "      <th>projected_max</th>\n",
       "      <th>projected_max_per_cap</th>\n",
       "      <th>time_max_increase</th>\n",
       "      <th>avg_rate_increase</th>\n",
       "      <th>total_cases</th>\n",
       "      <th>total_cases_per_cap</th>\n",
       "    </tr>\n",
       "  </thead>\n",
       "  <tbody>\n",
       "    <tr>\n",
       "      <th>0</th>\n",
       "      <td>AK</td>\n",
       "      <td>731545</td>\n",
       "      <td>0</td>\n",
       "      <td>0</td>\n",
       "      <td>0</td>\n",
       "      <td>0</td>\n",
       "      <td>0</td>\n",
       "      <td>0</td>\n",
       "      <td>0</td>\n",
       "      <td>0</td>\n",
       "      <td>...</td>\n",
       "      <td>70328</td>\n",
       "      <td>38</td>\n",
       "      <td>53</td>\n",
       "      <td>False</td>\n",
       "      <td>66762.0</td>\n",
       "      <td>0.091262</td>\n",
       "      <td>324.094779</td>\n",
       "      <td>126.717117</td>\n",
       "      <td>70328</td>\n",
       "      <td>0.096136</td>\n",
       "    </tr>\n",
       "    <tr>\n",
       "      <th>1</th>\n",
       "      <td>AL</td>\n",
       "      <td>4903185</td>\n",
       "      <td>0</td>\n",
       "      <td>0</td>\n",
       "      <td>0</td>\n",
       "      <td>0</td>\n",
       "      <td>0</td>\n",
       "      <td>0</td>\n",
       "      <td>0</td>\n",
       "      <td>0</td>\n",
       "      <td>...</td>\n",
       "      <td>563943</td>\n",
       "      <td>35</td>\n",
       "      <td>63</td>\n",
       "      <td>False</td>\n",
       "      <td>563927.0</td>\n",
       "      <td>0.115012</td>\n",
       "      <td>313.146175</td>\n",
       "      <td>1016.113514</td>\n",
       "      <td>563943</td>\n",
       "      <td>0.115016</td>\n",
       "    </tr>\n",
       "    <tr>\n",
       "      <th>2</th>\n",
       "      <td>AR</td>\n",
       "      <td>3017804</td>\n",
       "      <td>0</td>\n",
       "      <td>0</td>\n",
       "      <td>0</td>\n",
       "      <td>0</td>\n",
       "      <td>0</td>\n",
       "      <td>0</td>\n",
       "      <td>0</td>\n",
       "      <td>0</td>\n",
       "      <td>...</td>\n",
       "      <td>367007</td>\n",
       "      <td>34</td>\n",
       "      <td>60</td>\n",
       "      <td>False</td>\n",
       "      <td>355632.0</td>\n",
       "      <td>0.117845</td>\n",
       "      <td>315.169105</td>\n",
       "      <td>661.273874</td>\n",
       "      <td>367007</td>\n",
       "      <td>0.121614</td>\n",
       "    </tr>\n",
       "    <tr>\n",
       "      <th>3</th>\n",
       "      <td>AZ</td>\n",
       "      <td>7278717</td>\n",
       "      <td>0</td>\n",
       "      <td>0</td>\n",
       "      <td>0</td>\n",
       "      <td>0</td>\n",
       "      <td>1</td>\n",
       "      <td>1</td>\n",
       "      <td>1</td>\n",
       "      <td>1</td>\n",
       "      <td>...</td>\n",
       "      <td>911480</td>\n",
       "      <td>45</td>\n",
       "      <td>50</td>\n",
       "      <td>False</td>\n",
       "      <td>929619.0</td>\n",
       "      <td>0.127717</td>\n",
       "      <td>325.236745</td>\n",
       "      <td>1642.306306</td>\n",
       "      <td>911480</td>\n",
       "      <td>0.125225</td>\n",
       "    </tr>\n",
       "    <tr>\n",
       "      <th>4</th>\n",
       "      <td>CA</td>\n",
       "      <td>39512223</td>\n",
       "      <td>0</td>\n",
       "      <td>0</td>\n",
       "      <td>0</td>\n",
       "      <td>0</td>\n",
       "      <td>2</td>\n",
       "      <td>3</td>\n",
       "      <td>3</td>\n",
       "      <td>4</td>\n",
       "      <td>...</td>\n",
       "      <td>3772006</td>\n",
       "      <td>62</td>\n",
       "      <td>33</td>\n",
       "      <td>True</td>\n",
       "      <td>3842270.0</td>\n",
       "      <td>0.097243</td>\n",
       "      <td>325.636517</td>\n",
       "      <td>6796.407207</td>\n",
       "      <td>3772006</td>\n",
       "      <td>0.095464</td>\n",
       "    </tr>\n",
       "  </tbody>\n",
       "</table>\n",
       "<p>5 rows × 558 columns</p>\n",
       "</div>"
      ],
      "text/plain": [
       "  state  population  2020-01-22  2020-01-23  2020-01-24  2020-01-25  \\\n",
       "0    AK      731545           0           0           0           0   \n",
       "1    AL     4903185           0           0           0           0   \n",
       "2    AR     3017804           0           0           0           0   \n",
       "3    AZ     7278717           0           0           0           0   \n",
       "4    CA    39512223           0           0           0           0   \n",
       "\n",
       "   2020-01-26  2020-01-27  2020-01-28  2020-01-29  ...  2021-07-21  clinton  \\\n",
       "0           0           0           0           0  ...       70328       38   \n",
       "1           0           0           0           0  ...      563943       35   \n",
       "2           0           0           0           0  ...      367007       34   \n",
       "3           1           1           1           1  ...      911480       45   \n",
       "4           2           3           3           4  ...     3772006       62   \n",
       "\n",
       "   trump  clinton_win  projected_max  projected_max_per_cap  \\\n",
       "0     53        False        66762.0               0.091262   \n",
       "1     63        False       563927.0               0.115012   \n",
       "2     60        False       355632.0               0.117845   \n",
       "3     50        False       929619.0               0.127717   \n",
       "4     33         True      3842270.0               0.097243   \n",
       "\n",
       "   time_max_increase  avg_rate_increase  total_cases  total_cases_per_cap  \n",
       "0         324.094779         126.717117        70328             0.096136  \n",
       "1         313.146175        1016.113514       563943             0.115016  \n",
       "2         315.169105         661.273874       367007             0.121614  \n",
       "3         325.236745        1642.306306       911480             0.125225  \n",
       "4         325.636517        6796.407207      3772006             0.095464  \n",
       "\n",
       "[5 rows x 558 columns]"
      ]
     },
     "execution_count": 24,
     "metadata": {},
     "output_type": "execute_result"
    }
   ],
   "source": [
    "pop_case_elec.head()"
   ]
  },
  {
   "cell_type": "markdown",
   "metadata": {},
   "source": [
    "We can confirm that each of our new variables has been added succesfully. Now we can move on to model and statistical analysis planning."
   ]
  },
  {
   "cell_type": "markdown",
   "metadata": {},
   "source": [
    "# Model Planning"
   ]
  },
  {
   "cell_type": "markdown",
   "metadata": {},
   "source": [
    "### Summary Dataframe\n",
    "\n",
    "For our statistical analysis we begin by searching for relations and functions in the data. To do this, we create a summary dataframe that includes each of our variables of interest along with the indicator `clinton_win`. This is done by slicing them from our main `pop_case_elec` data frame, and assigning it to `sum_pop_case_elec`."
   ]
  },
  {
   "cell_type": "code",
   "execution_count": 25,
   "metadata": {},
   "outputs": [
    {
     "data": {
      "text/html": [
       "<div>\n",
       "<style scoped>\n",
       "    .dataframe tbody tr th:only-of-type {\n",
       "        vertical-align: middle;\n",
       "    }\n",
       "\n",
       "    .dataframe tbody tr th {\n",
       "        vertical-align: top;\n",
       "    }\n",
       "\n",
       "    .dataframe thead th {\n",
       "        text-align: right;\n",
       "    }\n",
       "</style>\n",
       "<table border=\"1\" class=\"dataframe\">\n",
       "  <thead>\n",
       "    <tr style=\"text-align: right;\">\n",
       "      <th></th>\n",
       "      <th>clinton</th>\n",
       "      <th>population</th>\n",
       "      <th>projected_max</th>\n",
       "      <th>projected_max_per_cap</th>\n",
       "      <th>time_max_increase</th>\n",
       "      <th>avg_rate_increase</th>\n",
       "      <th>total_cases</th>\n",
       "      <th>total_cases_per_cap</th>\n",
       "    </tr>\n",
       "  </thead>\n",
       "  <tbody>\n",
       "    <tr>\n",
       "      <th>0</th>\n",
       "      <td>38</td>\n",
       "      <td>731545</td>\n",
       "      <td>66762.0</td>\n",
       "      <td>0.091262</td>\n",
       "      <td>324.094779</td>\n",
       "      <td>126.717117</td>\n",
       "      <td>70328</td>\n",
       "      <td>0.096136</td>\n",
       "    </tr>\n",
       "    <tr>\n",
       "      <th>1</th>\n",
       "      <td>35</td>\n",
       "      <td>4903185</td>\n",
       "      <td>563927.0</td>\n",
       "      <td>0.115012</td>\n",
       "      <td>313.146175</td>\n",
       "      <td>1016.113514</td>\n",
       "      <td>563943</td>\n",
       "      <td>0.115016</td>\n",
       "    </tr>\n",
       "    <tr>\n",
       "      <th>2</th>\n",
       "      <td>34</td>\n",
       "      <td>3017804</td>\n",
       "      <td>355632.0</td>\n",
       "      <td>0.117845</td>\n",
       "      <td>315.169105</td>\n",
       "      <td>661.273874</td>\n",
       "      <td>367007</td>\n",
       "      <td>0.121614</td>\n",
       "    </tr>\n",
       "    <tr>\n",
       "      <th>3</th>\n",
       "      <td>45</td>\n",
       "      <td>7278717</td>\n",
       "      <td>929619.0</td>\n",
       "      <td>0.127717</td>\n",
       "      <td>325.236745</td>\n",
       "      <td>1642.306306</td>\n",
       "      <td>911480</td>\n",
       "      <td>0.125225</td>\n",
       "    </tr>\n",
       "    <tr>\n",
       "      <th>4</th>\n",
       "      <td>62</td>\n",
       "      <td>39512223</td>\n",
       "      <td>3842270.0</td>\n",
       "      <td>0.097243</td>\n",
       "      <td>325.636517</td>\n",
       "      <td>6796.407207</td>\n",
       "      <td>3772006</td>\n",
       "      <td>0.095464</td>\n",
       "    </tr>\n",
       "  </tbody>\n",
       "</table>\n",
       "</div>"
      ],
      "text/plain": [
       "   clinton  population  projected_max  projected_max_per_cap  \\\n",
       "0       38      731545        66762.0               0.091262   \n",
       "1       35     4903185       563927.0               0.115012   \n",
       "2       34     3017804       355632.0               0.117845   \n",
       "3       45     7278717       929619.0               0.127717   \n",
       "4       62    39512223      3842270.0               0.097243   \n",
       "\n",
       "   time_max_increase  avg_rate_increase  total_cases  total_cases_per_cap  \n",
       "0         324.094779         126.717117        70328             0.096136  \n",
       "1         313.146175        1016.113514       563943             0.115016  \n",
       "2         315.169105         661.273874       367007             0.121614  \n",
       "3         325.236745        1642.306306       911480             0.125225  \n",
       "4         325.636517        6796.407207      3772006             0.095464  "
      ]
     },
     "execution_count": 25,
     "metadata": {},
     "output_type": "execute_result"
    }
   ],
   "source": [
    "sum_pop_case_elec = pop_case_elec.loc[:, (\n",
    "    'clinton',\n",
    "    'population',\n",
    "    'projected_max',\n",
    "    'projected_max_per_cap',\n",
    "    'time_max_increase',\n",
    "    'avg_rate_increase',\n",
    "    'total_cases',\n",
    "    'total_cases_per_cap'\n",
    ")]\n",
    "\n",
    "sum_pop_case_elec.head()"
   ]
  },
  {
   "cell_type": "markdown",
   "metadata": {},
   "source": [
    "### Correlations\n",
    "Next, in order to search for relations we use a correlation heatmap created with seaborn. The map is colored via correlation coefficients. The spectral color scheme is used to essentially assign a color to subsets of coefficients. We look for anything around *less then -.4 (red)* and *greater then .4  green*."
   ]
  },
  {
   "cell_type": "code",
   "execution_count": 26,
   "metadata": {},
   "outputs": [
    {
     "data": {
      "image/png": "[encoded data removed]",
      "text/plain": [
       "<Figure size 432x288 with 2 Axes>"
      ]
     },
     "metadata": {
      "needs_background": "light"
     },
     "output_type": "display_data"
    }
   ],
   "source": [
    "_ = sns.heatmap( sum_pop_case_elec.corr(), cmap='Spectral', annot=True )\n",
    "\n",
    "_ = plt.title('Summary Variable Correlations')\n",
    "\n",
    "plt.show()"
   ]
  },
  {
   "cell_type": "markdown",
   "metadata": {},
   "source": [
    "In review of the heatmap's first row, we find a few potential relations:\n",
    "- clinton and projected_max_per_cap\n",
    "- clinton and time_max_increase\n",
    "- clinton and total_cases_per_cap\n",
    "\n",
    "In the next section we will test if these are indeed significant predictors of clinton's voting percentage."
   ]
  },
  {
   "cell_type": "markdown",
   "metadata": {},
   "source": [
    "# Model Building"
   ]
  },
  {
   "cell_type": "markdown",
   "metadata": {},
   "source": [
    "Before performing our hypothesis tests for the correlations noted, we must check to see if the data is normally distributed. To do this we will look at histograms of each vairable."
   ]
  },
  {
   "cell_type": "code",
   "execution_count": 27,
   "metadata": {},
   "outputs": [
    {
     "data": {
      "text/plain": [
       "<AxesSubplot:>"
      ]
     },
     "execution_count": 27,
     "metadata": {},
     "output_type": "execute_result"
    },
    {
     "data": {
      "image/png": "[encoded data removed]",
      "text/plain": [
       "<Figure size 432x288 with 1 Axes>"
      ]
     },
     "metadata": {
      "needs_background": "light"
     },
     "output_type": "display_data"
    }
   ],
   "source": [
    "sum_pop_case_elec['clinton'].hist()\n"
   ]
  },
  {
   "cell_type": "code",
   "execution_count": 36,
   "metadata": {},
   "outputs": [
    {
     "data": {
      "text/plain": [
       "<AxesSubplot:>"
      ]
     },
     "execution_count": 36,
     "metadata": {},
     "output_type": "execute_result"
    },
    {
     "data": {
      "image/png": "[encoded data removed]",
      "text/plain": [
       "<Figure size 432x288 with 1 Axes>"
      ]
     },
     "metadata": {
      "needs_background": "light"
     },
     "output_type": "display_data"
    }
   ],
   "source": [
    "sum_pop_case_elec['projected_max_per_cap'].hist()\n"
   ]
  },
  {
   "cell_type": "code",
   "execution_count": 38,
   "metadata": {},
   "outputs": [
    {
     "data": {
      "text/plain": [
       "<AxesSubplot:>"
      ]
     },
     "execution_count": 38,
     "metadata": {},
     "output_type": "execute_result"
    },
    {
     "data": {
      "image/png": "[encoded data removed]",
      "text/plain": [
       "<Figure size 432x288 with 1 Axes>"
      ]
     },
     "metadata": {
      "needs_background": "light"
     },
     "output_type": "display_data"
    }
   ],
   "source": [
    "sum_pop_case_elec['time_max_increase'].hist()"
   ]
  },
  {
   "cell_type": "code",
   "execution_count": 39,
   "metadata": {},
   "outputs": [
    {
     "data": {
      "text/plain": [
       "<AxesSubplot:>"
      ]
     },
     "execution_count": 39,
     "metadata": {},
     "output_type": "execute_result"
    },
    {
     "data": {
      "image/png": "[encoded data removed]",
      "text/plain": [
       "<Figure size 432x288 with 1 Axes>"
      ]
     },
     "metadata": {
      "needs_background": "light"
     },
     "output_type": "display_data"
    }
   ],
   "source": [
    "sum_pop_case_elec['total_cases_per_cap'].hist()"
   ]
  },
  {
   "cell_type": "markdown",
   "metadata": {},
   "source": [
    "We note the following:\n",
    "`clinton` contains an outlier,\n",
    "`projected_max_per_cap` is skewed left,\n",
    "`time_max_increase` is skewed right,\n",
    "`total_cases_per` is skewed left\n",
    "\n",
    "Taking these into consideration, we will proceed to assume the data is approximately normal for our hypothesis tests.\n"
   ]
  },
  {
   "cell_type": "markdown",
   "metadata": {},
   "source": [
    "We conducted a 2-population difference of means test for all correlations noted above. \n",
    "\n",
    "H0= A clinton win has no"
   ]
  },
  {
   "cell_type": "code",
   "execution_count": 37,
   "metadata": {},
   "outputs": [
    {
     "name": "stdout",
     "output_type": "stream",
     "text": [
      "1.3405018540523697e-30\n",
      "reject null hypothesis\n"
     ]
    }
   ],
   "source": [
    "sum_pop_case_elec[['clinton','projected_max_per_cap']].describe()\n",
    "\n",
    "ttest,pval = stats.ttest_rel(sum_pop_case_elec['clinton'],sum_pop_case_elec['projected_max_per_cap'])\n",
    "print(pval)\n",
    "\n",
    "if pval < .05:\n",
    "    print(\"reject null hypothesis\")\n",
    "else:\n",
    "    print(\"accept null hypothesis\")"
   ]
  },
  {
   "cell_type": "code",
   "execution_count": 30,
   "metadata": {},
   "outputs": [
    {
     "name": "stdout",
     "output_type": "stream",
     "text": [
      "7.03627890098623e-61\n",
      "reject null hypothesis\n"
     ]
    }
   ],
   "source": [
    "sum_pop_case_elec[['clinton','time_max_increase']].describe()\n",
    "\n",
    "ttest,pval = stats.ttest_rel(sum_pop_case_elec['clinton'],sum_pop_case_elec['time_max_increase'])\n",
    "print(pval)\n",
    "\n",
    "if pval < .05:\n",
    "    print(\"reject null hypothesis\")\n",
    "else:\n",
    "    print(\"accept null hypothesis\")"
   ]
  },
  {
   "cell_type": "code",
   "execution_count": 31,
   "metadata": {},
   "outputs": [
    {
     "name": "stdout",
     "output_type": "stream",
     "text": [
      "1.3513622264545238e-30\n",
      "reject null hypothesis\n"
     ]
    }
   ],
   "source": [
    "sum_pop_case_elec[['clinton','total_cases_per_cap']].describe()\n",
    "\n",
    "ttest,pval = stats.ttest_rel(sum_pop_case_elec['clinton'],sum_pop_case_elec['total_cases_per_cap'])\n",
    "print(pval)\n",
    "\n",
    "if pval < .05:\n",
    "    print(\"reject null hypothesis\")\n",
    "else:\n",
    "    print(\"accept null hypothesis\")"
   ]
  },
  {
   "cell_type": "code",
   "execution_count": null,
   "metadata": {},
   "outputs": [],
   "source": []
  }
 ],
 "metadata": {
  "interpreter": {
   "hash": "21b5ecb08e182715d5424c7d407a79d153a74f6a1e10389f9f3f1d9179d740e8"
  },
  "kernelspec": {
   "display_name": "Python 3",
   "language": "python",
   "name": "python3"
  },
  "language_info": {
   "codemirror_mode": {
    "name": "ipython",
    "version": 3
   },
   "file_extension": ".py",
   "mimetype": "text/x-python",
   "name": "python",
   "nbconvert_exporter": "python",
   "pygments_lexer": "ipython3",
   "version": "3.8.5"
  }
 },
 "nbformat": 4,
 "nbformat_minor": 4
}
